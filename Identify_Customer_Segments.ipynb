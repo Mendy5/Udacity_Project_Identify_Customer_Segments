{
 "cells": [
  {
   "cell_type": "markdown",
   "metadata": {},
   "source": [
    "# Project: Identify Customer Segments\n",
    "\n",
    "In this project, you will apply unsupervised learning techniques to identify segments of the population that form the core customer base for a mail-order sales company in Germany. These segments can then be used to direct marketing campaigns towards audiences that will have the highest expected rate of returns. The data that you will use has been provided by our partners at Bertelsmann Arvato Analytics, and represents a real-life data science task.\n",
    "\n",
    "This notebook will help you complete this task by providing a framework within which you will perform your analysis steps. In each step of the project, you will see some text describing the subtask that you will perform, followed by one or more code cells for you to complete your work. **Feel free to add additional code and markdown cells as you go along so that you can explore everything in precise chunks.** The code cells provided in the base template will outline only the major tasks, and will usually not be enough to cover all of the minor tasks that comprise it.\n",
    "\n",
    "It should be noted that while there will be precise guidelines on how you should handle certain tasks in the project, there will also be places where an exact specification is not provided. **There will be times in the project where you will need to make and justify your own decisions on how to treat the data.** These are places where there may not be only one way to handle the data. In real-life tasks, there may be many valid ways to approach an analysis task. One of the most important things you can do is clearly document your approach so that other scientists can understand the decisions you've made.\n",
    "\n",
    "At the end of most sections, there will be a Markdown cell labeled **Discussion**. In these cells, you will report your findings for the completed section, as well as document the decisions that you made in your approach to each subtask. **Your project will be evaluated not just on the code used to complete the tasks outlined, but also your communication about your observations and conclusions at each stage.**"
   ]
  },
  {
   "cell_type": "code",
   "execution_count": 2,
   "metadata": {},
   "outputs": [
    {
     "data": {
      "text/plain": [
       "'\\nImport note: The classroom currently uses sklearn version 0.19.\\nIf you need to use an imputer, it is available in sklearn.preprocessing.Imputer,\\ninstead of sklearn.impute as in newer versions of sklearn.\\n'"
      ]
     },
     "execution_count": 2,
     "metadata": {},
     "output_type": "execute_result"
    }
   ],
   "source": [
    "# import libraries here; add more as necessary\n",
    "import numpy as np\n",
    "import pandas as pd\n",
    "import matplotlib.pyplot as plt\n",
    "import seaborn as sns\n",
    "from sklearn.preprocessing import OneHotEncoder\n",
    "\n",
    "# magic word for producing visualizations in notebook\n",
    "%matplotlib inline\n",
    "\n",
    "'''\n",
    "Import note: The classroom currently uses sklearn version 0.19.\n",
    "If you need to use an imputer, it is available in sklearn.preprocessing.Imputer,\n",
    "instead of sklearn.impute as in newer versions of sklearn.\n",
    "'''"
   ]
  },
  {
   "cell_type": "markdown",
   "metadata": {},
   "source": [
    "### Step 0: Load the Data\n",
    "\n",
    "There are four files associated with this project (not including this one):\n",
    "\n",
    "- `Udacity_AZDIAS_Subset.csv`: Demographics data for the general population of Germany; 891211 persons (rows) x 85 features (columns).\n",
    "- `Udacity_CUSTOMERS_Subset.csv`: Demographics data for customers of a mail-order company; 191652 persons (rows) x 85 features (columns).\n",
    "- `Data_Dictionary.md`: Detailed information file about the features in the provided datasets.\n",
    "- `AZDIAS_Feature_Summary.csv`: Summary of feature attributes for demographics data; 85 features (rows) x 4 columns\n",
    "\n",
    "Each row of the demographics files represents a single person, but also includes information outside of individuals, including information about their household, building, and neighborhood. You will use this information to cluster the general population into groups with similar demographic properties. Then, you will see how the people in the customers dataset fit into those created clusters. The hope here is that certain clusters are over-represented in the customers data, as compared to the general population; those over-represented clusters will be assumed to be part of the core userbase. This information can then be used for further applications, such as targeting for a marketing campaign.\n",
    "\n",
    "To start off with, load in the demographics data for the general population into a pandas DataFrame, and do the same for the feature attributes summary. Note for all of the `.csv` data files in this project: they're semicolon (`;`) delimited, so you'll need an additional argument in your [`read_csv()`](https://pandas.pydata.org/pandas-docs/stable/generated/pandas.read_csv.html) call to read in the data properly. Also, considering the size of the main dataset, it may take some time for it to load completely.\n",
    "\n",
    "Once the dataset is loaded, it's recommended that you take a little bit of time just browsing the general structure of the dataset and feature summary file. You'll be getting deep into the innards of the cleaning in the first major step of the project, so gaining some general familiarity can help you get your bearings."
   ]
  },
  {
   "cell_type": "code",
   "execution_count": 3,
   "metadata": {},
   "outputs": [],
   "source": [
    "# Load in the general demographics data.\n",
    "azdias = pd.read_csv('Udacity_AZDIAS_Subset.csv', sep = ';')\n",
    "\n",
    "# Load in the feature summary file.\n",
    "feat_info = pd.read_csv('AZDIAS_Feature_Summary.csv', sep=';')"
   ]
  },
  {
   "cell_type": "code",
   "execution_count": 4,
   "metadata": {},
   "outputs": [
    {
     "data": {
      "text/html": [
       "<div>\n",
       "<style scoped>\n",
       "    .dataframe tbody tr th:only-of-type {\n",
       "        vertical-align: middle;\n",
       "    }\n",
       "\n",
       "    .dataframe tbody tr th {\n",
       "        vertical-align: top;\n",
       "    }\n",
       "\n",
       "    .dataframe thead th {\n",
       "        text-align: right;\n",
       "    }\n",
       "</style>\n",
       "<table border=\"1\" class=\"dataframe\">\n",
       "  <thead>\n",
       "    <tr style=\"text-align: right;\">\n",
       "      <th></th>\n",
       "      <th>AGER_TYP</th>\n",
       "      <th>ALTERSKATEGORIE_GROB</th>\n",
       "      <th>ANREDE_KZ</th>\n",
       "      <th>CJT_GESAMTTYP</th>\n",
       "      <th>FINANZ_MINIMALIST</th>\n",
       "      <th>FINANZ_SPARER</th>\n",
       "      <th>FINANZ_VORSORGER</th>\n",
       "      <th>FINANZ_ANLEGER</th>\n",
       "      <th>FINANZ_UNAUFFAELLIGER</th>\n",
       "      <th>FINANZ_HAUSBAUER</th>\n",
       "      <th>...</th>\n",
       "      <th>PLZ8_ANTG1</th>\n",
       "      <th>PLZ8_ANTG2</th>\n",
       "      <th>PLZ8_ANTG3</th>\n",
       "      <th>PLZ8_ANTG4</th>\n",
       "      <th>PLZ8_BAUMAX</th>\n",
       "      <th>PLZ8_HHZ</th>\n",
       "      <th>PLZ8_GBZ</th>\n",
       "      <th>ARBEIT</th>\n",
       "      <th>ORTSGR_KLS9</th>\n",
       "      <th>RELAT_AB</th>\n",
       "    </tr>\n",
       "  </thead>\n",
       "  <tbody>\n",
       "    <tr>\n",
       "      <th>0</th>\n",
       "      <td>-1</td>\n",
       "      <td>2</td>\n",
       "      <td>1</td>\n",
       "      <td>2.0</td>\n",
       "      <td>3</td>\n",
       "      <td>4</td>\n",
       "      <td>3</td>\n",
       "      <td>5</td>\n",
       "      <td>5</td>\n",
       "      <td>3</td>\n",
       "      <td>...</td>\n",
       "      <td>NaN</td>\n",
       "      <td>NaN</td>\n",
       "      <td>NaN</td>\n",
       "      <td>NaN</td>\n",
       "      <td>NaN</td>\n",
       "      <td>NaN</td>\n",
       "      <td>NaN</td>\n",
       "      <td>NaN</td>\n",
       "      <td>NaN</td>\n",
       "      <td>NaN</td>\n",
       "    </tr>\n",
       "    <tr>\n",
       "      <th>1</th>\n",
       "      <td>-1</td>\n",
       "      <td>1</td>\n",
       "      <td>2</td>\n",
       "      <td>5.0</td>\n",
       "      <td>1</td>\n",
       "      <td>5</td>\n",
       "      <td>2</td>\n",
       "      <td>5</td>\n",
       "      <td>4</td>\n",
       "      <td>5</td>\n",
       "      <td>...</td>\n",
       "      <td>2.0</td>\n",
       "      <td>3.0</td>\n",
       "      <td>2.0</td>\n",
       "      <td>1.0</td>\n",
       "      <td>1.0</td>\n",
       "      <td>5.0</td>\n",
       "      <td>4.0</td>\n",
       "      <td>3.0</td>\n",
       "      <td>5.0</td>\n",
       "      <td>4.0</td>\n",
       "    </tr>\n",
       "    <tr>\n",
       "      <th>2</th>\n",
       "      <td>-1</td>\n",
       "      <td>3</td>\n",
       "      <td>2</td>\n",
       "      <td>3.0</td>\n",
       "      <td>1</td>\n",
       "      <td>4</td>\n",
       "      <td>1</td>\n",
       "      <td>2</td>\n",
       "      <td>3</td>\n",
       "      <td>5</td>\n",
       "      <td>...</td>\n",
       "      <td>3.0</td>\n",
       "      <td>3.0</td>\n",
       "      <td>1.0</td>\n",
       "      <td>0.0</td>\n",
       "      <td>1.0</td>\n",
       "      <td>4.0</td>\n",
       "      <td>4.0</td>\n",
       "      <td>3.0</td>\n",
       "      <td>5.0</td>\n",
       "      <td>2.0</td>\n",
       "    </tr>\n",
       "    <tr>\n",
       "      <th>3</th>\n",
       "      <td>2</td>\n",
       "      <td>4</td>\n",
       "      <td>2</td>\n",
       "      <td>2.0</td>\n",
       "      <td>4</td>\n",
       "      <td>2</td>\n",
       "      <td>5</td>\n",
       "      <td>2</td>\n",
       "      <td>1</td>\n",
       "      <td>2</td>\n",
       "      <td>...</td>\n",
       "      <td>2.0</td>\n",
       "      <td>2.0</td>\n",
       "      <td>2.0</td>\n",
       "      <td>0.0</td>\n",
       "      <td>1.0</td>\n",
       "      <td>3.0</td>\n",
       "      <td>4.0</td>\n",
       "      <td>2.0</td>\n",
       "      <td>3.0</td>\n",
       "      <td>3.0</td>\n",
       "    </tr>\n",
       "    <tr>\n",
       "      <th>4</th>\n",
       "      <td>-1</td>\n",
       "      <td>3</td>\n",
       "      <td>1</td>\n",
       "      <td>5.0</td>\n",
       "      <td>4</td>\n",
       "      <td>3</td>\n",
       "      <td>4</td>\n",
       "      <td>1</td>\n",
       "      <td>3</td>\n",
       "      <td>2</td>\n",
       "      <td>...</td>\n",
       "      <td>2.0</td>\n",
       "      <td>4.0</td>\n",
       "      <td>2.0</td>\n",
       "      <td>1.0</td>\n",
       "      <td>2.0</td>\n",
       "      <td>3.0</td>\n",
       "      <td>3.0</td>\n",
       "      <td>4.0</td>\n",
       "      <td>6.0</td>\n",
       "      <td>5.0</td>\n",
       "    </tr>\n",
       "  </tbody>\n",
       "</table>\n",
       "<p>5 rows × 85 columns</p>\n",
       "</div>"
      ],
      "text/plain": [
       "   AGER_TYP  ALTERSKATEGORIE_GROB  ANREDE_KZ  CJT_GESAMTTYP  \\\n",
       "0        -1                     2          1            2.0   \n",
       "1        -1                     1          2            5.0   \n",
       "2        -1                     3          2            3.0   \n",
       "3         2                     4          2            2.0   \n",
       "4        -1                     3          1            5.0   \n",
       "\n",
       "   FINANZ_MINIMALIST  FINANZ_SPARER  FINANZ_VORSORGER  FINANZ_ANLEGER  \\\n",
       "0                  3              4                 3               5   \n",
       "1                  1              5                 2               5   \n",
       "2                  1              4                 1               2   \n",
       "3                  4              2                 5               2   \n",
       "4                  4              3                 4               1   \n",
       "\n",
       "   FINANZ_UNAUFFAELLIGER  FINANZ_HAUSBAUER    ...     PLZ8_ANTG1  PLZ8_ANTG2  \\\n",
       "0                      5                 3    ...            NaN         NaN   \n",
       "1                      4                 5    ...            2.0         3.0   \n",
       "2                      3                 5    ...            3.0         3.0   \n",
       "3                      1                 2    ...            2.0         2.0   \n",
       "4                      3                 2    ...            2.0         4.0   \n",
       "\n",
       "   PLZ8_ANTG3  PLZ8_ANTG4  PLZ8_BAUMAX  PLZ8_HHZ  PLZ8_GBZ  ARBEIT  \\\n",
       "0         NaN         NaN          NaN       NaN       NaN     NaN   \n",
       "1         2.0         1.0          1.0       5.0       4.0     3.0   \n",
       "2         1.0         0.0          1.0       4.0       4.0     3.0   \n",
       "3         2.0         0.0          1.0       3.0       4.0     2.0   \n",
       "4         2.0         1.0          2.0       3.0       3.0     4.0   \n",
       "\n",
       "   ORTSGR_KLS9  RELAT_AB  \n",
       "0          NaN       NaN  \n",
       "1          5.0       4.0  \n",
       "2          5.0       2.0  \n",
       "3          3.0       3.0  \n",
       "4          6.0       5.0  \n",
       "\n",
       "[5 rows x 85 columns]"
      ]
     },
     "execution_count": 4,
     "metadata": {},
     "output_type": "execute_result"
    }
   ],
   "source": [
    "# Check the structure of the data after it's loaded (e.g. print the number of\n",
    "# rows and columns, print the first few rows).\n",
    "azdias.head()"
   ]
  },
  {
   "cell_type": "code",
   "execution_count": 5,
   "metadata": {},
   "outputs": [
    {
     "data": {
      "text/plain": [
       "(891221, 85)"
      ]
     },
     "execution_count": 5,
     "metadata": {},
     "output_type": "execute_result"
    }
   ],
   "source": [
    "azdias.shape"
   ]
  },
  {
   "cell_type": "code",
   "execution_count": 6,
   "metadata": {
    "scrolled": true
   },
   "outputs": [
    {
     "data": {
      "text/html": [
       "<div>\n",
       "<style scoped>\n",
       "    .dataframe tbody tr th:only-of-type {\n",
       "        vertical-align: middle;\n",
       "    }\n",
       "\n",
       "    .dataframe tbody tr th {\n",
       "        vertical-align: top;\n",
       "    }\n",
       "\n",
       "    .dataframe thead th {\n",
       "        text-align: right;\n",
       "    }\n",
       "</style>\n",
       "<table border=\"1\" class=\"dataframe\">\n",
       "  <thead>\n",
       "    <tr style=\"text-align: right;\">\n",
       "      <th></th>\n",
       "      <th>AGER_TYP</th>\n",
       "      <th>ALTERSKATEGORIE_GROB</th>\n",
       "      <th>ANREDE_KZ</th>\n",
       "      <th>CJT_GESAMTTYP</th>\n",
       "      <th>FINANZ_MINIMALIST</th>\n",
       "      <th>FINANZ_SPARER</th>\n",
       "      <th>FINANZ_VORSORGER</th>\n",
       "      <th>FINANZ_ANLEGER</th>\n",
       "      <th>FINANZ_UNAUFFAELLIGER</th>\n",
       "      <th>FINANZ_HAUSBAUER</th>\n",
       "      <th>...</th>\n",
       "      <th>PLZ8_ANTG1</th>\n",
       "      <th>PLZ8_ANTG2</th>\n",
       "      <th>PLZ8_ANTG3</th>\n",
       "      <th>PLZ8_ANTG4</th>\n",
       "      <th>PLZ8_BAUMAX</th>\n",
       "      <th>PLZ8_HHZ</th>\n",
       "      <th>PLZ8_GBZ</th>\n",
       "      <th>ARBEIT</th>\n",
       "      <th>ORTSGR_KLS9</th>\n",
       "      <th>RELAT_AB</th>\n",
       "    </tr>\n",
       "  </thead>\n",
       "  <tbody>\n",
       "    <tr>\n",
       "      <th>count</th>\n",
       "      <td>891221.000000</td>\n",
       "      <td>891221.000000</td>\n",
       "      <td>891221.000000</td>\n",
       "      <td>886367.000000</td>\n",
       "      <td>891221.000000</td>\n",
       "      <td>891221.000000</td>\n",
       "      <td>891221.000000</td>\n",
       "      <td>891221.000000</td>\n",
       "      <td>891221.000000</td>\n",
       "      <td>891221.000000</td>\n",
       "      <td>...</td>\n",
       "      <td>774706.000000</td>\n",
       "      <td>774706.000000</td>\n",
       "      <td>774706.000000</td>\n",
       "      <td>774706.000000</td>\n",
       "      <td>774706.000000</td>\n",
       "      <td>774706.000000</td>\n",
       "      <td>774706.000000</td>\n",
       "      <td>794005.000000</td>\n",
       "      <td>794005.000000</td>\n",
       "      <td>794005.00000</td>\n",
       "    </tr>\n",
       "    <tr>\n",
       "      <th>mean</th>\n",
       "      <td>-0.358435</td>\n",
       "      <td>2.777398</td>\n",
       "      <td>1.522098</td>\n",
       "      <td>3.632838</td>\n",
       "      <td>3.074528</td>\n",
       "      <td>2.821039</td>\n",
       "      <td>3.401106</td>\n",
       "      <td>3.033328</td>\n",
       "      <td>2.874167</td>\n",
       "      <td>3.075121</td>\n",
       "      <td>...</td>\n",
       "      <td>2.253330</td>\n",
       "      <td>2.801858</td>\n",
       "      <td>1.595426</td>\n",
       "      <td>0.699166</td>\n",
       "      <td>1.943913</td>\n",
       "      <td>3.612821</td>\n",
       "      <td>3.381087</td>\n",
       "      <td>3.167854</td>\n",
       "      <td>5.293002</td>\n",
       "      <td>3.07222</td>\n",
       "    </tr>\n",
       "    <tr>\n",
       "      <th>std</th>\n",
       "      <td>1.198724</td>\n",
       "      <td>1.068775</td>\n",
       "      <td>0.499512</td>\n",
       "      <td>1.595021</td>\n",
       "      <td>1.321055</td>\n",
       "      <td>1.464749</td>\n",
       "      <td>1.322134</td>\n",
       "      <td>1.529603</td>\n",
       "      <td>1.486731</td>\n",
       "      <td>1.353248</td>\n",
       "      <td>...</td>\n",
       "      <td>0.972008</td>\n",
       "      <td>0.920309</td>\n",
       "      <td>0.986736</td>\n",
       "      <td>0.727137</td>\n",
       "      <td>1.459654</td>\n",
       "      <td>0.973967</td>\n",
       "      <td>1.111598</td>\n",
       "      <td>1.002376</td>\n",
       "      <td>2.303739</td>\n",
       "      <td>1.36298</td>\n",
       "    </tr>\n",
       "    <tr>\n",
       "      <th>min</th>\n",
       "      <td>-1.000000</td>\n",
       "      <td>1.000000</td>\n",
       "      <td>1.000000</td>\n",
       "      <td>1.000000</td>\n",
       "      <td>1.000000</td>\n",
       "      <td>1.000000</td>\n",
       "      <td>1.000000</td>\n",
       "      <td>1.000000</td>\n",
       "      <td>1.000000</td>\n",
       "      <td>1.000000</td>\n",
       "      <td>...</td>\n",
       "      <td>0.000000</td>\n",
       "      <td>0.000000</td>\n",
       "      <td>0.000000</td>\n",
       "      <td>0.000000</td>\n",
       "      <td>1.000000</td>\n",
       "      <td>1.000000</td>\n",
       "      <td>1.000000</td>\n",
       "      <td>1.000000</td>\n",
       "      <td>0.000000</td>\n",
       "      <td>1.00000</td>\n",
       "    </tr>\n",
       "    <tr>\n",
       "      <th>25%</th>\n",
       "      <td>-1.000000</td>\n",
       "      <td>2.000000</td>\n",
       "      <td>1.000000</td>\n",
       "      <td>2.000000</td>\n",
       "      <td>2.000000</td>\n",
       "      <td>1.000000</td>\n",
       "      <td>3.000000</td>\n",
       "      <td>2.000000</td>\n",
       "      <td>2.000000</td>\n",
       "      <td>2.000000</td>\n",
       "      <td>...</td>\n",
       "      <td>1.000000</td>\n",
       "      <td>2.000000</td>\n",
       "      <td>1.000000</td>\n",
       "      <td>0.000000</td>\n",
       "      <td>1.000000</td>\n",
       "      <td>3.000000</td>\n",
       "      <td>3.000000</td>\n",
       "      <td>3.000000</td>\n",
       "      <td>4.000000</td>\n",
       "      <td>2.00000</td>\n",
       "    </tr>\n",
       "    <tr>\n",
       "      <th>50%</th>\n",
       "      <td>-1.000000</td>\n",
       "      <td>3.000000</td>\n",
       "      <td>2.000000</td>\n",
       "      <td>4.000000</td>\n",
       "      <td>3.000000</td>\n",
       "      <td>3.000000</td>\n",
       "      <td>3.000000</td>\n",
       "      <td>3.000000</td>\n",
       "      <td>3.000000</td>\n",
       "      <td>3.000000</td>\n",
       "      <td>...</td>\n",
       "      <td>2.000000</td>\n",
       "      <td>3.000000</td>\n",
       "      <td>2.000000</td>\n",
       "      <td>1.000000</td>\n",
       "      <td>1.000000</td>\n",
       "      <td>4.000000</td>\n",
       "      <td>3.000000</td>\n",
       "      <td>3.000000</td>\n",
       "      <td>5.000000</td>\n",
       "      <td>3.00000</td>\n",
       "    </tr>\n",
       "    <tr>\n",
       "      <th>75%</th>\n",
       "      <td>-1.000000</td>\n",
       "      <td>4.000000</td>\n",
       "      <td>2.000000</td>\n",
       "      <td>5.000000</td>\n",
       "      <td>4.000000</td>\n",
       "      <td>4.000000</td>\n",
       "      <td>5.000000</td>\n",
       "      <td>5.000000</td>\n",
       "      <td>4.000000</td>\n",
       "      <td>4.000000</td>\n",
       "      <td>...</td>\n",
       "      <td>3.000000</td>\n",
       "      <td>3.000000</td>\n",
       "      <td>2.000000</td>\n",
       "      <td>1.000000</td>\n",
       "      <td>3.000000</td>\n",
       "      <td>4.000000</td>\n",
       "      <td>4.000000</td>\n",
       "      <td>4.000000</td>\n",
       "      <td>7.000000</td>\n",
       "      <td>4.00000</td>\n",
       "    </tr>\n",
       "    <tr>\n",
       "      <th>max</th>\n",
       "      <td>3.000000</td>\n",
       "      <td>9.000000</td>\n",
       "      <td>2.000000</td>\n",
       "      <td>6.000000</td>\n",
       "      <td>5.000000</td>\n",
       "      <td>5.000000</td>\n",
       "      <td>5.000000</td>\n",
       "      <td>5.000000</td>\n",
       "      <td>5.000000</td>\n",
       "      <td>5.000000</td>\n",
       "      <td>...</td>\n",
       "      <td>4.000000</td>\n",
       "      <td>4.000000</td>\n",
       "      <td>3.000000</td>\n",
       "      <td>2.000000</td>\n",
       "      <td>5.000000</td>\n",
       "      <td>5.000000</td>\n",
       "      <td>5.000000</td>\n",
       "      <td>9.000000</td>\n",
       "      <td>9.000000</td>\n",
       "      <td>9.00000</td>\n",
       "    </tr>\n",
       "  </tbody>\n",
       "</table>\n",
       "<p>8 rows × 81 columns</p>\n",
       "</div>"
      ],
      "text/plain": [
       "            AGER_TYP  ALTERSKATEGORIE_GROB      ANREDE_KZ  CJT_GESAMTTYP  \\\n",
       "count  891221.000000         891221.000000  891221.000000  886367.000000   \n",
       "mean       -0.358435              2.777398       1.522098       3.632838   \n",
       "std         1.198724              1.068775       0.499512       1.595021   \n",
       "min        -1.000000              1.000000       1.000000       1.000000   \n",
       "25%        -1.000000              2.000000       1.000000       2.000000   \n",
       "50%        -1.000000              3.000000       2.000000       4.000000   \n",
       "75%        -1.000000              4.000000       2.000000       5.000000   \n",
       "max         3.000000              9.000000       2.000000       6.000000   \n",
       "\n",
       "       FINANZ_MINIMALIST  FINANZ_SPARER  FINANZ_VORSORGER  FINANZ_ANLEGER  \\\n",
       "count      891221.000000  891221.000000     891221.000000   891221.000000   \n",
       "mean            3.074528       2.821039          3.401106        3.033328   \n",
       "std             1.321055       1.464749          1.322134        1.529603   \n",
       "min             1.000000       1.000000          1.000000        1.000000   \n",
       "25%             2.000000       1.000000          3.000000        2.000000   \n",
       "50%             3.000000       3.000000          3.000000        3.000000   \n",
       "75%             4.000000       4.000000          5.000000        5.000000   \n",
       "max             5.000000       5.000000          5.000000        5.000000   \n",
       "\n",
       "       FINANZ_UNAUFFAELLIGER  FINANZ_HAUSBAUER      ...          PLZ8_ANTG1  \\\n",
       "count          891221.000000     891221.000000      ...       774706.000000   \n",
       "mean                2.874167          3.075121      ...            2.253330   \n",
       "std                 1.486731          1.353248      ...            0.972008   \n",
       "min                 1.000000          1.000000      ...            0.000000   \n",
       "25%                 2.000000          2.000000      ...            1.000000   \n",
       "50%                 3.000000          3.000000      ...            2.000000   \n",
       "75%                 4.000000          4.000000      ...            3.000000   \n",
       "max                 5.000000          5.000000      ...            4.000000   \n",
       "\n",
       "          PLZ8_ANTG2     PLZ8_ANTG3     PLZ8_ANTG4    PLZ8_BAUMAX  \\\n",
       "count  774706.000000  774706.000000  774706.000000  774706.000000   \n",
       "mean        2.801858       1.595426       0.699166       1.943913   \n",
       "std         0.920309       0.986736       0.727137       1.459654   \n",
       "min         0.000000       0.000000       0.000000       1.000000   \n",
       "25%         2.000000       1.000000       0.000000       1.000000   \n",
       "50%         3.000000       2.000000       1.000000       1.000000   \n",
       "75%         3.000000       2.000000       1.000000       3.000000   \n",
       "max         4.000000       3.000000       2.000000       5.000000   \n",
       "\n",
       "            PLZ8_HHZ       PLZ8_GBZ         ARBEIT    ORTSGR_KLS9  \\\n",
       "count  774706.000000  774706.000000  794005.000000  794005.000000   \n",
       "mean        3.612821       3.381087       3.167854       5.293002   \n",
       "std         0.973967       1.111598       1.002376       2.303739   \n",
       "min         1.000000       1.000000       1.000000       0.000000   \n",
       "25%         3.000000       3.000000       3.000000       4.000000   \n",
       "50%         4.000000       3.000000       3.000000       5.000000   \n",
       "75%         4.000000       4.000000       4.000000       7.000000   \n",
       "max         5.000000       5.000000       9.000000       9.000000   \n",
       "\n",
       "           RELAT_AB  \n",
       "count  794005.00000  \n",
       "mean        3.07222  \n",
       "std         1.36298  \n",
       "min         1.00000  \n",
       "25%         2.00000  \n",
       "50%         3.00000  \n",
       "75%         4.00000  \n",
       "max         9.00000  \n",
       "\n",
       "[8 rows x 81 columns]"
      ]
     },
     "execution_count": 6,
     "metadata": {},
     "output_type": "execute_result"
    }
   ],
   "source": [
    "azdias.describe()"
   ]
  },
  {
   "cell_type": "code",
   "execution_count": 7,
   "metadata": {},
   "outputs": [
    {
     "name": "stdout",
     "output_type": "stream",
     "text": [
      "<class 'pandas.core.frame.DataFrame'>\n",
      "RangeIndex: 891221 entries, 0 to 891220\n",
      "Data columns (total 85 columns):\n",
      "AGER_TYP                 891221 non-null int64\n",
      "ALTERSKATEGORIE_GROB     891221 non-null int64\n",
      "ANREDE_KZ                891221 non-null int64\n",
      "CJT_GESAMTTYP            886367 non-null float64\n",
      "FINANZ_MINIMALIST        891221 non-null int64\n",
      "FINANZ_SPARER            891221 non-null int64\n",
      "FINANZ_VORSORGER         891221 non-null int64\n",
      "FINANZ_ANLEGER           891221 non-null int64\n",
      "FINANZ_UNAUFFAELLIGER    891221 non-null int64\n",
      "FINANZ_HAUSBAUER         891221 non-null int64\n",
      "FINANZTYP                891221 non-null int64\n",
      "GEBURTSJAHR              891221 non-null int64\n",
      "GFK_URLAUBERTYP          886367 non-null float64\n",
      "GREEN_AVANTGARDE         891221 non-null int64\n",
      "HEALTH_TYP               891221 non-null int64\n",
      "LP_LEBENSPHASE_FEIN      886367 non-null float64\n",
      "LP_LEBENSPHASE_GROB      886367 non-null float64\n",
      "LP_FAMILIE_FEIN          886367 non-null float64\n",
      "LP_FAMILIE_GROB          886367 non-null float64\n",
      "LP_STATUS_FEIN           886367 non-null float64\n",
      "LP_STATUS_GROB           886367 non-null float64\n",
      "NATIONALITAET_KZ         891221 non-null int64\n",
      "PRAEGENDE_JUGENDJAHRE    891221 non-null int64\n",
      "RETOURTYP_BK_S           886367 non-null float64\n",
      "SEMIO_SOZ                891221 non-null int64\n",
      "SEMIO_FAM                891221 non-null int64\n",
      "SEMIO_REL                891221 non-null int64\n",
      "SEMIO_MAT                891221 non-null int64\n",
      "SEMIO_VERT               891221 non-null int64\n",
      "SEMIO_LUST               891221 non-null int64\n",
      "SEMIO_ERL                891221 non-null int64\n",
      "SEMIO_KULT               891221 non-null int64\n",
      "SEMIO_RAT                891221 non-null int64\n",
      "SEMIO_KRIT               891221 non-null int64\n",
      "SEMIO_DOM                891221 non-null int64\n",
      "SEMIO_KAEM               891221 non-null int64\n",
      "SEMIO_PFLICHT            891221 non-null int64\n",
      "SEMIO_TRADV              891221 non-null int64\n",
      "SHOPPER_TYP              891221 non-null int64\n",
      "SOHO_KZ                  817722 non-null float64\n",
      "TITEL_KZ                 817722 non-null float64\n",
      "VERS_TYP                 891221 non-null int64\n",
      "ZABEOTYP                 891221 non-null int64\n",
      "ALTER_HH                 817722 non-null float64\n",
      "ANZ_PERSONEN             817722 non-null float64\n",
      "ANZ_TITEL                817722 non-null float64\n",
      "HH_EINKOMMEN_SCORE       872873 non-null float64\n",
      "KK_KUNDENTYP             306609 non-null float64\n",
      "W_KEIT_KIND_HH           783619 non-null float64\n",
      "WOHNDAUER_2008           817722 non-null float64\n",
      "ANZ_HAUSHALTE_AKTIV      798073 non-null float64\n",
      "ANZ_HH_TITEL             794213 non-null float64\n",
      "GEBAEUDETYP              798073 non-null float64\n",
      "KONSUMNAEHE              817252 non-null float64\n",
      "MIN_GEBAEUDEJAHR         798073 non-null float64\n",
      "OST_WEST_KZ              798073 non-null object\n",
      "WOHNLAGE                 798073 non-null float64\n",
      "CAMEO_DEUG_2015          792242 non-null object\n",
      "CAMEO_DEU_2015           792242 non-null object\n",
      "CAMEO_INTL_2015          792242 non-null object\n",
      "KBA05_ANTG1              757897 non-null float64\n",
      "KBA05_ANTG2              757897 non-null float64\n",
      "KBA05_ANTG3              757897 non-null float64\n",
      "KBA05_ANTG4              757897 non-null float64\n",
      "KBA05_BAUMAX             757897 non-null float64\n",
      "KBA05_GBZ                757897 non-null float64\n",
      "BALLRAUM                 797481 non-null float64\n",
      "EWDICHTE                 797481 non-null float64\n",
      "INNENSTADT               797481 non-null float64\n",
      "GEBAEUDETYP_RASTER       798066 non-null float64\n",
      "KKK                      770025 non-null float64\n",
      "MOBI_REGIO               757897 non-null float64\n",
      "ONLINE_AFFINITAET        886367 non-null float64\n",
      "REGIOTYP                 770025 non-null float64\n",
      "KBA13_ANZAHL_PKW         785421 non-null float64\n",
      "PLZ8_ANTG1               774706 non-null float64\n",
      "PLZ8_ANTG2               774706 non-null float64\n",
      "PLZ8_ANTG3               774706 non-null float64\n",
      "PLZ8_ANTG4               774706 non-null float64\n",
      "PLZ8_BAUMAX              774706 non-null float64\n",
      "PLZ8_HHZ                 774706 non-null float64\n",
      "PLZ8_GBZ                 774706 non-null float64\n",
      "ARBEIT                   794005 non-null float64\n",
      "ORTSGR_KLS9              794005 non-null float64\n",
      "RELAT_AB                 794005 non-null float64\n",
      "dtypes: float64(49), int64(32), object(4)\n",
      "memory usage: 578.0+ MB\n"
     ]
    }
   ],
   "source": [
    "azdias.info()"
   ]
  },
  {
   "cell_type": "code",
   "execution_count": 8,
   "metadata": {},
   "outputs": [
    {
     "data": {
      "text/html": [
       "<div>\n",
       "<style scoped>\n",
       "    .dataframe tbody tr th:only-of-type {\n",
       "        vertical-align: middle;\n",
       "    }\n",
       "\n",
       "    .dataframe tbody tr th {\n",
       "        vertical-align: top;\n",
       "    }\n",
       "\n",
       "    .dataframe thead th {\n",
       "        text-align: right;\n",
       "    }\n",
       "</style>\n",
       "<table border=\"1\" class=\"dataframe\">\n",
       "  <thead>\n",
       "    <tr style=\"text-align: right;\">\n",
       "      <th></th>\n",
       "      <th>attribute</th>\n",
       "      <th>information_level</th>\n",
       "      <th>type</th>\n",
       "      <th>missing_or_unknown</th>\n",
       "    </tr>\n",
       "  </thead>\n",
       "  <tbody>\n",
       "    <tr>\n",
       "      <th>0</th>\n",
       "      <td>AGER_TYP</td>\n",
       "      <td>person</td>\n",
       "      <td>categorical</td>\n",
       "      <td>[-1,0]</td>\n",
       "    </tr>\n",
       "    <tr>\n",
       "      <th>1</th>\n",
       "      <td>ALTERSKATEGORIE_GROB</td>\n",
       "      <td>person</td>\n",
       "      <td>ordinal</td>\n",
       "      <td>[-1,0,9]</td>\n",
       "    </tr>\n",
       "    <tr>\n",
       "      <th>2</th>\n",
       "      <td>ANREDE_KZ</td>\n",
       "      <td>person</td>\n",
       "      <td>categorical</td>\n",
       "      <td>[-1,0]</td>\n",
       "    </tr>\n",
       "    <tr>\n",
       "      <th>3</th>\n",
       "      <td>CJT_GESAMTTYP</td>\n",
       "      <td>person</td>\n",
       "      <td>categorical</td>\n",
       "      <td>[0]</td>\n",
       "    </tr>\n",
       "    <tr>\n",
       "      <th>4</th>\n",
       "      <td>FINANZ_MINIMALIST</td>\n",
       "      <td>person</td>\n",
       "      <td>ordinal</td>\n",
       "      <td>[-1]</td>\n",
       "    </tr>\n",
       "  </tbody>\n",
       "</table>\n",
       "</div>"
      ],
      "text/plain": [
       "              attribute information_level         type missing_or_unknown\n",
       "0              AGER_TYP            person  categorical             [-1,0]\n",
       "1  ALTERSKATEGORIE_GROB            person      ordinal           [-1,0,9]\n",
       "2             ANREDE_KZ            person  categorical             [-1,0]\n",
       "3         CJT_GESAMTTYP            person  categorical                [0]\n",
       "4     FINANZ_MINIMALIST            person      ordinal               [-1]"
      ]
     },
     "execution_count": 8,
     "metadata": {},
     "output_type": "execute_result"
    }
   ],
   "source": [
    "feat_info.head()"
   ]
  },
  {
   "cell_type": "code",
   "execution_count": 9,
   "metadata": {},
   "outputs": [
    {
     "data": {
      "text/plain": [
       "(85, 4)"
      ]
     },
     "execution_count": 9,
     "metadata": {},
     "output_type": "execute_result"
    }
   ],
   "source": [
    "feat_info.shape"
   ]
  },
  {
   "cell_type": "code",
   "execution_count": 10,
   "metadata": {},
   "outputs": [],
   "source": [
    "feat_info['missing_or_unknown'] = feat_info['missing_or_unknown'].apply(lambda x: x[1:-1].split(','))"
   ]
  },
  {
   "cell_type": "markdown",
   "metadata": {},
   "source": [
    "> **Tip**: Add additional cells to keep everything in reasonably-sized chunks! Keyboard shortcut `esc --> a` (press escape to enter command mode, then press the 'A' key) adds a new cell before the active cell, and `esc --> b` adds a new cell after the active cell. If you need to convert an active cell to a markdown cell, use `esc --> m` and to convert to a code cell, use `esc --> y`. \n",
    "\n",
    "## Step 1: Preprocessing\n",
    "\n",
    "### Step 1.1: Assess Missing Data\n",
    "\n",
    "The feature summary file contains a summary of properties for each demographics data column. You will use this file to help you make cleaning decisions during this stage of the project. First of all, you should assess the demographics data in terms of missing data. Pay attention to the following points as you perform your analysis, and take notes on what you observe. Make sure that you fill in the **Discussion** cell with your findings and decisions at the end of each step that has one!\n",
    "\n",
    "#### Step 1.1.1: Convert Missing Value Codes to NaNs\n",
    "The fourth column of the feature attributes summary (loaded in above as `feat_info`) documents the codes from the data dictionary that indicate missing or unknown data. While the file encodes this as a list (e.g. `[-1,0]`), this will get read in as a string object. You'll need to do a little bit of parsing to make use of it to identify and clean the data. Convert data that matches a 'missing' or 'unknown' value code into a numpy NaN value. You might want to see how much data takes on a 'missing' or 'unknown' code, and how much data is naturally missing, as a point of interest.\n",
    "\n",
    "**As one more reminder, you are encouraged to add additional cells to break up your analysis into manageable chunks.**"
   ]
  },
  {
   "cell_type": "code",
   "execution_count": 11,
   "metadata": {},
   "outputs": [],
   "source": [
    "# Identify missing or unknown data values and convert them to NaNs.\n",
    "for i in range(feat_info.shape[0]):\n",
    "    azdias.loc[azdias[feat_info.iloc[i,0]].isin(feat_info.iloc[i,-1]), feat_info.iloc[i,0]] =np.nan"
   ]
  },
  {
   "cell_type": "markdown",
   "metadata": {},
   "source": [
    "#### Step 1.1.2: Assess Missing Data in Each Column\n",
    "\n",
    "How much missing data is present in each column? There are a few columns that are outliers in terms of the proportion of values that are missing. You will want to use matplotlib's [`hist()`](https://matplotlib.org/api/_as_gen/matplotlib.pyplot.hist.html) function to visualize the distribution of missing value counts to find these columns. Identify and document these columns. While some of these columns might have justifications for keeping or re-encoding the data, for this project you should just remove them from the dataframe. (Feel free to make remarks about these outlier columns in the discussion, however!)\n",
    "\n",
    "For the remaining features, are there any patterns in which columns have, or share, missing data?"
   ]
  },
  {
   "cell_type": "code",
   "execution_count": 12,
   "metadata": {
    "scrolled": true
   },
   "outputs": [
    {
     "data": {
      "text/plain": [
       "TITEL_KZ                 889061\n",
       "AGER_TYP                 685843\n",
       "KK_KUNDENTYP             584612\n",
       "KBA05_BAUMAX             476524\n",
       "GEBURTSJAHR              392318\n",
       "ALTER_HH                 310267\n",
       "REGIOTYP                 158064\n",
       "KKK                      158064\n",
       "W_KEIT_KIND_HH           147988\n",
       "KBA05_ANTG4              133324\n",
       "KBA05_GBZ                133324\n",
       "MOBI_REGIO               133324\n",
       "KBA05_ANTG1              133324\n",
       "KBA05_ANTG2              133324\n",
       "KBA05_ANTG3              133324\n",
       "PLZ8_GBZ                 116515\n",
       "PLZ8_HHZ                 116515\n",
       "PLZ8_BAUMAX              116515\n",
       "PLZ8_ANTG4               116515\n",
       "PLZ8_ANTG1               116515\n",
       "PLZ8_ANTG3               116515\n",
       "PLZ8_ANTG2               116515\n",
       "SHOPPER_TYP              111196\n",
       "VERS_TYP                 111196\n",
       "HEALTH_TYP               111196\n",
       "NATIONALITAET_KZ         108315\n",
       "PRAEGENDE_JUGENDJAHRE    108164\n",
       "KBA13_ANZAHL_PKW         105800\n",
       "ANZ_HAUSHALTE_AKTIV       99611\n",
       "CAMEO_INTL_2015           99352\n",
       "                          ...  \n",
       "CAMEO_DEUG_2015           99352\n",
       "LP_LEBENSPHASE_FEIN       97632\n",
       "RELAT_AB                  97375\n",
       "ARBEIT                    97375\n",
       "ORTSGR_KLS9               97274\n",
       "ANZ_HH_TITEL              97008\n",
       "LP_LEBENSPHASE_GROB       94572\n",
       "INNENSTADT                93740\n",
       "BALLRAUM                  93740\n",
       "EWDICHTE                  93740\n",
       "GEBAEUDETYP_RASTER        93155\n",
       "MIN_GEBAEUDEJAHR          93148\n",
       "OST_WEST_KZ               93148\n",
       "WOHNLAGE                  93148\n",
       "GEBAEUDETYP               93148\n",
       "LP_FAMILIE_FEIN           77792\n",
       "LP_FAMILIE_GROB           77792\n",
       "KONSUMNAEHE               73969\n",
       "WOHNDAUER_2008            73499\n",
       "ANZ_TITEL                 73499\n",
       "SOHO_KZ                   73499\n",
       "ANZ_PERSONEN              73499\n",
       "HH_EINKOMMEN_SCORE        18348\n",
       "LP_STATUS_GROB             4854\n",
       "LP_STATUS_FEIN             4854\n",
       "RETOURTYP_BK_S             4854\n",
       "ONLINE_AFFINITAET          4854\n",
       "GFK_URLAUBERTYP            4854\n",
       "CJT_GESAMTTYP              4854\n",
       "ALTERSKATEGORIE_GROB       2881\n",
       "Length: 61, dtype: int64"
      ]
     },
     "execution_count": 12,
     "metadata": {},
     "output_type": "execute_result"
    }
   ],
   "source": [
    "# Perform an assessment of how much missing data there is in each column of the\n",
    "# dataset.\n",
    "azdias_missing_col_values = azdias.isnull().sum()\n",
    "azdias_missing_col_values = azdias_missing_col_values[azdias_missing_col_values.values>0].sort_values(ascending=False)\n",
    "azdias_missing_col_values"
   ]
  },
  {
   "cell_type": "code",
   "execution_count": 13,
   "metadata": {
    "scrolled": true
   },
   "outputs": [
    {
     "data": {
      "text/plain": [
       "(array([ 15.,  40.,   0.,   1.,   1.,   1.,   1.,   1.,   0.,   1.]),\n",
       " array([   2881.,   91499.,  180117.,  268735.,  357353.,  445971.,\n",
       "         534589.,  623207.,  711825.,  800443.,  889061.]),\n",
       " <a list of 10 Patch objects>)"
      ]
     },
     "execution_count": 13,
     "metadata": {},
     "output_type": "execute_result"
    },
    {
     "data": {
      "image/png": "[encoded data removed]",
      "text/plain": [
       "<matplotlib.figure.Figure at 0x7f8a0100b208>"
      ]
     },
     "metadata": {
      "needs_background": "light"
     },
     "output_type": "display_data"
    }
   ],
   "source": [
    "plt.hist(azdias_missing_col_values.values)"
   ]
  },
  {
   "cell_type": "code",
   "execution_count": 14,
   "metadata": {
    "scrolled": false
   },
   "outputs": [
    {
     "data": {
      "text/plain": [
       "Text(0.5,1,'Missing Data in Column')"
      ]
     },
     "execution_count": 14,
     "metadata": {},
     "output_type": "execute_result"
    },
    {
     "data": {
      "image/png": "[encoded data removed]",
      "text/plain": [
       "<matplotlib.figure.Figure at 0x7f8a0100bbe0>"
      ]
     },
     "metadata": {
      "needs_background": "light"
     },
     "output_type": "display_data"
    }
   ],
   "source": [
    "# Investigate patterns in the amount of missing data in each column.\n",
    "fig_dims = (12, 15)\n",
    "fig, ax = plt.subplots(figsize=fig_dims)\n",
    "sns.barplot(x = azdias_missing_col_values.index,\\\n",
    "            y = azdias_missing_col_values.values,\n",
    "            ax = ax,\\\n",
    "            order = azdias_missing_col_values.index)\n",
    "ax.set_xticklabels(azdias_missing_col_values.index, rotation=90)\n",
    "ax.set_title(\"Missing Data in Column\")"
   ]
  },
  {
   "cell_type": "code",
   "execution_count": 15,
   "metadata": {},
   "outputs": [
    {
     "data": {
      "text/plain": [
       "732775    54\n",
       "315705    53\n",
       "708650    53\n",
       "799836    53\n",
       "86425     53\n",
       "86428     53\n",
       "799849    53\n",
       "708712    53\n",
       "420731    53\n",
       "86445     53\n",
       "708666    53\n",
       "86451     53\n",
       "708657    53\n",
       "708643    53\n",
       "86415     53\n",
       "86459     53\n",
       "708628    53\n",
       "539188    53\n",
       "539183    53\n",
       "708610    53\n",
       "421009    53\n",
       "421024    53\n",
       "86492     53\n",
       "799957    53\n",
       "420664    53\n",
       "86411     53\n",
       "212541    53\n",
       "799813    53\n",
       "86339     53\n",
       "799774    53\n",
       "          ..\n",
       "539402    53\n",
       "539400    53\n",
       "539395    53\n",
       "420382    53\n",
       "420462    53\n",
       "212551    53\n",
       "799764    53\n",
       "539450    53\n",
       "539453    53\n",
       "86181     53\n",
       "212648    53\n",
       "86182     53\n",
       "539576    53\n",
       "420268    53\n",
       "420269    53\n",
       "799694    53\n",
       "708884    53\n",
       "708881    53\n",
       "86197     53\n",
       "86199     53\n",
       "708878    53\n",
       "86203     53\n",
       "708875    53\n",
       "86207     53\n",
       "420280    53\n",
       "86210     53\n",
       "420290    53\n",
       "86213     53\n",
       "539500    53\n",
       "212661    53\n",
       "Length: 200, dtype: int64"
      ]
     },
     "execution_count": 15,
     "metadata": {},
     "output_type": "execute_result"
    }
   ],
   "source": [
    "# azdias_missing_row_values\n",
    "azdias_missing_row_values = azdias.isnull().sum(axis = 1)\n",
    "azdias_missing_row_values = azdias_missing_row_values[azdias_missing_row_values.values > 0]\\\n",
    ".sort_values(ascending=False)\n",
    "azdias_missing_row_values.head(200)"
   ]
  },
  {
   "cell_type": "code",
   "execution_count": 16,
   "metadata": {
    "scrolled": true
   },
   "outputs": [
    {
     "data": {
      "text/plain": [
       "Index(['TITEL_KZ', 'AGER_TYP', 'KK_KUNDENTYP', 'KBA05_BAUMAX', 'GEBURTSJAHR',\n",
       "       'ALTER_HH'],\n",
       "      dtype='object')"
      ]
     },
     "execution_count": 16,
     "metadata": {},
     "output_type": "execute_result"
    }
   ],
   "source": [
    "azdias_missing_col_values[azdias_missing_col_values > 200000].index"
   ]
  },
  {
   "cell_type": "code",
   "execution_count": 17,
   "metadata": {},
   "outputs": [
    {
     "data": {
      "text/plain": [
       "TITEL_KZ        889061\n",
       "AGER_TYP        685843\n",
       "KK_KUNDENTYP    584612\n",
       "KBA05_BAUMAX    476524\n",
       "GEBURTSJAHR     392318\n",
       "ALTER_HH        310267\n",
       "dtype: int64"
      ]
     },
     "execution_count": 17,
     "metadata": {},
     "output_type": "execute_result"
    }
   ],
   "source": [
    "azdias_missing_col_values[azdias_missing_col_values > 200000]"
   ]
  },
  {
   "cell_type": "code",
   "execution_count": 18,
   "metadata": {},
   "outputs": [],
   "source": [
    "missing_values_outlier = azdias_missing_col_values[azdias_missing_col_values > 200000].index"
   ]
  },
  {
   "cell_type": "code",
   "execution_count": 19,
   "metadata": {},
   "outputs": [],
   "source": [
    "# Remove the outlier columns from the dataset. (You'll perform other data\n",
    "# engineering tasks such as re-encoding and imputation later.)\n",
    "azdias_df = azdias.drop(columns=missing_values_outlier)"
   ]
  },
  {
   "cell_type": "code",
   "execution_count": 20,
   "metadata": {},
   "outputs": [
    {
     "data": {
      "text/html": [
       "<div>\n",
       "<style scoped>\n",
       "    .dataframe tbody tr th:only-of-type {\n",
       "        vertical-align: middle;\n",
       "    }\n",
       "\n",
       "    .dataframe tbody tr th {\n",
       "        vertical-align: top;\n",
       "    }\n",
       "\n",
       "    .dataframe thead th {\n",
       "        text-align: right;\n",
       "    }\n",
       "</style>\n",
       "<table border=\"1\" class=\"dataframe\">\n",
       "  <thead>\n",
       "    <tr style=\"text-align: right;\">\n",
       "      <th></th>\n",
       "      <th>ALTERSKATEGORIE_GROB</th>\n",
       "      <th>ANREDE_KZ</th>\n",
       "      <th>CJT_GESAMTTYP</th>\n",
       "      <th>FINANZ_MINIMALIST</th>\n",
       "      <th>FINANZ_SPARER</th>\n",
       "      <th>FINANZ_VORSORGER</th>\n",
       "      <th>FINANZ_ANLEGER</th>\n",
       "      <th>FINANZ_UNAUFFAELLIGER</th>\n",
       "      <th>FINANZ_HAUSBAUER</th>\n",
       "      <th>FINANZTYP</th>\n",
       "      <th>...</th>\n",
       "      <th>PLZ8_ANTG1</th>\n",
       "      <th>PLZ8_ANTG2</th>\n",
       "      <th>PLZ8_ANTG3</th>\n",
       "      <th>PLZ8_ANTG4</th>\n",
       "      <th>PLZ8_BAUMAX</th>\n",
       "      <th>PLZ8_HHZ</th>\n",
       "      <th>PLZ8_GBZ</th>\n",
       "      <th>ARBEIT</th>\n",
       "      <th>ORTSGR_KLS9</th>\n",
       "      <th>RELAT_AB</th>\n",
       "    </tr>\n",
       "  </thead>\n",
       "  <tbody>\n",
       "    <tr>\n",
       "      <th>0</th>\n",
       "      <td>2.0</td>\n",
       "      <td>1.0</td>\n",
       "      <td>2.0</td>\n",
       "      <td>3.0</td>\n",
       "      <td>4.0</td>\n",
       "      <td>3.0</td>\n",
       "      <td>5.0</td>\n",
       "      <td>5.0</td>\n",
       "      <td>3.0</td>\n",
       "      <td>4.0</td>\n",
       "      <td>...</td>\n",
       "      <td>NaN</td>\n",
       "      <td>NaN</td>\n",
       "      <td>NaN</td>\n",
       "      <td>NaN</td>\n",
       "      <td>NaN</td>\n",
       "      <td>NaN</td>\n",
       "      <td>NaN</td>\n",
       "      <td>NaN</td>\n",
       "      <td>NaN</td>\n",
       "      <td>NaN</td>\n",
       "    </tr>\n",
       "    <tr>\n",
       "      <th>1</th>\n",
       "      <td>1.0</td>\n",
       "      <td>2.0</td>\n",
       "      <td>5.0</td>\n",
       "      <td>1.0</td>\n",
       "      <td>5.0</td>\n",
       "      <td>2.0</td>\n",
       "      <td>5.0</td>\n",
       "      <td>4.0</td>\n",
       "      <td>5.0</td>\n",
       "      <td>1.0</td>\n",
       "      <td>...</td>\n",
       "      <td>2.0</td>\n",
       "      <td>3.0</td>\n",
       "      <td>2.0</td>\n",
       "      <td>1.0</td>\n",
       "      <td>1.0</td>\n",
       "      <td>5.0</td>\n",
       "      <td>4.0</td>\n",
       "      <td>3.0</td>\n",
       "      <td>5.0</td>\n",
       "      <td>4.0</td>\n",
       "    </tr>\n",
       "    <tr>\n",
       "      <th>2</th>\n",
       "      <td>3.0</td>\n",
       "      <td>2.0</td>\n",
       "      <td>3.0</td>\n",
       "      <td>1.0</td>\n",
       "      <td>4.0</td>\n",
       "      <td>1.0</td>\n",
       "      <td>2.0</td>\n",
       "      <td>3.0</td>\n",
       "      <td>5.0</td>\n",
       "      <td>1.0</td>\n",
       "      <td>...</td>\n",
       "      <td>3.0</td>\n",
       "      <td>3.0</td>\n",
       "      <td>1.0</td>\n",
       "      <td>0.0</td>\n",
       "      <td>1.0</td>\n",
       "      <td>4.0</td>\n",
       "      <td>4.0</td>\n",
       "      <td>3.0</td>\n",
       "      <td>5.0</td>\n",
       "      <td>2.0</td>\n",
       "    </tr>\n",
       "    <tr>\n",
       "      <th>3</th>\n",
       "      <td>4.0</td>\n",
       "      <td>2.0</td>\n",
       "      <td>2.0</td>\n",
       "      <td>4.0</td>\n",
       "      <td>2.0</td>\n",
       "      <td>5.0</td>\n",
       "      <td>2.0</td>\n",
       "      <td>1.0</td>\n",
       "      <td>2.0</td>\n",
       "      <td>6.0</td>\n",
       "      <td>...</td>\n",
       "      <td>2.0</td>\n",
       "      <td>2.0</td>\n",
       "      <td>2.0</td>\n",
       "      <td>0.0</td>\n",
       "      <td>1.0</td>\n",
       "      <td>3.0</td>\n",
       "      <td>4.0</td>\n",
       "      <td>2.0</td>\n",
       "      <td>3.0</td>\n",
       "      <td>3.0</td>\n",
       "    </tr>\n",
       "    <tr>\n",
       "      <th>4</th>\n",
       "      <td>3.0</td>\n",
       "      <td>1.0</td>\n",
       "      <td>5.0</td>\n",
       "      <td>4.0</td>\n",
       "      <td>3.0</td>\n",
       "      <td>4.0</td>\n",
       "      <td>1.0</td>\n",
       "      <td>3.0</td>\n",
       "      <td>2.0</td>\n",
       "      <td>5.0</td>\n",
       "      <td>...</td>\n",
       "      <td>2.0</td>\n",
       "      <td>4.0</td>\n",
       "      <td>2.0</td>\n",
       "      <td>1.0</td>\n",
       "      <td>2.0</td>\n",
       "      <td>3.0</td>\n",
       "      <td>3.0</td>\n",
       "      <td>4.0</td>\n",
       "      <td>6.0</td>\n",
       "      <td>5.0</td>\n",
       "    </tr>\n",
       "  </tbody>\n",
       "</table>\n",
       "<p>5 rows × 79 columns</p>\n",
       "</div>"
      ],
      "text/plain": [
       "   ALTERSKATEGORIE_GROB  ANREDE_KZ  CJT_GESAMTTYP  FINANZ_MINIMALIST  \\\n",
       "0                   2.0        1.0            2.0                3.0   \n",
       "1                   1.0        2.0            5.0                1.0   \n",
       "2                   3.0        2.0            3.0                1.0   \n",
       "3                   4.0        2.0            2.0                4.0   \n",
       "4                   3.0        1.0            5.0                4.0   \n",
       "\n",
       "   FINANZ_SPARER  FINANZ_VORSORGER  FINANZ_ANLEGER  FINANZ_UNAUFFAELLIGER  \\\n",
       "0            4.0               3.0             5.0                    5.0   \n",
       "1            5.0               2.0             5.0                    4.0   \n",
       "2            4.0               1.0             2.0                    3.0   \n",
       "3            2.0               5.0             2.0                    1.0   \n",
       "4            3.0               4.0             1.0                    3.0   \n",
       "\n",
       "   FINANZ_HAUSBAUER  FINANZTYP    ...     PLZ8_ANTG1  PLZ8_ANTG2  PLZ8_ANTG3  \\\n",
       "0               3.0        4.0    ...            NaN         NaN         NaN   \n",
       "1               5.0        1.0    ...            2.0         3.0         2.0   \n",
       "2               5.0        1.0    ...            3.0         3.0         1.0   \n",
       "3               2.0        6.0    ...            2.0         2.0         2.0   \n",
       "4               2.0        5.0    ...            2.0         4.0         2.0   \n",
       "\n",
       "   PLZ8_ANTG4  PLZ8_BAUMAX  PLZ8_HHZ  PLZ8_GBZ  ARBEIT  ORTSGR_KLS9  RELAT_AB  \n",
       "0         NaN          NaN       NaN       NaN     NaN          NaN       NaN  \n",
       "1         1.0          1.0       5.0       4.0     3.0          5.0       4.0  \n",
       "2         0.0          1.0       4.0       4.0     3.0          5.0       2.0  \n",
       "3         0.0          1.0       3.0       4.0     2.0          3.0       3.0  \n",
       "4         1.0          2.0       3.0       3.0     4.0          6.0       5.0  \n",
       "\n",
       "[5 rows x 79 columns]"
      ]
     },
     "execution_count": 20,
     "metadata": {},
     "output_type": "execute_result"
    }
   ],
   "source": [
    "azdias_df.head()"
   ]
  },
  {
   "cell_type": "markdown",
   "metadata": {},
   "source": [
    "#### Discussion 1.1.2: Assess Missing Data in Each Column\n",
    "\n",
    "There are some reasons that the columns above have so many missing values. And they might be:\n",
    "1. People don't want to share their sensitive information. For example, AGER_TYP\n",
    "2. The required data are not applied to the most people. Like TITKE_KZ\n",
    "3. Less effective inputs. Many columns have the same amount of missing data. That indicates these missing data may from the same rows. For example, row 732775 has 54 missing values in the row and row 315705 has 53 missing data in the row. This causes the information extraction from these forms are less effective. "
   ]
  },
  {
   "cell_type": "markdown",
   "metadata": {},
   "source": [
    "#### Step 1.1.3: Assess Missing Data in Each Row\n",
    "\n",
    "Now, you'll perform a similar assessment for the rows of the dataset. How much data is missing in each row? As with the columns, you should see some groups of points that have a very different numbers of missing values. Divide the data into two subsets: one for data points that are above some threshold for missing values, and a second subset for points below that threshold.\n",
    "\n",
    "In order to know what to do with the outlier rows, we should see if the distribution of data values on columns that are not missing data (or are missing very little data) are similar or different between the two groups. Select at least five of these columns and compare the distribution of values.\n",
    "- You can use seaborn's [`countplot()`](https://seaborn.pydata.org/generated/seaborn.countplot.html) function to create a bar chart of code frequencies and matplotlib's [`subplot()`](https://matplotlib.org/api/_as_gen/matplotlib.pyplot.subplot.html) function to put bar charts for the two subplots side by side.\n",
    "- To reduce repeated code, you might want to write a function that can perform this comparison, taking as one of its arguments a column to be compared.\n",
    "\n",
    "Depending on what you observe in your comparison, this will have implications on how you approach your conclusions later in the analysis. If the distributions of non-missing features look similar between the data with many missing values and the data with few or no missing values, then we could argue that simply dropping those points from the analysis won't present a major issue. On the other hand, if the data with many missing values looks very different from the data with few or no missing values, then we should make a note on those data as special. We'll revisit these data later on. **Either way, you should continue your analysis for now using just the subset of the data with few or no missing values.**"
   ]
  },
  {
   "cell_type": "code",
   "execution_count": 21,
   "metadata": {
    "scrolled": true
   },
   "outputs": [
    {
     "data": {
      "text/plain": [
       "268012"
      ]
     },
     "execution_count": 21,
     "metadata": {},
     "output_type": "execute_result"
    }
   ],
   "source": [
    "# How much data is missing in each row of the dataset?\n",
    "azdias_df[azdias_df.isnull().sum(axis = 1)>0].shape[0]"
   ]
  },
  {
   "cell_type": "code",
   "execution_count": 22,
   "metadata": {},
   "outputs": [
    {
     "data": {
      "text/plain": [
       "count    891221.000000\n",
       "mean          5.649894\n",
       "std          13.234687\n",
       "min           0.000000\n",
       "25%           0.000000\n",
       "50%           0.000000\n",
       "75%           3.000000\n",
       "max          49.000000\n",
       "dtype: float64"
      ]
     },
     "execution_count": 22,
     "metadata": {},
     "output_type": "execute_result"
    }
   ],
   "source": [
    "azdias_df.isnull().sum(axis = 1).describe()"
   ]
  },
  {
   "cell_type": "code",
   "execution_count": 23,
   "metadata": {},
   "outputs": [],
   "source": [
    "# Write code to divide the data into two subsets based on the number of missing\n",
    "# values in each row.\n",
    "azdias_no_missing_values = azdias_df[azdias_df.isnull().sum(axis = 1) <=3]\n",
    "azdias_w_missing_values = azdias_df[azdias_df.isnull().sum(axis = 1) > 3]"
   ]
  },
  {
   "cell_type": "code",
   "execution_count": 24,
   "metadata": {
    "scrolled": true
   },
   "outputs": [
    {
     "data": {
      "text/plain": [
       "24"
      ]
     },
     "execution_count": 24,
     "metadata": {},
     "output_type": "execute_result"
    }
   ],
   "source": [
    "# Compare the distribution of values for at least five columns where there are\n",
    "# no or few missing values, between the two subsets.\n",
    "len(azdias_df.loc[:, azdias_df.isnull().sum() <= 3].columns)"
   ]
  },
  {
   "cell_type": "code",
   "execution_count": 25,
   "metadata": {
    "scrolled": true
   },
   "outputs": [],
   "source": [
    "def col_comparison_w_wo_missing_data(col):\n",
    "    fig,ax =  plt.subplots(1,2, sharey=True)\n",
    "    ax[0].title.set_text('No Missing Data')\n",
    "    ax[1].title.set_text('With Missing Data')\n",
    "    sns.countplot(x = col, data = azdias_no_missing_values,  ax=ax[0])\n",
    "    sns.countplot(x = col, data = azdias_w_missing_values, ax=ax[1])"
   ]
  },
  {
   "cell_type": "code",
   "execution_count": 26,
   "metadata": {},
   "outputs": [
    {
     "name": "stderr",
     "output_type": "stream",
     "text": [
      "/opt/conda/lib/python3.6/site-packages/matplotlib/pyplot.py:523: RuntimeWarning: More than 20 figures have been opened. Figures created through the pyplot interface (`matplotlib.pyplot.figure`) are retained until explicitly closed and may consume too much memory. (To control this warning, see the rcParam `figure.max_open_warning`).\n",
      "  max_open_warning, RuntimeWarning)\n"
     ]
    },
    {
     "data": {
      "image/png": "[encoded data removed]",
      "text/plain": [
       "<matplotlib.figure.Figure at 0x7f89feef6668>"
      ]
     },
     "metadata": {
      "needs_background": "light"
     },
     "output_type": "display_data"
    },
    {
     "data": {
      "image/png": "[encoded data removed]",
      "text/plain": [
       "<matplotlib.figure.Figure at 0x7f89fec93320>"
      ]
     },
     "metadata": {
      "needs_background": "light"
     },
     "output_type": "display_data"
    },
    {
     "data": {
      "image/png": "[encoded data removed]",
      "text/plain": [
       "<matplotlib.figure.Figure at 0x7f89dee31588>"
      ]
     },
     "metadata": {
      "needs_background": "light"
     },
     "output_type": "display_data"
    },
    {
     "data": {
      "image/png": "[encoded data removed]",
      "text/plain": [
       "<matplotlib.figure.Figure at 0x7f89ded5e828>"
      ]
     },
     "metadata": {
      "needs_background": "light"
     },
     "output_type": "display_data"
    },
    {
     "data": {
      "image/png": "[encoded data removed]",
      "text/plain": [
       "<matplotlib.figure.Figure at 0x7f89ded026d8>"
      ]
     },
     "metadata": {
      "needs_background": "light"
     },
     "output_type": "display_data"
    },
    {
     "data": {
      "image/png": "[encoded data removed]",
      "text/plain": [
       "<matplotlib.figure.Figure at 0x7f89dec87588>"
      ]
     },
     "metadata": {
      "needs_background": "light"
     },
     "output_type": "display_data"
    },
    {
     "data": {
      "image/png": "[encoded data removed]",
      "text/plain": [
       "<matplotlib.figure.Figure at 0x7f89deb98320>"
      ]
     },
     "metadata": {
      "needs_background": "light"
     },
     "output_type": "display_data"
    },
    {
     "data": {
      "image/png": "[encoded data removed]",
      "text/plain": [
       "<matplotlib.figure.Figure at 0x7f89deb42d30>"
      ]
     },
     "metadata": {
      "needs_background": "light"
     },
     "output_type": "display_data"
    },
    {
     "data": {
      "image/png": "[encoded data removed]",
      "text/plain": [
       "<matplotlib.figure.Figure at 0x7f89deabe5c0>"
      ]
     },
     "metadata": {
      "needs_background": "light"
     },
     "output_type": "display_data"
    },
    {
     "data": {
      "image/png": "[encoded data removed]",
      "text/plain": [
       "<matplotlib.figure.Figure at 0x7f89dea19da0>"
      ]
     },
     "metadata": {
      "needs_background": "light"
     },
     "output_type": "display_data"
    },
    {
     "data": {
      "image/png": "[encoded data removed]",
      "text/plain": [
       "<matplotlib.figure.Figure at 0x7f89de951da0>"
      ]
     },
     "metadata": {
      "needs_background": "light"
     },
     "output_type": "display_data"
    },
    {
     "data": {
      "image/png": "[encoded data removed]",
      "text/plain": [
       "<matplotlib.figure.Figure at 0x7f89de8e6d68>"
      ]
     },
     "metadata": {
      "needs_background": "light"
     },
     "output_type": "display_data"
    },
    {
     "data": {
      "image/png": "[encoded data removed]",
      "text/plain": [
       "<matplotlib.figure.Figure at 0x7f89de8b1400>"
      ]
     },
     "metadata": {
      "needs_background": "light"
     },
     "output_type": "display_data"
    },
    {
     "data": {
      "image/png": "[encoded data removed]",
      "text/plain": [
       "<matplotlib.figure.Figure at 0x7f89de7b3dd8>"
      ]
     },
     "metadata": {
      "needs_background": "light"
     },
     "output_type": "display_data"
    },
    {
     "data": {
      "image/png": "[encoded data removed]",
      "text/plain": [
       "<matplotlib.figure.Figure at 0x7f89de6d85c0>"
      ]
     },
     "metadata": {
      "needs_background": "light"
     },
     "output_type": "display_data"
    },
    {
     "data": {
      "image/png": "[encoded data removed]",
      "text/plain": [
       "<matplotlib.figure.Figure at 0x7f89de681668>"
      ]
     },
     "metadata": {
      "needs_background": "light"
     },
     "output_type": "display_data"
    },
    {
     "data": {
      "image/png": "[encoded data removed]",
      "text/plain": [
       "<matplotlib.figure.Figure at 0x7f89de63bd30>"
      ]
     },
     "metadata": {
      "needs_background": "light"
     },
     "output_type": "display_data"
    },
    {
     "data": {
      "image/png": "[encoded data removed]",
      "text/plain": [
       "<matplotlib.figure.Figure at 0x7f89de53ecf8>"
      ]
     },
     "metadata": {
      "needs_background": "light"
     },
     "output_type": "display_data"
    },
    {
     "data": {
      "image/png": "[encoded data removed]",
      "text/plain": [
       "<matplotlib.figure.Figure at 0x7f89de4ac6a0>"
      ]
     },
     "metadata": {
      "needs_background": "light"
     },
     "output_type": "display_data"
    },
    {
     "data": {
      "image/png": "[encoded data removed]",
      "text/plain": [
       "<matplotlib.figure.Figure at 0x7f89de38dac8>"
      ]
     },
     "metadata": {
      "needs_background": "light"
     },
     "output_type": "display_data"
    },
    {
     "data": {
      "image/png": "[encoded data removed]",
      "text/plain": [
       "<matplotlib.figure.Figure at 0x7f89de3315c0>"
      ]
     },
     "metadata": {
      "needs_background": "light"
     },
     "output_type": "display_data"
    },
    {
     "data": {
      "image/png": "[encoded data removed]",
      "text/plain": [
       "<matplotlib.figure.Figure at 0x7f89de25beb8>"
      ]
     },
     "metadata": {
      "needs_background": "light"
     },
     "output_type": "display_data"
    },
    {
     "data": {
      "image/png": "[encoded data removed]",
      "text/plain": [
       "<matplotlib.figure.Figure at 0x7f89de200710>"
      ]
     },
     "metadata": {
      "needs_background": "light"
     },
     "output_type": "display_data"
    },
    {
     "data": {
      "image/png": "[encoded data removed]",
      "text/plain": [
       "<matplotlib.figure.Figure at 0x7f89de128198>"
      ]
     },
     "metadata": {
      "needs_background": "light"
     },
     "output_type": "display_data"
    }
   ],
   "source": [
    "col_list = azdias_df.loc[:, azdias_df.isnull().sum() == 0].columns\n",
    "for col in col_list:\n",
    "    col_comparison_w_wo_missing_data(col)"
   ]
  },
  {
   "cell_type": "markdown",
   "metadata": {},
   "source": [
    "#### Discussion 1.1.3: Assess Missing Data in Each Row\n",
    "\n",
    "By comparing the rows have missing values with the ones don't have missing values for 24 columns. I found:\n",
    "    - The datasest with missing values and the one with no or few missing values shared simiarly distributions on these binary columns \n",
    "    - The two datasets have different distributions on these non-binary columns\n",
    "    \n",
    "Therefore, I decide not remove the rows with many missing values becuase the data distributions will change if remove these values. And may impact on our final results."
   ]
  },
  {
   "cell_type": "code",
   "execution_count": 27,
   "metadata": {},
   "outputs": [],
   "source": [
    "# Use the dataset with no or few missing values for the further analysis\n",
    "azdias_df = azdias_no_missing_values"
   ]
  },
  {
   "cell_type": "markdown",
   "metadata": {},
   "source": [
    "### Step 1.2: Select and Re-Encode Features\n",
    "\n",
    "Checking for missing data isn't the only way in which you can prepare a dataset for analysis. Since the unsupervised learning techniques to be used will only work on data that is encoded numerically, you need to make a few encoding changes or additional assumptions to be able to make progress. In addition, while almost all of the values in the dataset are encoded using numbers, not all of them represent numeric values. Check the third column of the feature summary (`feat_info`) for a summary of types of measurement.\n",
    "- For numeric and interval data, these features can be kept without changes.\n",
    "- Most of the variables in the dataset are ordinal in nature. While ordinal values may technically be non-linear in spacing, make the simplifying assumption that the ordinal variables can be treated as being interval in nature (that is, kept without any changes).\n",
    "- Special handling may be necessary for the remaining two variable types: categorical, and 'mixed'.\n",
    "\n",
    "In the first two parts of this sub-step, you will perform an investigation of the categorical and mixed-type features and make a decision on each of them, whether you will keep, drop, or re-encode each. Then, in the last part, you will create a new data frame with only the selected and engineered columns.\n",
    "\n",
    "Data wrangling is often the trickiest part of the data analysis process, and there's a lot of it to be done here. But stick with it: once you're done with this step, you'll be ready to get to the machine learning parts of the project!"
   ]
  },
  {
   "cell_type": "code",
   "execution_count": 28,
   "metadata": {},
   "outputs": [
    {
     "data": {
      "text/plain": [
       "ordinal        49\n",
       "categorical    21\n",
       "mixed           7\n",
       "numeric         7\n",
       "interval        1\n",
       "Name: type, dtype: int64"
      ]
     },
     "execution_count": 28,
     "metadata": {},
     "output_type": "execute_result"
    }
   ],
   "source": [
    "# How many features are there of each data type?\n",
    "feat_info['type'].value_counts()"
   ]
  },
  {
   "cell_type": "markdown",
   "metadata": {},
   "source": [
    "#### Step 1.2.1: Re-Encode Categorical Features\n",
    "\n",
    "For categorical data, you would ordinarily need to encode the levels as dummy variables. Depending on the number of categories, perform one of the following:\n",
    "- For binary (two-level) categoricals that take numeric values, you can keep them without needing to do anything.\n",
    "- There is one binary variable that takes on non-numeric values. For this one, you need to re-encode the values as numbers or create a dummy variable.\n",
    "- For multi-level categoricals (three or more values), you can choose to encode the values using multiple dummy variables (e.g. via [OneHotEncoder](http://scikit-learn.org/stable/modules/generated/sklearn.preprocessing.OneHotEncoder.html)), or (to keep things straightforward) just drop them from the analysis. As always, document your choices in the Discussion section."
   ]
  },
  {
   "cell_type": "code",
   "execution_count": 29,
   "metadata": {},
   "outputs": [],
   "source": [
    "# Assess categorical variables: which are binary, which are multi-level, and\n",
    "# which one needs to be re-encoded?\n",
    "# cat_cols = [x for x in feat_info.loc[feat_info['type']=='categorical', 'attribute'].values if x not in missing_values_outlier]\n",
    "cat_cols = feat_info.loc[(feat_info['type']== 'categorical') & (~feat_info['attribute'].isin(missing_values_outlier))\\\n",
    "              , 'attribute'].values"
   ]
  },
  {
   "cell_type": "code",
   "execution_count": 30,
   "metadata": {
    "scrolled": true
   },
   "outputs": [
    {
     "data": {
      "text/plain": [
       "3"
      ]
     },
     "execution_count": 30,
     "metadata": {},
     "output_type": "execute_result"
    }
   ],
   "source": [
    "len(cat_cols) - len(azdias_df.loc[:, cat_cols].describe().columns)"
   ]
  },
  {
   "cell_type": "code",
   "execution_count": 31,
   "metadata": {},
   "outputs": [
    {
     "data": {
      "text/plain": [
       "Index(['ANREDE_KZ', 'CJT_GESAMTTYP', 'FINANZTYP', 'GFK_URLAUBERTYP',\n",
       "       'GREEN_AVANTGARDE', 'LP_FAMILIE_FEIN', 'LP_FAMILIE_GROB',\n",
       "       'LP_STATUS_FEIN', 'LP_STATUS_GROB', 'NATIONALITAET_KZ', 'SHOPPER_TYP',\n",
       "       'SOHO_KZ', 'VERS_TYP', 'ZABEOTYP', 'GEBAEUDETYP'],\n",
       "      dtype='object')"
      ]
     },
     "execution_count": 31,
     "metadata": {},
     "output_type": "execute_result"
    }
   ],
   "source": [
    "azdias_df.loc[:, cat_cols].describe().columns"
   ]
  },
  {
   "cell_type": "code",
   "execution_count": 32,
   "metadata": {
    "scrolled": true
   },
   "outputs": [
    {
     "data": {
      "text/html": [
       "<div>\n",
       "<style scoped>\n",
       "    .dataframe tbody tr th:only-of-type {\n",
       "        vertical-align: middle;\n",
       "    }\n",
       "\n",
       "    .dataframe tbody tr th {\n",
       "        vertical-align: top;\n",
       "    }\n",
       "\n",
       "    .dataframe thead th {\n",
       "        text-align: right;\n",
       "    }\n",
       "</style>\n",
       "<table border=\"1\" class=\"dataframe\">\n",
       "  <thead>\n",
       "    <tr style=\"text-align: right;\">\n",
       "      <th></th>\n",
       "      <th>ANREDE_KZ</th>\n",
       "      <th>CJT_GESAMTTYP</th>\n",
       "      <th>FINANZTYP</th>\n",
       "      <th>GFK_URLAUBERTYP</th>\n",
       "      <th>GREEN_AVANTGARDE</th>\n",
       "      <th>LP_FAMILIE_FEIN</th>\n",
       "      <th>LP_FAMILIE_GROB</th>\n",
       "      <th>LP_STATUS_FEIN</th>\n",
       "      <th>LP_STATUS_GROB</th>\n",
       "      <th>NATIONALITAET_KZ</th>\n",
       "      <th>SHOPPER_TYP</th>\n",
       "      <th>SOHO_KZ</th>\n",
       "      <th>VERS_TYP</th>\n",
       "      <th>ZABEOTYP</th>\n",
       "      <th>GEBAEUDETYP</th>\n",
       "      <th>OST_WEST_KZ</th>\n",
       "      <th>CAMEO_DEUG_2015</th>\n",
       "      <th>CAMEO_DEU_2015</th>\n",
       "    </tr>\n",
       "  </thead>\n",
       "  <tbody>\n",
       "    <tr>\n",
       "      <th>1</th>\n",
       "      <td>2.0</td>\n",
       "      <td>5.0</td>\n",
       "      <td>1.0</td>\n",
       "      <td>10.0</td>\n",
       "      <td>0.0</td>\n",
       "      <td>5.0</td>\n",
       "      <td>3.0</td>\n",
       "      <td>2.0</td>\n",
       "      <td>1.0</td>\n",
       "      <td>1.0</td>\n",
       "      <td>3.0</td>\n",
       "      <td>1.0</td>\n",
       "      <td>2.0</td>\n",
       "      <td>5.0</td>\n",
       "      <td>8.0</td>\n",
       "      <td>W</td>\n",
       "      <td>8</td>\n",
       "      <td>8A</td>\n",
       "    </tr>\n",
       "    <tr>\n",
       "      <th>2</th>\n",
       "      <td>2.0</td>\n",
       "      <td>3.0</td>\n",
       "      <td>1.0</td>\n",
       "      <td>10.0</td>\n",
       "      <td>1.0</td>\n",
       "      <td>1.0</td>\n",
       "      <td>1.0</td>\n",
       "      <td>3.0</td>\n",
       "      <td>2.0</td>\n",
       "      <td>1.0</td>\n",
       "      <td>2.0</td>\n",
       "      <td>0.0</td>\n",
       "      <td>1.0</td>\n",
       "      <td>5.0</td>\n",
       "      <td>1.0</td>\n",
       "      <td>W</td>\n",
       "      <td>4</td>\n",
       "      <td>4C</td>\n",
       "    </tr>\n",
       "    <tr>\n",
       "      <th>4</th>\n",
       "      <td>1.0</td>\n",
       "      <td>5.0</td>\n",
       "      <td>5.0</td>\n",
       "      <td>5.0</td>\n",
       "      <td>0.0</td>\n",
       "      <td>10.0</td>\n",
       "      <td>5.0</td>\n",
       "      <td>3.0</td>\n",
       "      <td>2.0</td>\n",
       "      <td>1.0</td>\n",
       "      <td>2.0</td>\n",
       "      <td>0.0</td>\n",
       "      <td>2.0</td>\n",
       "      <td>4.0</td>\n",
       "      <td>1.0</td>\n",
       "      <td>W</td>\n",
       "      <td>6</td>\n",
       "      <td>6B</td>\n",
       "    </tr>\n",
       "    <tr>\n",
       "      <th>5</th>\n",
       "      <td>2.0</td>\n",
       "      <td>2.0</td>\n",
       "      <td>2.0</td>\n",
       "      <td>1.0</td>\n",
       "      <td>0.0</td>\n",
       "      <td>1.0</td>\n",
       "      <td>1.0</td>\n",
       "      <td>4.0</td>\n",
       "      <td>2.0</td>\n",
       "      <td>1.0</td>\n",
       "      <td>0.0</td>\n",
       "      <td>0.0</td>\n",
       "      <td>2.0</td>\n",
       "      <td>4.0</td>\n",
       "      <td>1.0</td>\n",
       "      <td>W</td>\n",
       "      <td>8</td>\n",
       "      <td>8C</td>\n",
       "    </tr>\n",
       "    <tr>\n",
       "      <th>6</th>\n",
       "      <td>2.0</td>\n",
       "      <td>5.0</td>\n",
       "      <td>4.0</td>\n",
       "      <td>12.0</td>\n",
       "      <td>0.0</td>\n",
       "      <td>1.0</td>\n",
       "      <td>1.0</td>\n",
       "      <td>2.0</td>\n",
       "      <td>1.0</td>\n",
       "      <td>1.0</td>\n",
       "      <td>1.0</td>\n",
       "      <td>0.0</td>\n",
       "      <td>1.0</td>\n",
       "      <td>4.0</td>\n",
       "      <td>1.0</td>\n",
       "      <td>W</td>\n",
       "      <td>4</td>\n",
       "      <td>4A</td>\n",
       "    </tr>\n",
       "  </tbody>\n",
       "</table>\n",
       "</div>"
      ],
      "text/plain": [
       "   ANREDE_KZ  CJT_GESAMTTYP  FINANZTYP  GFK_URLAUBERTYP  GREEN_AVANTGARDE  \\\n",
       "1        2.0            5.0        1.0             10.0               0.0   \n",
       "2        2.0            3.0        1.0             10.0               1.0   \n",
       "4        1.0            5.0        5.0              5.0               0.0   \n",
       "5        2.0            2.0        2.0              1.0               0.0   \n",
       "6        2.0            5.0        4.0             12.0               0.0   \n",
       "\n",
       "   LP_FAMILIE_FEIN  LP_FAMILIE_GROB  LP_STATUS_FEIN  LP_STATUS_GROB  \\\n",
       "1              5.0              3.0             2.0             1.0   \n",
       "2              1.0              1.0             3.0             2.0   \n",
       "4             10.0              5.0             3.0             2.0   \n",
       "5              1.0              1.0             4.0             2.0   \n",
       "6              1.0              1.0             2.0             1.0   \n",
       "\n",
       "   NATIONALITAET_KZ  SHOPPER_TYP  SOHO_KZ  VERS_TYP  ZABEOTYP  GEBAEUDETYP  \\\n",
       "1               1.0          3.0      1.0       2.0       5.0          8.0   \n",
       "2               1.0          2.0      0.0       1.0       5.0          1.0   \n",
       "4               1.0          2.0      0.0       2.0       4.0          1.0   \n",
       "5               1.0          0.0      0.0       2.0       4.0          1.0   \n",
       "6               1.0          1.0      0.0       1.0       4.0          1.0   \n",
       "\n",
       "  OST_WEST_KZ CAMEO_DEUG_2015 CAMEO_DEU_2015  \n",
       "1           W               8             8A  \n",
       "2           W               4             4C  \n",
       "4           W               6             6B  \n",
       "5           W               8             8C  \n",
       "6           W               4             4A  "
      ]
     },
     "execution_count": 32,
     "metadata": {},
     "output_type": "execute_result"
    }
   ],
   "source": [
    "azdias_df.loc[:, cat_cols].head()"
   ]
  },
  {
   "cell_type": "code",
   "execution_count": 33,
   "metadata": {},
   "outputs": [
    {
     "name": "stdout",
     "output_type": "stream",
     "text": [
      "<class 'pandas.core.frame.DataFrame'>\n",
      "Int64Index: 684502 entries, 1 to 891220\n",
      "Data columns (total 18 columns):\n",
      "ANREDE_KZ           684502 non-null float64\n",
      "CJT_GESAMTTYP       684502 non-null float64\n",
      "FINANZTYP           684502 non-null float64\n",
      "GFK_URLAUBERTYP     684502 non-null float64\n",
      "GREEN_AVANTGARDE    684502 non-null float64\n",
      "LP_FAMILIE_FEIN     684502 non-null float64\n",
      "LP_FAMILIE_GROB     684502 non-null float64\n",
      "LP_STATUS_FEIN      684502 non-null float64\n",
      "LP_STATUS_GROB      684502 non-null float64\n",
      "NATIONALITAET_KZ    684502 non-null float64\n",
      "SHOPPER_TYP         684502 non-null float64\n",
      "SOHO_KZ             684502 non-null float64\n",
      "VERS_TYP            684502 non-null float64\n",
      "ZABEOTYP            684502 non-null float64\n",
      "GEBAEUDETYP         684502 non-null float64\n",
      "OST_WEST_KZ         684502 non-null object\n",
      "CAMEO_DEUG_2015     681863 non-null object\n",
      "CAMEO_DEU_2015      681863 non-null object\n",
      "dtypes: float64(15), object(3)\n",
      "memory usage: 119.2+ MB\n"
     ]
    }
   ],
   "source": [
    "azdias_df.loc[:, cat_cols].info()"
   ]
  },
  {
   "cell_type": "code",
   "execution_count": 34,
   "metadata": {},
   "outputs": [],
   "source": [
    "# Re-encode categorical variable(s) to be kept in the analysis.\n",
    "dummies_cols = ['OST_WEST_KZ', 'CAMEO_DEU_2015']\n",
    "azdias_df = azdias_df.join(pd.get_dummies(azdias_df[dummies_cols], drop_first=True))\n",
    "azdias_df['CAMEO_DEUG_2015'] = azdias_df['CAMEO_DEUG_2015'].astype(float)"
   ]
  },
  {
   "cell_type": "code",
   "execution_count": 35,
   "metadata": {},
   "outputs": [],
   "source": [
    "azdias_df.drop(columns = dummies_cols, inplace = True)"
   ]
  },
  {
   "cell_type": "markdown",
   "metadata": {},
   "source": [
    "#### Discussion 1.2.1: Re-Encode Categorical Features\n",
    "For all the 18 variables that are existing in the current dataframe. And last 3 variables are string data type. Here are how I re-encode these categorical features:\n",
    "    - Keep the 18 variables as they are\n",
    "    - Convert the data of CAMEO_DEUG_2015 from string to float\n",
    "    - Encode the OST_WEST_KZ AND CAMEO_DEU_2015 to dummies variables and drop the baseline variables.Because I want to avoid the pre-defined orders of the data. I use dummy variable instead of doing OneHotEncoded."
   ]
  },
  {
   "cell_type": "markdown",
   "metadata": {},
   "source": [
    "#### Step 1.2.2: Engineer Mixed-Type Features\n",
    "\n",
    "There are a handful of features that are marked as \"mixed\" in the feature summary that require special treatment in order to be included in the analysis. There are two in particular that deserve attention; the handling of the rest are up to your own choices:\n",
    "- \"PRAEGENDE_JUGENDJAHRE\" combines information on three dimensions: generation by decade, movement (mainstream vs. avantgarde), and nation (east vs. west). While there aren't enough levels to disentangle east from west, you should create two new variables to capture the other two dimensions: an interval-type variable for decade, and a binary variable for movement.\n",
    "- \"CAMEO_INTL_2015\" combines information on two axes: wealth and life stage. Break up the two-digit codes by their 'tens'-place and 'ones'-place digits into two new ordinal variables (which, for the purposes of this project, is equivalent to just treating them as their raw numeric values).\n",
    "- If you decide to keep or engineer new features around the other mixed-type features, make sure you note your steps in the Discussion section.\n",
    "\n",
    "Be sure to check `Data_Dictionary.md` for the details needed to finish these tasks."
   ]
  },
  {
   "cell_type": "code",
   "execution_count": 36,
   "metadata": {},
   "outputs": [
    {
     "data": {
      "text/html": [
       "<div>\n",
       "<style scoped>\n",
       "    .dataframe tbody tr th:only-of-type {\n",
       "        vertical-align: middle;\n",
       "    }\n",
       "\n",
       "    .dataframe tbody tr th {\n",
       "        vertical-align: top;\n",
       "    }\n",
       "\n",
       "    .dataframe thead th {\n",
       "        text-align: right;\n",
       "    }\n",
       "</style>\n",
       "<table border=\"1\" class=\"dataframe\">\n",
       "  <thead>\n",
       "    <tr style=\"text-align: right;\">\n",
       "      <th></th>\n",
       "      <th>attribute</th>\n",
       "      <th>information_level</th>\n",
       "      <th>type</th>\n",
       "      <th>missing_or_unknown</th>\n",
       "    </tr>\n",
       "  </thead>\n",
       "  <tbody>\n",
       "    <tr>\n",
       "      <th>22</th>\n",
       "      <td>PRAEGENDE_JUGENDJAHRE</td>\n",
       "      <td>person</td>\n",
       "      <td>mixed</td>\n",
       "      <td>[-1, 0]</td>\n",
       "    </tr>\n",
       "  </tbody>\n",
       "</table>\n",
       "</div>"
      ],
      "text/plain": [
       "                attribute information_level   type missing_or_unknown\n",
       "22  PRAEGENDE_JUGENDJAHRE            person  mixed            [-1, 0]"
      ]
     },
     "execution_count": 36,
     "metadata": {},
     "output_type": "execute_result"
    }
   ],
   "source": [
    "feat_info[feat_info['attribute'] == 'PRAEGENDE_JUGENDJAHRE']"
   ]
  },
  {
   "cell_type": "code",
   "execution_count": 37,
   "metadata": {
    "scrolled": true
   },
   "outputs": [],
   "source": [
    "# Investigate \"PRAEGENDE_JUGENDJAHRE\" and engineer two new variables.\n",
    "mainstream_list = [1, 3, 5, 8, 10, 12, 14]\n",
    "w_list = [6, 10, 11]\n",
    "e_list = [7, 12, 13]\n",
    "we_list = [1, 2, 3, 4, 5, 8, 9, 14, 15]\n",
    "\n",
    "#create dominating movement type: 1 for mainstream and 0 for avantgarde\n",
    "azdias_df['DOMINATING_MOVEMENT_TYPE_MAINSTREAM'] = \\\n",
    "azdias_df['PRAEGENDE_JUGENDJAHRE'].apply(lambda x: 1 if x in mainstream_list else 0)\n",
    "\n",
    "#create dominating movement region: 1 for East, 2 for West and 3 for both East and West\n",
    "azdias_df['DOMINATING_MOVEMENT_TYPE_REGION'] = \\\n",
    "azdias_df['PRAEGENDE_JUGENDJAHRE'].apply(lambda x: 1 if x in e_list else 0)\n",
    "\n",
    "azdias_df['DOMINATING_MOVEMENT_TYPE_REGION'] = \\\n",
    "azdias_df['PRAEGENDE_JUGENDJAHRE'].apply(lambda x: 2 if x in w_list else 0)\n",
    "\n",
    "azdias_df['DOMINATING_MOVEMENT_TYPE_REGION'] = \\\n",
    "azdias_df['PRAEGENDE_JUGENDJAHRE'].apply(lambda x: 3 if x in we_list else 0)"
   ]
  },
  {
   "cell_type": "code",
   "execution_count": 38,
   "metadata": {},
   "outputs": [],
   "source": [
    "# Investigate \"CAMEO_INTL_2015\" and engineer two new variables.\n",
    "# create wealth type: Wealthy:1, Prosperous: 2, Comfortable: 3, Less Affluent: 4, Poorer: 5, Unknown: NaN\n",
    "azdias_df['WEALTH_TYPE'] = \\\n",
    "azdias_df['CAMEO_INTL_2015'].apply(lambda x: int(int(x)/10) if pd.notnull(x) else x)\n",
    "\n",
    "# create life stage type: Pre-Family Couples & Singles: 1, Young Couples With Children: 2, \n",
    "# Families With School Age Children: 3, Older Families &  Mature Couples: 4, Elders In Retirement: 5, Unknown: NaN\n",
    "azdias_df['LIFE_STAGE'] = \\\n",
    "azdias_df['CAMEO_INTL_2015'].apply(lambda x: int(int(x)%10) if pd.notnull(x) else x)"
   ]
  },
  {
   "cell_type": "markdown",
   "metadata": {},
   "source": [
    "#### Discussion 1.2.2: Engineer Mixed-Type Features\n",
    "\n",
    "Convert **PRAEGENDE_JUGENDJAHRE** into DOMINATING_MOVEMENT_TYPE_MAINSTREAM and DOMINATING_MOVEMENT_TYPE_REGION variables. \n",
    "\n",
    "Based on the info from the data dictionary. DOMINATING_MOVEMENT_TYPE_MAINSTREAM is 1 if it was a mainstream movement and 0 if it is avantgarde movement. Created a list of codes that are mainsteam movement and check if the code is in the mainstream list.\n",
    "\n",
    "For DOMINATING_MOVEMENT_TYPE_REGION, there are 3 options. East, West and both east and west. Convert the PRAEGENDE_JUGENDJAHRE into 1 if it was east only movement, 2 if it was west only movement and 3 if it was a movement on both east and west.\n",
    "\n",
    "\n",
    "The **CAMEO_INTL_2015** variable contains two info. One is the wealth level of the household and another one is the life stage of the household. Splited the CAMEO_INTL_2015 into the two new variables. The codes are formed by 2 digits and the 10s digit represents the wealth level while the digit indicates the life stage.\n",
    "\n",
    "Converted the codes as follows:\n",
    "- Wealthy:1, Prosperous: 2, Comfortable: 3, Less Affluent: 4, Poorer: 5, Unknown: NaN\n",
    "- Pre-Family Couples & Singles: 1, Young Couples With Children: 2, Families With School Age Children: 3, Older Families &  Mature Couples: 4, Elders In Retirement: 5, Unknown: NaN"
   ]
  },
  {
   "cell_type": "markdown",
   "metadata": {},
   "source": [
    "#### Step 1.2.3: Complete Feature Selection\n",
    "\n",
    "In order to finish this step up, you need to make sure that your data frame now only has the columns that you want to keep. To summarize, the dataframe should consist of the following:\n",
    "- All numeric, interval, and ordinal type columns from the original dataset.\n",
    "- Binary categorical features (all numerically-encoded).\n",
    "- Engineered features from other multi-level categorical features and mixed features.\n",
    "\n",
    "Make sure that for any new columns that you have engineered, that you've excluded the original columns from the final dataset. Otherwise, their values will interfere with the analysis later on the project. For example, you should not keep \"PRAEGENDE_JUGENDJAHRE\", since its values won't be useful for the algorithm: only the values derived from it in the engineered features you created should be retained. As a reminder, your data should only be from **the subset with few or no missing values**."
   ]
  },
  {
   "cell_type": "code",
   "execution_count": 39,
   "metadata": {},
   "outputs": [],
   "source": [
    "# If there are other re-engineering tasks you need to perform, make sure you\n",
    "# take care of them here. (Dealing with missing data will come in step 2.1.)\n",
    "mixed_cols = ['PRAEGENDE_JUGENDJAHRE', 'CAMEO_INTL_2015']\n",
    "azdias_df.drop(columns = mixed_cols, inplace = True)"
   ]
  },
  {
   "cell_type": "code",
   "execution_count": 40,
   "metadata": {},
   "outputs": [],
   "source": [
    "# Do whatever you need to in order to ensure that the dataframe only contains\n",
    "# the columns that should be passed to the algorithm functions.\n",
    "\n"
   ]
  },
  {
   "cell_type": "markdown",
   "metadata": {},
   "source": [
    "### Step 1.3: Create a Cleaning Function\n",
    "\n",
    "Even though you've finished cleaning up the general population demographics data, it's important to look ahead to the future and realize that you'll need to perform the same cleaning steps on the customer demographics data. In this substep, complete the function below to execute the main feature selection, encoding, and re-engineering steps you performed above. Then, when it comes to looking at the customer data in Step 3, you can just run this function on that DataFrame to get the trimmed dataset in a single step."
   ]
  },
  {
   "cell_type": "code",
   "execution_count": 41,
   "metadata": {},
   "outputs": [],
   "source": [
    "def clean_data(df, missing_values_outlier):\n",
    "    \"\"\"\n",
    "    Perform feature trimming, re-encoding, and engineering for demographics data\n",
    "    \n",
    "    INPUT: Demographics DataFrame\n",
    "    missing_values_outlier(array): a list of columns that have too many missing values that won't use for\n",
    "    further analysis\n",
    "    OUTPUT: Trimmed and cleaned demographics DataFrame\n",
    "    \"\"\"\n",
    "    \n",
    "    # Put in code here to execute all main cleaning steps:\n",
    "    # convert missing value codes into NaNs, ...\n",
    "    for i in range(feat_info.shape[0]):\n",
    "        df.loc[df[feat_info.iloc[i,0]].isin(feat_info.iloc[i,-1]), feat_info.iloc[i,0]] =np.nan\n",
    "    \n",
    "    # remove selected columns and rows, ...\n",
    "    \n",
    "    # remove selected columns\n",
    "    missing_values_outlier = missing_values_outlier\n",
    "    df = df.drop(columns=missing_values_outlier)\n",
    "    \n",
    "    # remove selected rows\n",
    "    df = df[df.isnull().sum(axis = 1) <=3]\n",
    "    \n",
    "    # select, re-encode, and engineer column values.\n",
    "    dummies_cols = ['OST_WEST_KZ', 'CAMEO_DEU_2015']\n",
    "    df = df.join(pd.get_dummies(df[dummies_cols], drop_first=True))\n",
    "    df.drop(columns = dummies_cols, inplace = True)\n",
    "    \n",
    "    df['CAMEO_DEUG_2015'] = df['CAMEO_DEUG_2015'].astype(float)\n",
    "    \n",
    "    # Investigate \"PRAEGENDE_JUGENDJAHRE\" and engineer two new variables.\n",
    "    mainstream_list = [1, 3, 5, 8, 10, 12, 14]\n",
    "    w_list = [6, 10, 11]\n",
    "    e_list = [7, 12, 13]\n",
    "    we_list = [1, 2, 3, 4, 5, 8, 9, 14, 15]\n",
    "\n",
    "    #create dominating movement type: 1 for mainstream and 0 for avantgarde\n",
    "    df['DOMINATING_MOVEMENT_TYPE_MAINSTREAM'] = \\\n",
    "    df['PRAEGENDE_JUGENDJAHRE'].apply(lambda x: 1 if x in mainstream_list else 0)\n",
    "\n",
    "    #create dominating movement region: 1 for East, 2 for West and 3 for both East and West\n",
    "    df['DOMINATING_MOVEMENT_TYPE_REGION'] = \\\n",
    "    df['PRAEGENDE_JUGENDJAHRE'].apply(lambda x: 1 if x in e_list else 0)\n",
    "\n",
    "    df['DOMINATING_MOVEMENT_TYPE_REGION'] = \\\n",
    "    df['PRAEGENDE_JUGENDJAHRE'].apply(lambda x: 2 if x in w_list else 0)\n",
    "\n",
    "    df['DOMINATING_MOVEMENT_TYPE_REGION'] = \\\n",
    "    df['PRAEGENDE_JUGENDJAHRE'].apply(lambda x: 3 if x in we_list else 0)\n",
    "    \n",
    "    # Investigate \"CAMEO_INTL_2015\" and engineer two new variables.\n",
    "    # create wealth type: Wealthy:1, Prosperous: 2, Comfortable: 3, Less Affluent: 4, Poorer: 5, Unknown: NaN\n",
    "    df['WEALTH_TYPE'] = \\\n",
    "    df['CAMEO_INTL_2015'].apply(lambda x: int(int(x)/10) if pd.notnull(x) else x)\n",
    "\n",
    "    # create life stage type: Pre-Family Couples & Singles: 1, Young Couples With Children: 2, \n",
    "    # Families With School Age Children: 3, Older Families &  Mature Couples: 4, Elders In Retirement: 5, Unknown: NaN\n",
    "    df['LIFE_STAGE'] = \\\n",
    "    df['CAMEO_INTL_2015'].apply(lambda x: int(int(x)%10) if pd.notnull(x) else x)\n",
    "    \n",
    "    #drop mixed variables\n",
    "    mixed_cols = ['PRAEGENDE_JUGENDJAHRE', 'CAMEO_INTL_2015']\n",
    "    df = df.drop(columns = mixed_cols)\n",
    "    \n",
    "    # Return the cleaned dataframe.\n",
    "    \n",
    "    return df"
   ]
  },
  {
   "cell_type": "markdown",
   "metadata": {},
   "source": [
    "## Step 2: Feature Transformation\n",
    "\n",
    "### Step 2.1: Apply Feature Scaling\n",
    "\n",
    "Before we apply dimensionality reduction techniques to the data, we need to perform feature scaling so that the principal component vectors are not influenced by the natural differences in scale for features. Starting from this part of the project, you'll want to keep an eye on the [API reference page for sklearn](http://scikit-learn.org/stable/modules/classes.html) to help you navigate to all of the classes and functions that you'll need. In this substep, you'll need to check the following:\n",
    "\n",
    "- sklearn requires that data not have missing values in order for its estimators to work properly. So, before applying the scaler to your data, make sure that you've cleaned the DataFrame of the remaining missing values. This can be as simple as just removing all data points with missing data, or applying an [Imputer](http://scikit-learn.org/stable/modules/generated/sklearn.preprocessing.Imputer.html) to replace all missing values. You might also try a more complicated procedure where you temporarily remove missing values in order to compute the scaling parameters before re-introducing those missing values and applying imputation. Think about how much missing data you have and what possible effects each approach might have on your analysis, and justify your decision in the discussion section below.\n",
    "- For the actual scaling function, a [StandardScaler](http://scikit-learn.org/stable/modules/generated/sklearn.preprocessing.StandardScaler.html) instance is suggested, scaling each feature to mean 0 and standard deviation 1.\n",
    "- For these classes, you can make use of the `.fit_transform()` method to both fit a procedure to the data as well as apply the transformation to the data at the same time. Don't forget to keep the fit sklearn objects handy, since you'll be applying them to the customer demographics data towards the end of the project."
   ]
  },
  {
   "cell_type": "code",
   "execution_count": 42,
   "metadata": {
    "scrolled": false
   },
   "outputs": [],
   "source": [
    "# If you've not yet cleaned the dataset of all NaN values, then investigate and\n",
    "# do that now.\n",
    "# get the columns that have missing values\n",
    "azdias_cols_w_missing_values=azdias_df.columns[azdias_df.isnull().any()]"
   ]
  },
  {
   "cell_type": "code",
   "execution_count": 43,
   "metadata": {
    "scrolled": true
   },
   "outputs": [],
   "source": [
    "def missing_values_col_distribution(col):\n",
    "    fig,ax =  plt.subplots(1,1)    \n",
    "    plt.hist(azdias_df.loc[~azdias_df[col].isnull(), col])\n",
    "    col_title = 'The Distribution of {}'.format(col)\n",
    "    plt.title(col_title)"
   ]
  },
  {
   "cell_type": "code",
   "execution_count": 44,
   "metadata": {},
   "outputs": [
    {
     "data": {
      "image/png": "[encoded data removed]",
      "text/plain": [
       "<matplotlib.figure.Figure at 0x7f89ddc1b9e8>"
      ]
     },
     "metadata": {
      "needs_background": "light"
     },
     "output_type": "display_data"
    },
    {
     "data": {
      "image/png": "[encoded data removed]",
      "text/plain": [
       "<matplotlib.figure.Figure at 0x7f89ddbbc940>"
      ]
     },
     "metadata": {
      "needs_background": "light"
     },
     "output_type": "display_data"
    },
    {
     "data": {
      "image/png": "[encoded data removed]",
      "text/plain": [
       "<matplotlib.figure.Figure at 0x7f89ddb542e8>"
      ]
     },
     "metadata": {
      "needs_background": "light"
     },
     "output_type": "display_data"
    },
    {
     "data": {
      "image/png": "[encoded data removed]",
      "text/plain": [
       "<matplotlib.figure.Figure at 0x7f89ddb877b8>"
      ]
     },
     "metadata": {
      "needs_background": "light"
     },
     "output_type": "display_data"
    },
    {
     "data": {
      "image/png": "[encoded data removed]",
      "text/plain": [
       "<matplotlib.figure.Figure at 0x7f89dcc328d0>"
      ]
     },
     "metadata": {
      "needs_background": "light"
     },
     "output_type": "display_data"
    },
    {
     "data": {
      "image/png": "[encoded data removed]",
      "text/plain": [
       "<matplotlib.figure.Figure at 0x7f89ddb09518>"
      ]
     },
     "metadata": {
      "needs_background": "light"
     },
     "output_type": "display_data"
    },
    {
     "data": {
      "image/png": "[encoded data removed]",
      "text/plain": [
       "<matplotlib.figure.Figure at 0x7f89dca95f98>"
      ]
     },
     "metadata": {
      "needs_background": "light"
     },
     "output_type": "display_data"
    },
    {
     "data": {
      "image/png": "[encoded data removed]",
      "text/plain": [
       "<matplotlib.figure.Figure at 0x7f89dca28ac8>"
      ]
     },
     "metadata": {
      "needs_background": "light"
     },
     "output_type": "display_data"
    },
    {
     "data": {
      "image/png": "[encoded data removed]",
      "text/plain": [
       "<matplotlib.figure.Figure at 0x7f89dca7f668>"
      ]
     },
     "metadata": {
      "needs_background": "light"
     },
     "output_type": "display_data"
    },
    {
     "data": {
      "image/png": "[encoded data removed]",
      "text/plain": [
       "<matplotlib.figure.Figure at 0x7f89ddad74a8>"
      ]
     },
     "metadata": {
      "needs_background": "light"
     },
     "output_type": "display_data"
    },
    {
     "data": {
      "image/png": "[encoded data removed]",
      "text/plain": [
       "<matplotlib.figure.Figure at 0x7f89dc95ccf8>"
      ]
     },
     "metadata": {
      "needs_background": "light"
     },
     "output_type": "display_data"
    },
    {
     "data": {
      "image/png": "[encoded data removed]",
      "text/plain": [
       "<matplotlib.figure.Figure at 0x7f89dc8f5dd8>"
      ]
     },
     "metadata": {
      "needs_background": "light"
     },
     "output_type": "display_data"
    },
    {
     "data": {
      "image/png": "[encoded data removed]",
      "text/plain": [
       "<matplotlib.figure.Figure at 0x7f89dda8deb8>"
      ]
     },
     "metadata": {
      "needs_background": "light"
     },
     "output_type": "display_data"
    },
    {
     "data": {
      "image/png": "[encoded data removed]",
      "text/plain": [
       "<matplotlib.figure.Figure at 0x7f89dcb20208>"
      ]
     },
     "metadata": {
      "needs_background": "light"
     },
     "output_type": "display_data"
    },
    {
     "data": {
      "image/png": "[encoded data removed]",
      "text/plain": [
       "<matplotlib.figure.Figure at 0x7f89dc9edd68>"
      ]
     },
     "metadata": {
      "needs_background": "light"
     },
     "output_type": "display_data"
    },
    {
     "data": {
      "image/png": "[encoded data removed]",
      "text/plain": [
       "<matplotlib.figure.Figure at 0x7f89dc7c2cf8>"
      ]
     },
     "metadata": {
      "needs_background": "light"
     },
     "output_type": "display_data"
    },
    {
     "data": {
      "image/png": "[encoded data removed]",
      "text/plain": [
       "<matplotlib.figure.Figure at 0x7f89dc753748>"
      ]
     },
     "metadata": {
      "needs_background": "light"
     },
     "output_type": "display_data"
    },
    {
     "data": {
      "image/png": "[encoded data removed]",
      "text/plain": [
       "<matplotlib.figure.Figure at 0x7f89dc72d748>"
      ]
     },
     "metadata": {
      "needs_background": "light"
     },
     "output_type": "display_data"
    },
    {
     "data": {
      "image/png": "[encoded data removed]",
      "text/plain": [
       "<matplotlib.figure.Figure at 0x7f89dc704828>"
      ]
     },
     "metadata": {
      "needs_background": "light"
     },
     "output_type": "display_data"
    }
   ],
   "source": [
    "for col in azdias_cols_w_missing_values:\n",
    "    missing_values_col_distribution(col)"
   ]
  },
  {
   "cell_type": "code",
   "execution_count": 45,
   "metadata": {},
   "outputs": [],
   "source": [
    "# Apply feature scaling to the general population demographics data.\n",
    "from sklearn.preprocessing import Imputer\n",
    "imp = Imputer(strategy='median')\n",
    "azdias_values = imp.fit_transform(azdias_df)"
   ]
  },
  {
   "cell_type": "code",
   "execution_count": 46,
   "metadata": {},
   "outputs": [],
   "source": [
    "#scale the data\n",
    "from sklearn.preprocessing import StandardScaler\n",
    "scaler = StandardScaler()\n",
    "azdias_values = scaler.fit_transform(azdias_values)"
   ]
  },
  {
   "cell_type": "code",
   "execution_count": 47,
   "metadata": {
    "scrolled": true
   },
   "outputs": [
    {
     "data": {
      "text/html": [
       "<div>\n",
       "<style scoped>\n",
       "    .dataframe tbody tr th:only-of-type {\n",
       "        vertical-align: middle;\n",
       "    }\n",
       "\n",
       "    .dataframe tbody tr th {\n",
       "        vertical-align: top;\n",
       "    }\n",
       "\n",
       "    .dataframe thead th {\n",
       "        text-align: right;\n",
       "    }\n",
       "</style>\n",
       "<table border=\"1\" class=\"dataframe\">\n",
       "  <thead>\n",
       "    <tr style=\"text-align: right;\">\n",
       "      <th></th>\n",
       "      <th>ALTERSKATEGORIE_GROB</th>\n",
       "      <th>ANREDE_KZ</th>\n",
       "      <th>CJT_GESAMTTYP</th>\n",
       "      <th>FINANZ_MINIMALIST</th>\n",
       "      <th>FINANZ_SPARER</th>\n",
       "      <th>FINANZ_VORSORGER</th>\n",
       "      <th>FINANZ_ANLEGER</th>\n",
       "      <th>FINANZ_UNAUFFAELLIGER</th>\n",
       "      <th>FINANZ_HAUSBAUER</th>\n",
       "      <th>FINANZTYP</th>\n",
       "      <th>...</th>\n",
       "      <th>CAMEO_DEU_2015_8D</th>\n",
       "      <th>CAMEO_DEU_2015_9A</th>\n",
       "      <th>CAMEO_DEU_2015_9B</th>\n",
       "      <th>CAMEO_DEU_2015_9C</th>\n",
       "      <th>CAMEO_DEU_2015_9D</th>\n",
       "      <th>CAMEO_DEU_2015_9E</th>\n",
       "      <th>DOMINATING_MOVEMENT_TYPE_MAINSTREAM</th>\n",
       "      <th>DOMINATING_MOVEMENT_TYPE_REGION</th>\n",
       "      <th>WEALTH_TYPE</th>\n",
       "      <th>LIFE_STAGE</th>\n",
       "    </tr>\n",
       "  </thead>\n",
       "  <tbody>\n",
       "    <tr>\n",
       "      <th>0</th>\n",
       "      <td>-1.747634</td>\n",
       "      <td>0.975423</td>\n",
       "      <td>1.009256</td>\n",
       "      <td>-1.523655</td>\n",
       "      <td>1.588878</td>\n",
       "      <td>-1.050212</td>\n",
       "      <td>1.513292</td>\n",
       "      <td>1.048651</td>\n",
       "      <td>1.341142</td>\n",
       "      <td>-1.399505</td>\n",
       "      <td>...</td>\n",
       "      <td>-0.153788</td>\n",
       "      <td>-0.162991</td>\n",
       "      <td>-0.192113</td>\n",
       "      <td>-0.17991</td>\n",
       "      <td>-0.193076</td>\n",
       "      <td>-0.084106</td>\n",
       "      <td>0.558311</td>\n",
       "      <td>0.567789</td>\n",
       "      <td>1.174934</td>\n",
       "      <td>-1.264621</td>\n",
       "    </tr>\n",
       "    <tr>\n",
       "      <th>1</th>\n",
       "      <td>0.193497</td>\n",
       "      <td>0.975423</td>\n",
       "      <td>-0.301300</td>\n",
       "      <td>-1.523655</td>\n",
       "      <td>0.908468</td>\n",
       "      <td>-1.771419</td>\n",
       "      <td>-0.548762</td>\n",
       "      <td>0.320698</td>\n",
       "      <td>1.341142</td>\n",
       "      <td>-1.399505</td>\n",
       "      <td>...</td>\n",
       "      <td>-0.153788</td>\n",
       "      <td>-0.162991</td>\n",
       "      <td>-0.192113</td>\n",
       "      <td>-0.17991</td>\n",
       "      <td>-0.193076</td>\n",
       "      <td>-0.084106</td>\n",
       "      <td>-1.791117</td>\n",
       "      <td>0.567789</td>\n",
       "      <td>-0.872392</td>\n",
       "      <td>0.750539</td>\n",
       "    </tr>\n",
       "    <tr>\n",
       "      <th>2</th>\n",
       "      <td>0.193497</td>\n",
       "      <td>-1.025197</td>\n",
       "      <td>1.009256</td>\n",
       "      <td>0.677626</td>\n",
       "      <td>0.228057</td>\n",
       "      <td>0.392200</td>\n",
       "      <td>-1.236113</td>\n",
       "      <td>0.320698</td>\n",
       "      <td>-0.834925</td>\n",
       "      <td>0.521758</td>\n",
       "      <td>...</td>\n",
       "      <td>-0.153788</td>\n",
       "      <td>-0.162991</td>\n",
       "      <td>-0.192113</td>\n",
       "      <td>-0.17991</td>\n",
       "      <td>-0.193076</td>\n",
       "      <td>-0.084106</td>\n",
       "      <td>0.558311</td>\n",
       "      <td>0.567789</td>\n",
       "      <td>0.492492</td>\n",
       "      <td>0.078819</td>\n",
       "    </tr>\n",
       "    <tr>\n",
       "      <th>3</th>\n",
       "      <td>-1.747634</td>\n",
       "      <td>0.975423</td>\n",
       "      <td>-0.956578</td>\n",
       "      <td>-0.056134</td>\n",
       "      <td>-1.132765</td>\n",
       "      <td>1.113406</td>\n",
       "      <td>-0.548762</td>\n",
       "      <td>-0.407255</td>\n",
       "      <td>1.341142</td>\n",
       "      <td>-0.919189</td>\n",
       "      <td>...</td>\n",
       "      <td>-0.153788</td>\n",
       "      <td>-0.162991</td>\n",
       "      <td>-0.192113</td>\n",
       "      <td>-0.17991</td>\n",
       "      <td>-0.193076</td>\n",
       "      <td>-0.084106</td>\n",
       "      <td>0.558311</td>\n",
       "      <td>0.567789</td>\n",
       "      <td>1.174934</td>\n",
       "      <td>0.750539</td>\n",
       "    </tr>\n",
       "    <tr>\n",
       "      <th>4</th>\n",
       "      <td>-0.777068</td>\n",
       "      <td>0.975423</td>\n",
       "      <td>1.009256</td>\n",
       "      <td>-1.523655</td>\n",
       "      <td>1.588878</td>\n",
       "      <td>-1.771419</td>\n",
       "      <td>1.513292</td>\n",
       "      <td>1.048651</td>\n",
       "      <td>-0.109569</td>\n",
       "      <td>0.041442</td>\n",
       "      <td>...</td>\n",
       "      <td>-0.153788</td>\n",
       "      <td>-0.162991</td>\n",
       "      <td>-0.192113</td>\n",
       "      <td>-0.17991</td>\n",
       "      <td>-0.193076</td>\n",
       "      <td>-0.084106</td>\n",
       "      <td>0.558311</td>\n",
       "      <td>-1.761217</td>\n",
       "      <td>-0.872392</td>\n",
       "      <td>-0.592901</td>\n",
       "    </tr>\n",
       "  </tbody>\n",
       "</table>\n",
       "<p>5 rows × 123 columns</p>\n",
       "</div>"
      ],
      "text/plain": [
       "   ALTERSKATEGORIE_GROB  ANREDE_KZ  CJT_GESAMTTYP  FINANZ_MINIMALIST  \\\n",
       "0             -1.747634   0.975423       1.009256          -1.523655   \n",
       "1              0.193497   0.975423      -0.301300          -1.523655   \n",
       "2              0.193497  -1.025197       1.009256           0.677626   \n",
       "3             -1.747634   0.975423      -0.956578          -0.056134   \n",
       "4             -0.777068   0.975423       1.009256          -1.523655   \n",
       "\n",
       "   FINANZ_SPARER  FINANZ_VORSORGER  FINANZ_ANLEGER  FINANZ_UNAUFFAELLIGER  \\\n",
       "0       1.588878         -1.050212        1.513292               1.048651   \n",
       "1       0.908468         -1.771419       -0.548762               0.320698   \n",
       "2       0.228057          0.392200       -1.236113               0.320698   \n",
       "3      -1.132765          1.113406       -0.548762              -0.407255   \n",
       "4       1.588878         -1.771419        1.513292               1.048651   \n",
       "\n",
       "   FINANZ_HAUSBAUER  FINANZTYP     ...      CAMEO_DEU_2015_8D  \\\n",
       "0          1.341142  -1.399505     ...              -0.153788   \n",
       "1          1.341142  -1.399505     ...              -0.153788   \n",
       "2         -0.834925   0.521758     ...              -0.153788   \n",
       "3          1.341142  -0.919189     ...              -0.153788   \n",
       "4         -0.109569   0.041442     ...              -0.153788   \n",
       "\n",
       "   CAMEO_DEU_2015_9A  CAMEO_DEU_2015_9B  CAMEO_DEU_2015_9C  CAMEO_DEU_2015_9D  \\\n",
       "0          -0.162991          -0.192113           -0.17991          -0.193076   \n",
       "1          -0.162991          -0.192113           -0.17991          -0.193076   \n",
       "2          -0.162991          -0.192113           -0.17991          -0.193076   \n",
       "3          -0.162991          -0.192113           -0.17991          -0.193076   \n",
       "4          -0.162991          -0.192113           -0.17991          -0.193076   \n",
       "\n",
       "   CAMEO_DEU_2015_9E  DOMINATING_MOVEMENT_TYPE_MAINSTREAM  \\\n",
       "0          -0.084106                             0.558311   \n",
       "1          -0.084106                            -1.791117   \n",
       "2          -0.084106                             0.558311   \n",
       "3          -0.084106                             0.558311   \n",
       "4          -0.084106                             0.558311   \n",
       "\n",
       "   DOMINATING_MOVEMENT_TYPE_REGION  WEALTH_TYPE  LIFE_STAGE  \n",
       "0                         0.567789     1.174934   -1.264621  \n",
       "1                         0.567789    -0.872392    0.750539  \n",
       "2                         0.567789     0.492492    0.078819  \n",
       "3                         0.567789     1.174934    0.750539  \n",
       "4                        -1.761217    -0.872392   -0.592901  \n",
       "\n",
       "[5 rows x 123 columns]"
      ]
     },
     "execution_count": 47,
     "metadata": {},
     "output_type": "execute_result"
    }
   ],
   "source": [
    "#convert transformed data to a dataframe\n",
    "azdias_cols = azdias_df.columns\n",
    "azdias_final_df = pd.DataFrame(azdias_values, columns = azdias_cols)\n",
    "azdias_final_df.head()"
   ]
  },
  {
   "cell_type": "markdown",
   "metadata": {},
   "source": [
    "### Discussion 2.1: Apply Feature Scaling\n",
    "Checked the distributions of the columns that have missing values and found most of them are not normal distributed and some of them are highly skewed. Therefore, I choose median as the strategy of the imputer process. Because the median is more robusted to the outliers.\n",
    "\n",
    "Since we will apply PCA and k-means clustering on the data. Both models are sensitive to the different scales of variables. We need to scale all the variables by standard scaler to reduce the impact of different scales in the data set."
   ]
  },
  {
   "cell_type": "markdown",
   "metadata": {},
   "source": [
    "### Step 2.2: Perform Dimensionality Reduction\n",
    "\n",
    "On your scaled data, you are now ready to apply dimensionality reduction techniques.\n",
    "\n",
    "- Use sklearn's [PCA](http://scikit-learn.org/stable/modules/generated/sklearn.decomposition.PCA.html) class to apply principal component analysis on the data, thus finding the vectors of maximal variance in the data. To start, you should not set any parameters (so all components are computed) or set a number of components that is at least half the number of features (so there's enough features to see the general trend in variability).\n",
    "- Check out the ratio of variance explained by each principal component as well as the cumulative variance explained. Try plotting the cumulative or sequential values using matplotlib's [`plot()`](https://matplotlib.org/api/_as_gen/matplotlib.pyplot.plot.html) function. Based on what you find, select a value for the number of transformed features you'll retain for the clustering part of the project.\n",
    "- Once you've made a choice for the number of components to keep, make sure you re-fit a PCA instance to perform the decided-on transformation."
   ]
  },
  {
   "cell_type": "code",
   "execution_count": 48,
   "metadata": {},
   "outputs": [],
   "source": [
    "# Apply PCA to the data.\n",
    "from sklearn.decomposition import PCA"
   ]
  },
  {
   "cell_type": "code",
   "execution_count": 49,
   "metadata": {},
   "outputs": [],
   "source": [
    "def train_pca_model(n, df, random_state=123):\n",
    "    '''\n",
    "    Training the PCM model\n",
    "    \n",
    "    INPUT: n(int): the number of components to train\n",
    "    df(DataFrame): the dataframe of input data\n",
    "    \n",
    "    OUTPUT: pca: the trained pca model\n",
    "    pca_df: the dataframe with transformed data\n",
    "    '''\n",
    "    pca = PCA(n_components=n, random_state = random_state)\n",
    "    pca_df = pca.fit_transform(df)\n",
    "    return pca, pca_df"
   ]
  },
  {
   "cell_type": "code",
   "execution_count": 50,
   "metadata": {},
   "outputs": [],
   "source": [
    "# Investigate the variance accounted for by each principal component.\n",
    "def scree_plot(pca): #apply scree_plot function in the helper_function.py\n",
    "    '''\n",
    "    Creates a scree plot associated with the principal components \n",
    "    \n",
    "    INPUT: pca - the trained pca model\n",
    "            \n",
    "    OUTPUT:\n",
    "            display the variance accounted for each principal component and the accumulated total variances\n",
    "    '''\n",
    "    num_components=len(pca.explained_variance_ratio_)\n",
    "    ind = np.arange(num_components)\n",
    "    vals = pca.explained_variance_ratio_\n",
    " \n",
    "    plt.figure(figsize=(10, 6))\n",
    "    ax = plt.subplot(111)\n",
    "    cumvals = np.cumsum(vals)\n",
    "    ax.bar(ind, vals)\n",
    "    ax.plot(ind, cumvals)\n",
    "    for i in range(num_components):\n",
    "        ax.annotate(r\"%s%%\" % ((str(vals[i]*100)[:4])), (ind[i]+0.2, vals[i]), va=\"bottom\", ha=\"center\", fontsize=12)\n",
    " \n",
    "    ax.xaxis.set_tick_params(width=0)\n",
    "    ax.yaxis.set_tick_params(width=2, length=12)\n",
    " \n",
    "    ax.set_xlabel(\"Principal Component\")\n",
    "    ax.set_ylabel(\"Variance Explained (%)\")\n",
    "    plt.title('Explained Variance Per Principal Component')"
   ]
  },
  {
   "cell_type": "code",
   "execution_count": 51,
   "metadata": {
    "scrolled": false
   },
   "outputs": [
    {
     "data": {
      "image/png": "[encoded data removed]",
      "text/plain": [
       "<matplotlib.figure.Figure at 0x7f89de981e10>"
      ]
     },
     "metadata": {
      "needs_background": "light"
     },
     "output_type": "display_data"
    }
   ],
   "source": [
    "pca, azdias_pca = train_pca_model(60, azdias_final_df)\n",
    "\n",
    "scree_plot(pca)"
   ]
  },
  {
   "cell_type": "code",
   "execution_count": 52,
   "metadata": {},
   "outputs": [],
   "source": [
    "#generate a name for each component and variances that component explains\n",
    "n_components_cols = ['PCA{}'.format(i+1) for i in range(pca.components_.shape[0])]\n",
    "pca_explained_var_df = pd.DataFrame(n_components_cols, columns=['n_components'])\n",
    "pca_explained_var_df['Explained_Variances'] = pca.explained_variance_ratio_.reshape(len(pca.components_), 1)\n",
    "pca_explained_var_df['Accum_Explained_Variance'] = pca_explained_var_df['Explained_Variances'].cumsum()\n",
    "\n",
    "#check the accumulated percentage of each component\n",
    "pca_explained_var_df['Accum_PCT'] = pca_explained_var_df['Explained_Variances']/\\\n",
    "pca_explained_var_df['Accum_Explained_Variance'].shift(1)"
   ]
  },
  {
   "cell_type": "code",
   "execution_count": 53,
   "metadata": {
    "scrolled": true
   },
   "outputs": [
    {
     "data": {
      "text/html": [
       "<div>\n",
       "<style scoped>\n",
       "    .dataframe tbody tr th:only-of-type {\n",
       "        vertical-align: middle;\n",
       "    }\n",
       "\n",
       "    .dataframe tbody tr th {\n",
       "        vertical-align: top;\n",
       "    }\n",
       "\n",
       "    .dataframe thead th {\n",
       "        text-align: right;\n",
       "    }\n",
       "</style>\n",
       "<table border=\"1\" class=\"dataframe\">\n",
       "  <thead>\n",
       "    <tr style=\"text-align: right;\">\n",
       "      <th></th>\n",
       "      <th>n_components</th>\n",
       "      <th>Explained_Variances</th>\n",
       "      <th>Accum_Explained_Variance</th>\n",
       "      <th>Accum_PCT</th>\n",
       "    </tr>\n",
       "  </thead>\n",
       "  <tbody>\n",
       "    <tr>\n",
       "      <th>0</th>\n",
       "      <td>PCA1</td>\n",
       "      <td>0.121065</td>\n",
       "      <td>0.121065</td>\n",
       "      <td>NaN</td>\n",
       "    </tr>\n",
       "    <tr>\n",
       "      <th>1</th>\n",
       "      <td>PCA2</td>\n",
       "      <td>0.073050</td>\n",
       "      <td>0.194115</td>\n",
       "      <td>0.603396</td>\n",
       "    </tr>\n",
       "    <tr>\n",
       "      <th>2</th>\n",
       "      <td>PCA3</td>\n",
       "      <td>0.051362</td>\n",
       "      <td>0.245477</td>\n",
       "      <td>0.264598</td>\n",
       "    </tr>\n",
       "    <tr>\n",
       "      <th>3</th>\n",
       "      <td>PCA4</td>\n",
       "      <td>0.038504</td>\n",
       "      <td>0.283981</td>\n",
       "      <td>0.156853</td>\n",
       "    </tr>\n",
       "    <tr>\n",
       "      <th>4</th>\n",
       "      <td>PCA5</td>\n",
       "      <td>0.030406</td>\n",
       "      <td>0.314387</td>\n",
       "      <td>0.107071</td>\n",
       "    </tr>\n",
       "    <tr>\n",
       "      <th>5</th>\n",
       "      <td>PCA6</td>\n",
       "      <td>0.020151</td>\n",
       "      <td>0.334538</td>\n",
       "      <td>0.064096</td>\n",
       "    </tr>\n",
       "    <tr>\n",
       "      <th>6</th>\n",
       "      <td>PCA7</td>\n",
       "      <td>0.018111</td>\n",
       "      <td>0.352650</td>\n",
       "      <td>0.054139</td>\n",
       "    </tr>\n",
       "    <tr>\n",
       "      <th>7</th>\n",
       "      <td>PCA8</td>\n",
       "      <td>0.016465</td>\n",
       "      <td>0.369115</td>\n",
       "      <td>0.046690</td>\n",
       "    </tr>\n",
       "    <tr>\n",
       "      <th>8</th>\n",
       "      <td>PCA9</td>\n",
       "      <td>0.014829</td>\n",
       "      <td>0.383943</td>\n",
       "      <td>0.040174</td>\n",
       "    </tr>\n",
       "    <tr>\n",
       "      <th>9</th>\n",
       "      <td>PCA10</td>\n",
       "      <td>0.013672</td>\n",
       "      <td>0.397615</td>\n",
       "      <td>0.035608</td>\n",
       "    </tr>\n",
       "    <tr>\n",
       "      <th>10</th>\n",
       "      <td>PCA11</td>\n",
       "      <td>0.012887</td>\n",
       "      <td>0.410502</td>\n",
       "      <td>0.032411</td>\n",
       "    </tr>\n",
       "    <tr>\n",
       "      <th>11</th>\n",
       "      <td>PCA12</td>\n",
       "      <td>0.012173</td>\n",
       "      <td>0.422676</td>\n",
       "      <td>0.029655</td>\n",
       "    </tr>\n",
       "    <tr>\n",
       "      <th>12</th>\n",
       "      <td>PCA13</td>\n",
       "      <td>0.011751</td>\n",
       "      <td>0.434427</td>\n",
       "      <td>0.027802</td>\n",
       "    </tr>\n",
       "    <tr>\n",
       "      <th>13</th>\n",
       "      <td>PCA14</td>\n",
       "      <td>0.010945</td>\n",
       "      <td>0.445372</td>\n",
       "      <td>0.025195</td>\n",
       "    </tr>\n",
       "    <tr>\n",
       "      <th>14</th>\n",
       "      <td>PCA15</td>\n",
       "      <td>0.010344</td>\n",
       "      <td>0.455715</td>\n",
       "      <td>0.023224</td>\n",
       "    </tr>\n",
       "    <tr>\n",
       "      <th>15</th>\n",
       "      <td>PCA16</td>\n",
       "      <td>0.009971</td>\n",
       "      <td>0.465686</td>\n",
       "      <td>0.021879</td>\n",
       "    </tr>\n",
       "    <tr>\n",
       "      <th>16</th>\n",
       "      <td>PCA17</td>\n",
       "      <td>0.009711</td>\n",
       "      <td>0.475397</td>\n",
       "      <td>0.020853</td>\n",
       "    </tr>\n",
       "    <tr>\n",
       "      <th>17</th>\n",
       "      <td>PCA18</td>\n",
       "      <td>0.008936</td>\n",
       "      <td>0.484333</td>\n",
       "      <td>0.018798</td>\n",
       "    </tr>\n",
       "    <tr>\n",
       "      <th>18</th>\n",
       "      <td>PCA19</td>\n",
       "      <td>0.008857</td>\n",
       "      <td>0.493190</td>\n",
       "      <td>0.018286</td>\n",
       "    </tr>\n",
       "    <tr>\n",
       "      <th>19</th>\n",
       "      <td>PCA20</td>\n",
       "      <td>0.008760</td>\n",
       "      <td>0.501949</td>\n",
       "      <td>0.017761</td>\n",
       "    </tr>\n",
       "    <tr>\n",
       "      <th>20</th>\n",
       "      <td>PCA21</td>\n",
       "      <td>0.008593</td>\n",
       "      <td>0.510543</td>\n",
       "      <td>0.017120</td>\n",
       "    </tr>\n",
       "    <tr>\n",
       "      <th>21</th>\n",
       "      <td>PCA22</td>\n",
       "      <td>0.008548</td>\n",
       "      <td>0.519091</td>\n",
       "      <td>0.016744</td>\n",
       "    </tr>\n",
       "    <tr>\n",
       "      <th>22</th>\n",
       "      <td>PCA23</td>\n",
       "      <td>0.008521</td>\n",
       "      <td>0.527612</td>\n",
       "      <td>0.016415</td>\n",
       "    </tr>\n",
       "    <tr>\n",
       "      <th>23</th>\n",
       "      <td>PCA24</td>\n",
       "      <td>0.008515</td>\n",
       "      <td>0.536127</td>\n",
       "      <td>0.016139</td>\n",
       "    </tr>\n",
       "    <tr>\n",
       "      <th>24</th>\n",
       "      <td>PCA25</td>\n",
       "      <td>0.008471</td>\n",
       "      <td>0.544598</td>\n",
       "      <td>0.015800</td>\n",
       "    </tr>\n",
       "    <tr>\n",
       "      <th>25</th>\n",
       "      <td>PCA26</td>\n",
       "      <td>0.008449</td>\n",
       "      <td>0.553047</td>\n",
       "      <td>0.015515</td>\n",
       "    </tr>\n",
       "    <tr>\n",
       "      <th>26</th>\n",
       "      <td>PCA27</td>\n",
       "      <td>0.008415</td>\n",
       "      <td>0.561462</td>\n",
       "      <td>0.015215</td>\n",
       "    </tr>\n",
       "    <tr>\n",
       "      <th>27</th>\n",
       "      <td>PCA28</td>\n",
       "      <td>0.008405</td>\n",
       "      <td>0.569867</td>\n",
       "      <td>0.014971</td>\n",
       "    </tr>\n",
       "    <tr>\n",
       "      <th>28</th>\n",
       "      <td>PCA29</td>\n",
       "      <td>0.008375</td>\n",
       "      <td>0.578243</td>\n",
       "      <td>0.014697</td>\n",
       "    </tr>\n",
       "    <tr>\n",
       "      <th>29</th>\n",
       "      <td>PCA30</td>\n",
       "      <td>0.008347</td>\n",
       "      <td>0.586590</td>\n",
       "      <td>0.014436</td>\n",
       "    </tr>\n",
       "    <tr>\n",
       "      <th>30</th>\n",
       "      <td>PCA31</td>\n",
       "      <td>0.008325</td>\n",
       "      <td>0.594915</td>\n",
       "      <td>0.014193</td>\n",
       "    </tr>\n",
       "    <tr>\n",
       "      <th>31</th>\n",
       "      <td>PCA32</td>\n",
       "      <td>0.008295</td>\n",
       "      <td>0.603210</td>\n",
       "      <td>0.013942</td>\n",
       "    </tr>\n",
       "    <tr>\n",
       "      <th>32</th>\n",
       "      <td>PCA33</td>\n",
       "      <td>0.008289</td>\n",
       "      <td>0.611500</td>\n",
       "      <td>0.013742</td>\n",
       "    </tr>\n",
       "    <tr>\n",
       "      <th>33</th>\n",
       "      <td>PCA34</td>\n",
       "      <td>0.008280</td>\n",
       "      <td>0.619780</td>\n",
       "      <td>0.013541</td>\n",
       "    </tr>\n",
       "    <tr>\n",
       "      <th>34</th>\n",
       "      <td>PCA35</td>\n",
       "      <td>0.008253</td>\n",
       "      <td>0.628033</td>\n",
       "      <td>0.013315</td>\n",
       "    </tr>\n",
       "    <tr>\n",
       "      <th>35</th>\n",
       "      <td>PCA36</td>\n",
       "      <td>0.008249</td>\n",
       "      <td>0.636282</td>\n",
       "      <td>0.013135</td>\n",
       "    </tr>\n",
       "    <tr>\n",
       "      <th>36</th>\n",
       "      <td>PCA37</td>\n",
       "      <td>0.008237</td>\n",
       "      <td>0.644519</td>\n",
       "      <td>0.012946</td>\n",
       "    </tr>\n",
       "    <tr>\n",
       "      <th>37</th>\n",
       "      <td>PCA38</td>\n",
       "      <td>0.008231</td>\n",
       "      <td>0.652750</td>\n",
       "      <td>0.012770</td>\n",
       "    </tr>\n",
       "    <tr>\n",
       "      <th>38</th>\n",
       "      <td>PCA39</td>\n",
       "      <td>0.008225</td>\n",
       "      <td>0.660975</td>\n",
       "      <td>0.012601</td>\n",
       "    </tr>\n",
       "    <tr>\n",
       "      <th>39</th>\n",
       "      <td>PCA40</td>\n",
       "      <td>0.008216</td>\n",
       "      <td>0.669191</td>\n",
       "      <td>0.012430</td>\n",
       "    </tr>\n",
       "    <tr>\n",
       "      <th>40</th>\n",
       "      <td>PCA41</td>\n",
       "      <td>0.008196</td>\n",
       "      <td>0.677386</td>\n",
       "      <td>0.012247</td>\n",
       "    </tr>\n",
       "    <tr>\n",
       "      <th>41</th>\n",
       "      <td>PCA42</td>\n",
       "      <td>0.008195</td>\n",
       "      <td>0.685581</td>\n",
       "      <td>0.012097</td>\n",
       "    </tr>\n",
       "    <tr>\n",
       "      <th>42</th>\n",
       "      <td>PCA43</td>\n",
       "      <td>0.008183</td>\n",
       "      <td>0.693764</td>\n",
       "      <td>0.011936</td>\n",
       "    </tr>\n",
       "    <tr>\n",
       "      <th>43</th>\n",
       "      <td>PCA44</td>\n",
       "      <td>0.008175</td>\n",
       "      <td>0.701939</td>\n",
       "      <td>0.011783</td>\n",
       "    </tr>\n",
       "    <tr>\n",
       "      <th>44</th>\n",
       "      <td>PCA45</td>\n",
       "      <td>0.008174</td>\n",
       "      <td>0.710113</td>\n",
       "      <td>0.011645</td>\n",
       "    </tr>\n",
       "    <tr>\n",
       "      <th>45</th>\n",
       "      <td>PCA46</td>\n",
       "      <td>0.008162</td>\n",
       "      <td>0.718274</td>\n",
       "      <td>0.011493</td>\n",
       "    </tr>\n",
       "    <tr>\n",
       "      <th>46</th>\n",
       "      <td>PCA47</td>\n",
       "      <td>0.008157</td>\n",
       "      <td>0.726431</td>\n",
       "      <td>0.011356</td>\n",
       "    </tr>\n",
       "    <tr>\n",
       "      <th>47</th>\n",
       "      <td>PCA48</td>\n",
       "      <td>0.008142</td>\n",
       "      <td>0.734574</td>\n",
       "      <td>0.011209</td>\n",
       "    </tr>\n",
       "    <tr>\n",
       "      <th>48</th>\n",
       "      <td>PCA49</td>\n",
       "      <td>0.008118</td>\n",
       "      <td>0.742691</td>\n",
       "      <td>0.011051</td>\n",
       "    </tr>\n",
       "    <tr>\n",
       "      <th>49</th>\n",
       "      <td>PCA50</td>\n",
       "      <td>0.008092</td>\n",
       "      <td>0.750784</td>\n",
       "      <td>0.010896</td>\n",
       "    </tr>\n",
       "    <tr>\n",
       "      <th>50</th>\n",
       "      <td>PCA51</td>\n",
       "      <td>0.008065</td>\n",
       "      <td>0.758848</td>\n",
       "      <td>0.010742</td>\n",
       "    </tr>\n",
       "    <tr>\n",
       "      <th>51</th>\n",
       "      <td>PCA52</td>\n",
       "      <td>0.008024</td>\n",
       "      <td>0.766872</td>\n",
       "      <td>0.010574</td>\n",
       "    </tr>\n",
       "    <tr>\n",
       "      <th>52</th>\n",
       "      <td>PCA53</td>\n",
       "      <td>0.007982</td>\n",
       "      <td>0.774854</td>\n",
       "      <td>0.010408</td>\n",
       "    </tr>\n",
       "    <tr>\n",
       "      <th>53</th>\n",
       "      <td>PCA54</td>\n",
       "      <td>0.007899</td>\n",
       "      <td>0.782753</td>\n",
       "      <td>0.010195</td>\n",
       "    </tr>\n",
       "    <tr>\n",
       "      <th>54</th>\n",
       "      <td>PCA55</td>\n",
       "      <td>0.007774</td>\n",
       "      <td>0.790527</td>\n",
       "      <td>0.009931</td>\n",
       "    </tr>\n",
       "    <tr>\n",
       "      <th>55</th>\n",
       "      <td>PCA56</td>\n",
       "      <td>0.007746</td>\n",
       "      <td>0.798273</td>\n",
       "      <td>0.009798</td>\n",
       "    </tr>\n",
       "    <tr>\n",
       "      <th>56</th>\n",
       "      <td>PCA57</td>\n",
       "      <td>0.007667</td>\n",
       "      <td>0.805940</td>\n",
       "      <td>0.009604</td>\n",
       "    </tr>\n",
       "    <tr>\n",
       "      <th>57</th>\n",
       "      <td>PCA58</td>\n",
       "      <td>0.007342</td>\n",
       "      <td>0.813282</td>\n",
       "      <td>0.009110</td>\n",
       "    </tr>\n",
       "    <tr>\n",
       "      <th>58</th>\n",
       "      <td>PCA59</td>\n",
       "      <td>0.007313</td>\n",
       "      <td>0.820595</td>\n",
       "      <td>0.008992</td>\n",
       "    </tr>\n",
       "    <tr>\n",
       "      <th>59</th>\n",
       "      <td>PCA60</td>\n",
       "      <td>0.007169</td>\n",
       "      <td>0.827764</td>\n",
       "      <td>0.008736</td>\n",
       "    </tr>\n",
       "  </tbody>\n",
       "</table>\n",
       "</div>"
      ],
      "text/plain": [
       "   n_components  Explained_Variances  Accum_Explained_Variance  Accum_PCT\n",
       "0          PCA1             0.121065                  0.121065        NaN\n",
       "1          PCA2             0.073050                  0.194115   0.603396\n",
       "2          PCA3             0.051362                  0.245477   0.264598\n",
       "3          PCA4             0.038504                  0.283981   0.156853\n",
       "4          PCA5             0.030406                  0.314387   0.107071\n",
       "5          PCA6             0.020151                  0.334538   0.064096\n",
       "6          PCA7             0.018111                  0.352650   0.054139\n",
       "7          PCA8             0.016465                  0.369115   0.046690\n",
       "8          PCA9             0.014829                  0.383943   0.040174\n",
       "9         PCA10             0.013672                  0.397615   0.035608\n",
       "10        PCA11             0.012887                  0.410502   0.032411\n",
       "11        PCA12             0.012173                  0.422676   0.029655\n",
       "12        PCA13             0.011751                  0.434427   0.027802\n",
       "13        PCA14             0.010945                  0.445372   0.025195\n",
       "14        PCA15             0.010344                  0.455715   0.023224\n",
       "15        PCA16             0.009971                  0.465686   0.021879\n",
       "16        PCA17             0.009711                  0.475397   0.020853\n",
       "17        PCA18             0.008936                  0.484333   0.018798\n",
       "18        PCA19             0.008857                  0.493190   0.018286\n",
       "19        PCA20             0.008760                  0.501949   0.017761\n",
       "20        PCA21             0.008593                  0.510543   0.017120\n",
       "21        PCA22             0.008548                  0.519091   0.016744\n",
       "22        PCA23             0.008521                  0.527612   0.016415\n",
       "23        PCA24             0.008515                  0.536127   0.016139\n",
       "24        PCA25             0.008471                  0.544598   0.015800\n",
       "25        PCA26             0.008449                  0.553047   0.015515\n",
       "26        PCA27             0.008415                  0.561462   0.015215\n",
       "27        PCA28             0.008405                  0.569867   0.014971\n",
       "28        PCA29             0.008375                  0.578243   0.014697\n",
       "29        PCA30             0.008347                  0.586590   0.014436\n",
       "30        PCA31             0.008325                  0.594915   0.014193\n",
       "31        PCA32             0.008295                  0.603210   0.013942\n",
       "32        PCA33             0.008289                  0.611500   0.013742\n",
       "33        PCA34             0.008280                  0.619780   0.013541\n",
       "34        PCA35             0.008253                  0.628033   0.013315\n",
       "35        PCA36             0.008249                  0.636282   0.013135\n",
       "36        PCA37             0.008237                  0.644519   0.012946\n",
       "37        PCA38             0.008231                  0.652750   0.012770\n",
       "38        PCA39             0.008225                  0.660975   0.012601\n",
       "39        PCA40             0.008216                  0.669191   0.012430\n",
       "40        PCA41             0.008196                  0.677386   0.012247\n",
       "41        PCA42             0.008195                  0.685581   0.012097\n",
       "42        PCA43             0.008183                  0.693764   0.011936\n",
       "43        PCA44             0.008175                  0.701939   0.011783\n",
       "44        PCA45             0.008174                  0.710113   0.011645\n",
       "45        PCA46             0.008162                  0.718274   0.011493\n",
       "46        PCA47             0.008157                  0.726431   0.011356\n",
       "47        PCA48             0.008142                  0.734574   0.011209\n",
       "48        PCA49             0.008118                  0.742691   0.011051\n",
       "49        PCA50             0.008092                  0.750784   0.010896\n",
       "50        PCA51             0.008065                  0.758848   0.010742\n",
       "51        PCA52             0.008024                  0.766872   0.010574\n",
       "52        PCA53             0.007982                  0.774854   0.010408\n",
       "53        PCA54             0.007899                  0.782753   0.010195\n",
       "54        PCA55             0.007774                  0.790527   0.009931\n",
       "55        PCA56             0.007746                  0.798273   0.009798\n",
       "56        PCA57             0.007667                  0.805940   0.009604\n",
       "57        PCA58             0.007342                  0.813282   0.009110\n",
       "58        PCA59             0.007313                  0.820595   0.008992\n",
       "59        PCA60             0.007169                  0.827764   0.008736"
      ]
     },
     "execution_count": 53,
     "metadata": {},
     "output_type": "execute_result"
    }
   ],
   "source": [
    "pca_explained_var_df"
   ]
  },
  {
   "cell_type": "code",
   "execution_count": 54,
   "metadata": {
    "scrolled": true
   },
   "outputs": [
    {
     "data": {
      "image/png": "[encoded data removed]",
      "text/plain": [
       "<matplotlib.figure.Figure at 0x7f8a31fb14e0>"
      ]
     },
     "metadata": {
      "needs_background": "light"
     },
     "output_type": "display_data"
    }
   ],
   "source": [
    "# Re-apply PCA to the data while selecting for number of components to retain.\n",
    "pca, azdias_pca = train_pca_model(57, azdias_final_df)\n",
    "scree_plot(pca)"
   ]
  },
  {
   "cell_type": "code",
   "execution_count": 55,
   "metadata": {},
   "outputs": [
    {
     "data": {
      "text/html": [
       "<div>\n",
       "<style scoped>\n",
       "    .dataframe tbody tr th:only-of-type {\n",
       "        vertical-align: middle;\n",
       "    }\n",
       "\n",
       "    .dataframe tbody tr th {\n",
       "        vertical-align: top;\n",
       "    }\n",
       "\n",
       "    .dataframe thead th {\n",
       "        text-align: right;\n",
       "    }\n",
       "</style>\n",
       "<table border=\"1\" class=\"dataframe\">\n",
       "  <thead>\n",
       "    <tr style=\"text-align: right;\">\n",
       "      <th></th>\n",
       "      <th>Variables</th>\n",
       "      <th>PCA1</th>\n",
       "      <th>PCA2</th>\n",
       "      <th>PCA3</th>\n",
       "      <th>PCA4</th>\n",
       "      <th>PCA5</th>\n",
       "      <th>PCA6</th>\n",
       "      <th>PCA7</th>\n",
       "      <th>PCA8</th>\n",
       "      <th>PCA9</th>\n",
       "      <th>...</th>\n",
       "      <th>PCA48</th>\n",
       "      <th>PCA49</th>\n",
       "      <th>PCA50</th>\n",
       "      <th>PCA51</th>\n",
       "      <th>PCA52</th>\n",
       "      <th>PCA53</th>\n",
       "      <th>PCA54</th>\n",
       "      <th>PCA55</th>\n",
       "      <th>PCA56</th>\n",
       "      <th>PCA57</th>\n",
       "    </tr>\n",
       "  </thead>\n",
       "  <tbody>\n",
       "    <tr>\n",
       "      <th>0</th>\n",
       "      <td>ALTERSKATEGORIE_GROB</td>\n",
       "      <td>-0.070582</td>\n",
       "      <td>0.009752</td>\n",
       "      <td>0.022526</td>\n",
       "      <td>-0.181631</td>\n",
       "      <td>0.093371</td>\n",
       "      <td>-0.067252</td>\n",
       "      <td>0.031273</td>\n",
       "      <td>0.035513</td>\n",
       "      <td>0.153901</td>\n",
       "      <td>...</td>\n",
       "      <td>-0.141842</td>\n",
       "      <td>-0.048250</td>\n",
       "      <td>-0.067408</td>\n",
       "      <td>0.194508</td>\n",
       "      <td>-0.200847</td>\n",
       "      <td>0.012571</td>\n",
       "      <td>0.122175</td>\n",
       "      <td>0.133729</td>\n",
       "      <td>-0.191495</td>\n",
       "      <td>-0.100548</td>\n",
       "    </tr>\n",
       "    <tr>\n",
       "      <th>1</th>\n",
       "      <td>ANREDE_KZ</td>\n",
       "      <td>0.160642</td>\n",
       "      <td>-0.133860</td>\n",
       "      <td>-0.098795</td>\n",
       "      <td>0.037088</td>\n",
       "      <td>-0.214819</td>\n",
       "      <td>-0.066487</td>\n",
       "      <td>0.060806</td>\n",
       "      <td>-0.066115</td>\n",
       "      <td>-0.194612</td>\n",
       "      <td>...</td>\n",
       "      <td>0.003817</td>\n",
       "      <td>0.013329</td>\n",
       "      <td>0.028772</td>\n",
       "      <td>0.017133</td>\n",
       "      <td>0.012183</td>\n",
       "      <td>0.003406</td>\n",
       "      <td>0.064306</td>\n",
       "      <td>0.044246</td>\n",
       "      <td>0.035476</td>\n",
       "      <td>0.029701</td>\n",
       "    </tr>\n",
       "    <tr>\n",
       "      <th>2</th>\n",
       "      <td>CJT_GESAMTTYP</td>\n",
       "      <td>0.036246</td>\n",
       "      <td>0.058471</td>\n",
       "      <td>0.058699</td>\n",
       "      <td>0.058349</td>\n",
       "      <td>0.018477</td>\n",
       "      <td>0.103900</td>\n",
       "      <td>0.016715</td>\n",
       "      <td>0.191673</td>\n",
       "      <td>-0.110778</td>\n",
       "      <td>...</td>\n",
       "      <td>-0.036616</td>\n",
       "      <td>-0.061733</td>\n",
       "      <td>0.007857</td>\n",
       "      <td>0.014306</td>\n",
       "      <td>0.116199</td>\n",
       "      <td>0.063097</td>\n",
       "      <td>0.034041</td>\n",
       "      <td>0.023958</td>\n",
       "      <td>0.001631</td>\n",
       "      <td>-0.035403</td>\n",
       "    </tr>\n",
       "    <tr>\n",
       "      <th>3</th>\n",
       "      <td>FINANZ_MINIMALIST</td>\n",
       "      <td>-0.028649</td>\n",
       "      <td>-0.038952</td>\n",
       "      <td>0.028856</td>\n",
       "      <td>-0.036640</td>\n",
       "      <td>-0.009427</td>\n",
       "      <td>0.017924</td>\n",
       "      <td>0.039031</td>\n",
       "      <td>-0.046185</td>\n",
       "      <td>-0.033114</td>\n",
       "      <td>...</td>\n",
       "      <td>-0.010968</td>\n",
       "      <td>0.011076</td>\n",
       "      <td>0.003633</td>\n",
       "      <td>0.003553</td>\n",
       "      <td>-0.002568</td>\n",
       "      <td>-0.005149</td>\n",
       "      <td>0.005684</td>\n",
       "      <td>0.006246</td>\n",
       "      <td>0.024956</td>\n",
       "      <td>0.010867</td>\n",
       "    </tr>\n",
       "    <tr>\n",
       "      <th>4</th>\n",
       "      <td>FINANZ_SPARER</td>\n",
       "      <td>-0.008107</td>\n",
       "      <td>0.003499</td>\n",
       "      <td>0.010609</td>\n",
       "      <td>0.009254</td>\n",
       "      <td>0.012062</td>\n",
       "      <td>0.006678</td>\n",
       "      <td>0.004361</td>\n",
       "      <td>0.012779</td>\n",
       "      <td>0.034714</td>\n",
       "      <td>...</td>\n",
       "      <td>-0.215671</td>\n",
       "      <td>-0.259213</td>\n",
       "      <td>-0.301568</td>\n",
       "      <td>-0.326689</td>\n",
       "      <td>-0.080868</td>\n",
       "      <td>-0.091774</td>\n",
       "      <td>-0.122116</td>\n",
       "      <td>0.000327</td>\n",
       "      <td>0.025748</td>\n",
       "      <td>-0.071020</td>\n",
       "    </tr>\n",
       "    <tr>\n",
       "      <th>5</th>\n",
       "      <td>FINANZ_VORSORGER</td>\n",
       "      <td>-0.008456</td>\n",
       "      <td>0.011519</td>\n",
       "      <td>-0.031475</td>\n",
       "      <td>0.092580</td>\n",
       "      <td>0.035838</td>\n",
       "      <td>0.024652</td>\n",
       "      <td>0.015135</td>\n",
       "      <td>0.006657</td>\n",
       "      <td>-0.041352</td>\n",
       "      <td>...</td>\n",
       "      <td>-0.007338</td>\n",
       "      <td>-0.003699</td>\n",
       "      <td>-0.017784</td>\n",
       "      <td>-0.007453</td>\n",
       "      <td>-0.017474</td>\n",
       "      <td>-0.000061</td>\n",
       "      <td>0.000022</td>\n",
       "      <td>-0.003211</td>\n",
       "      <td>-0.007295</td>\n",
       "      <td>-0.010361</td>\n",
       "    </tr>\n",
       "    <tr>\n",
       "      <th>6</th>\n",
       "      <td>FINANZ_ANLEGER</td>\n",
       "      <td>0.012951</td>\n",
       "      <td>0.000294</td>\n",
       "      <td>0.001308</td>\n",
       "      <td>-0.001223</td>\n",
       "      <td>-0.007700</td>\n",
       "      <td>-0.000507</td>\n",
       "      <td>0.001466</td>\n",
       "      <td>0.008280</td>\n",
       "      <td>0.003027</td>\n",
       "      <td>...</td>\n",
       "      <td>0.002588</td>\n",
       "      <td>-0.002191</td>\n",
       "      <td>-0.032778</td>\n",
       "      <td>-0.016176</td>\n",
       "      <td>-0.007664</td>\n",
       "      <td>-0.021178</td>\n",
       "      <td>0.010132</td>\n",
       "      <td>0.013980</td>\n",
       "      <td>-0.028266</td>\n",
       "      <td>0.030612</td>\n",
       "    </tr>\n",
       "    <tr>\n",
       "      <th>7</th>\n",
       "      <td>FINANZ_UNAUFFAELLIGER</td>\n",
       "      <td>-0.017190</td>\n",
       "      <td>0.086632</td>\n",
       "      <td>0.081736</td>\n",
       "      <td>0.007523</td>\n",
       "      <td>0.013700</td>\n",
       "      <td>0.059987</td>\n",
       "      <td>0.003730</td>\n",
       "      <td>0.015042</td>\n",
       "      <td>-0.080855</td>\n",
       "      <td>...</td>\n",
       "      <td>0.021815</td>\n",
       "      <td>0.038726</td>\n",
       "      <td>0.032575</td>\n",
       "      <td>0.012677</td>\n",
       "      <td>-0.011145</td>\n",
       "      <td>0.003073</td>\n",
       "      <td>0.027789</td>\n",
       "      <td>-0.000078</td>\n",
       "      <td>-0.008939</td>\n",
       "      <td>-0.021265</td>\n",
       "    </tr>\n",
       "    <tr>\n",
       "      <th>8</th>\n",
       "      <td>FINANZ_HAUSBAUER</td>\n",
       "      <td>-0.022066</td>\n",
       "      <td>-0.038420</td>\n",
       "      <td>-0.009857</td>\n",
       "      <td>-0.022137</td>\n",
       "      <td>0.007018</td>\n",
       "      <td>0.003176</td>\n",
       "      <td>0.002824</td>\n",
       "      <td>-0.016768</td>\n",
       "      <td>-0.019583</td>\n",
       "      <td>...</td>\n",
       "      <td>-0.266884</td>\n",
       "      <td>-0.013606</td>\n",
       "      <td>0.211425</td>\n",
       "      <td>0.227053</td>\n",
       "      <td>0.244120</td>\n",
       "      <td>0.245065</td>\n",
       "      <td>-0.068881</td>\n",
       "      <td>-0.092641</td>\n",
       "      <td>0.000144</td>\n",
       "      <td>0.001635</td>\n",
       "    </tr>\n",
       "    <tr>\n",
       "      <th>9</th>\n",
       "      <td>FINANZTYP</td>\n",
       "      <td>0.003433</td>\n",
       "      <td>-0.005648</td>\n",
       "      <td>-0.029934</td>\n",
       "      <td>-0.051681</td>\n",
       "      <td>0.024564</td>\n",
       "      <td>0.021299</td>\n",
       "      <td>0.046291</td>\n",
       "      <td>0.013437</td>\n",
       "      <td>-0.073337</td>\n",
       "      <td>...</td>\n",
       "      <td>-0.013702</td>\n",
       "      <td>-0.001097</td>\n",
       "      <td>-0.135177</td>\n",
       "      <td>-0.094934</td>\n",
       "      <td>0.006060</td>\n",
       "      <td>-0.154460</td>\n",
       "      <td>-0.030042</td>\n",
       "      <td>-0.119209</td>\n",
       "      <td>-0.035903</td>\n",
       "      <td>-0.045498</td>\n",
       "    </tr>\n",
       "  </tbody>\n",
       "</table>\n",
       "<p>10 rows × 58 columns</p>\n",
       "</div>"
      ],
      "text/plain": [
       "               Variables      PCA1      PCA2      PCA3      PCA4      PCA5  \\\n",
       "0   ALTERSKATEGORIE_GROB -0.070582  0.009752  0.022526 -0.181631  0.093371   \n",
       "1              ANREDE_KZ  0.160642 -0.133860 -0.098795  0.037088 -0.214819   \n",
       "2          CJT_GESAMTTYP  0.036246  0.058471  0.058699  0.058349  0.018477   \n",
       "3      FINANZ_MINIMALIST -0.028649 -0.038952  0.028856 -0.036640 -0.009427   \n",
       "4          FINANZ_SPARER -0.008107  0.003499  0.010609  0.009254  0.012062   \n",
       "5       FINANZ_VORSORGER -0.008456  0.011519 -0.031475  0.092580  0.035838   \n",
       "6         FINANZ_ANLEGER  0.012951  0.000294  0.001308 -0.001223 -0.007700   \n",
       "7  FINANZ_UNAUFFAELLIGER -0.017190  0.086632  0.081736  0.007523  0.013700   \n",
       "8       FINANZ_HAUSBAUER -0.022066 -0.038420 -0.009857 -0.022137  0.007018   \n",
       "9              FINANZTYP  0.003433 -0.005648 -0.029934 -0.051681  0.024564   \n",
       "\n",
       "       PCA6      PCA7      PCA8      PCA9    ...        PCA48     PCA49  \\\n",
       "0 -0.067252  0.031273  0.035513  0.153901    ...    -0.141842 -0.048250   \n",
       "1 -0.066487  0.060806 -0.066115 -0.194612    ...     0.003817  0.013329   \n",
       "2  0.103900  0.016715  0.191673 -0.110778    ...    -0.036616 -0.061733   \n",
       "3  0.017924  0.039031 -0.046185 -0.033114    ...    -0.010968  0.011076   \n",
       "4  0.006678  0.004361  0.012779  0.034714    ...    -0.215671 -0.259213   \n",
       "5  0.024652  0.015135  0.006657 -0.041352    ...    -0.007338 -0.003699   \n",
       "6 -0.000507  0.001466  0.008280  0.003027    ...     0.002588 -0.002191   \n",
       "7  0.059987  0.003730  0.015042 -0.080855    ...     0.021815  0.038726   \n",
       "8  0.003176  0.002824 -0.016768 -0.019583    ...    -0.266884 -0.013606   \n",
       "9  0.021299  0.046291  0.013437 -0.073337    ...    -0.013702 -0.001097   \n",
       "\n",
       "      PCA50     PCA51     PCA52     PCA53     PCA54     PCA55     PCA56  \\\n",
       "0 -0.067408  0.194508 -0.200847  0.012571  0.122175  0.133729 -0.191495   \n",
       "1  0.028772  0.017133  0.012183  0.003406  0.064306  0.044246  0.035476   \n",
       "2  0.007857  0.014306  0.116199  0.063097  0.034041  0.023958  0.001631   \n",
       "3  0.003633  0.003553 -0.002568 -0.005149  0.005684  0.006246  0.024956   \n",
       "4 -0.301568 -0.326689 -0.080868 -0.091774 -0.122116  0.000327  0.025748   \n",
       "5 -0.017784 -0.007453 -0.017474 -0.000061  0.000022 -0.003211 -0.007295   \n",
       "6 -0.032778 -0.016176 -0.007664 -0.021178  0.010132  0.013980 -0.028266   \n",
       "7  0.032575  0.012677 -0.011145  0.003073  0.027789 -0.000078 -0.008939   \n",
       "8  0.211425  0.227053  0.244120  0.245065 -0.068881 -0.092641  0.000144   \n",
       "9 -0.135177 -0.094934  0.006060 -0.154460 -0.030042 -0.119209 -0.035903   \n",
       "\n",
       "      PCA57  \n",
       "0 -0.100548  \n",
       "1  0.029701  \n",
       "2 -0.035403  \n",
       "3  0.010867  \n",
       "4 -0.071020  \n",
       "5 -0.010361  \n",
       "6  0.030612  \n",
       "7 -0.021265  \n",
       "8  0.001635  \n",
       "9 -0.045498  \n",
       "\n",
       "[10 rows x 58 columns]"
      ]
     },
     "execution_count": 55,
     "metadata": {},
     "output_type": "execute_result"
    }
   ],
   "source": [
    "#generate a dataframe contains pca components data and check the weights of each variables in each components\n",
    "\n",
    "#generate a name for each component and variances that component explains\n",
    "n_components_cols = ['PCA{}'.format(i+1) for i in range(pca.components_.shape[0])]\n",
    "\n",
    "#generate a dataframe contains variables account for each component\n",
    "pca_components_values = pca.components_.astype('float64')\n",
    "pca_components_values_df = pd.DataFrame(np.reshape(pca_components_values\\\n",
    "                                        , (pca_components_values.shape[1], pca_components_values.shape[0]))\\\n",
    "                                        , columns=n_components_cols)\n",
    "\n",
    "#generate variable names dataframe\n",
    "pca_var_df = pd.DataFrame(azdias_final_df.columns, columns=['Variables'])\n",
    "pca_components_df = pca_var_df.join(pca_components_values_df)\n",
    "\n",
    "\n",
    "pca_components_df.head(10)"
   ]
  },
  {
   "cell_type": "markdown",
   "metadata": {},
   "source": [
    "### Discussion 2.2: Perform Dimensionality Reduction\n",
    "\n",
    "The accumlated increase percentage is about 1% after using 5 components. And the percentage is descreased to less than 1% after the 54 components. While the accumulated explained variables are about 80% after the 57th component. I decide to keep the first 57 components and have 80% original variables explained by the model."
   ]
  },
  {
   "cell_type": "markdown",
   "metadata": {},
   "source": [
    "### Step 2.3: Interpret Principal Components\n",
    "\n",
    "Now that we have our transformed principal components, it's a nice idea to check out the weight of each variable on the first few components to see if they can be interpreted in some fashion.\n",
    "\n",
    "As a reminder, each principal component is a unit vector that points in the direction of highest variance (after accounting for the variance captured by earlier principal components). The further a weight is from zero, the more the principal component is in the direction of the corresponding feature. If two features have large weights of the same sign (both positive or both negative), then increases in one tend expect to be associated with increases in the other. To contrast, features with different signs can be expected to show a negative correlation: increases in one variable should result in a decrease in the other.\n",
    "\n",
    "- To investigate the features, you should map each weight to their corresponding feature name, then sort the features according to weight. The most interesting features for each principal component, then, will be those at the beginning and end of the sorted list. Use the data dictionary document to help you understand these most prominent features, their relationships, and what a positive or negative value on the principal component might indicate.\n",
    "- You should investigate and interpret feature associations from the first three principal components in this substep. To help facilitate this, you should write a function that you can call at any time to print the sorted list of feature weights, for the *i*-th principal component. This might come in handy in the next step of the project, when you interpret the tendencies of the discovered clusters."
   ]
  },
  {
   "cell_type": "code",
   "execution_count": 56,
   "metadata": {},
   "outputs": [],
   "source": [
    "def components_weights(pca_col, n=5):\n",
    "    '''\n",
    "    INPUT: \n",
    "    pca_col(string): The column of PCA that needs to check\n",
    "    n(int): the number of variables need to keep in the output dataframes\n",
    "    \n",
    "    OUTPUT: \n",
    "    top_weights_df(DataFrame): a dataframe contains the top 5 variables and associated weights\n",
    "    bottom_weights_df(DataFrame): a dataframe contains the bottom variables and associated weights\n",
    "    '''\n",
    "    \n",
    "    pca_n_df = pca_components_df.loc[:,['Variables', pca_col]].sort_values(by=[pca_col], ascending = False)\n",
    "    top_weights_df = pca_n_df.head(n)\n",
    "    bottom_weights_df = pca_n_df.tail(n).sort_values(by=[pca_col])\n",
    "    \n",
    "    return top_weights_df, bottom_weights_df"
   ]
  },
  {
   "cell_type": "code",
   "execution_count": 57,
   "metadata": {},
   "outputs": [
    {
     "data": {
      "text/html": [
       "<div>\n",
       "<style scoped>\n",
       "    .dataframe tbody tr th:only-of-type {\n",
       "        vertical-align: middle;\n",
       "    }\n",
       "\n",
       "    .dataframe tbody tr th {\n",
       "        vertical-align: top;\n",
       "    }\n",
       "\n",
       "    .dataframe thead th {\n",
       "        text-align: right;\n",
       "    }\n",
       "</style>\n",
       "<table border=\"1\" class=\"dataframe\">\n",
       "  <thead>\n",
       "    <tr style=\"text-align: right;\">\n",
       "      <th></th>\n",
       "      <th>Variables</th>\n",
       "      <th>PCA1</th>\n",
       "    </tr>\n",
       "  </thead>\n",
       "  <tbody>\n",
       "    <tr>\n",
       "      <th>99</th>\n",
       "      <td>CAMEO_DEU_2015_6A</td>\n",
       "      <td>0.370313</td>\n",
       "    </tr>\n",
       "    <tr>\n",
       "      <th>31</th>\n",
       "      <td>SEMIO_DOM</td>\n",
       "      <td>0.300335</td>\n",
       "    </tr>\n",
       "    <tr>\n",
       "      <th>22</th>\n",
       "      <td>SEMIO_FAM</td>\n",
       "      <td>0.292662</td>\n",
       "    </tr>\n",
       "    <tr>\n",
       "      <th>49</th>\n",
       "      <td>WOHNLAGE</td>\n",
       "      <td>0.271543</td>\n",
       "    </tr>\n",
       "    <tr>\n",
       "      <th>105</th>\n",
       "      <td>CAMEO_DEU_2015_7A</td>\n",
       "      <td>0.239275</td>\n",
       "    </tr>\n",
       "  </tbody>\n",
       "</table>\n",
       "</div>"
      ],
      "text/plain": [
       "             Variables      PCA1\n",
       "99   CAMEO_DEU_2015_6A  0.370313\n",
       "31           SEMIO_DOM  0.300335\n",
       "22           SEMIO_FAM  0.292662\n",
       "49            WOHNLAGE  0.271543\n",
       "105  CAMEO_DEU_2015_7A  0.239275"
      ]
     },
     "execution_count": 57,
     "metadata": {},
     "output_type": "execute_result"
    }
   ],
   "source": [
    "# Map weights for the first principal component to corresponding feature names\n",
    "# and then print the linked values, sorted by weight.\n",
    "# HINT: Try defining a function here or in a new cell that you can reuse in the\n",
    "# other cells.\n",
    "pca_1st_components_top_df, pca_1st_components_bottom_df = components_weights('PCA1')\n",
    "pca_1st_components_top_df"
   ]
  },
  {
   "cell_type": "code",
   "execution_count": 58,
   "metadata": {},
   "outputs": [
    {
     "data": {
      "text/html": [
       "<div>\n",
       "<style scoped>\n",
       "    .dataframe tbody tr th:only-of-type {\n",
       "        vertical-align: middle;\n",
       "    }\n",
       "\n",
       "    .dataframe tbody tr th {\n",
       "        vertical-align: top;\n",
       "    }\n",
       "\n",
       "    .dataframe thead th {\n",
       "        text-align: right;\n",
       "    }\n",
       "</style>\n",
       "<table border=\"1\" class=\"dataframe\">\n",
       "  <thead>\n",
       "    <tr style=\"text-align: right;\">\n",
       "      <th></th>\n",
       "      <th>Variables</th>\n",
       "      <th>PCA1</th>\n",
       "    </tr>\n",
       "  </thead>\n",
       "  <tbody>\n",
       "    <tr>\n",
       "      <th>45</th>\n",
       "      <td>ANZ_HH_TITEL</td>\n",
       "      <td>-0.399721</td>\n",
       "    </tr>\n",
       "    <tr>\n",
       "      <th>64</th>\n",
       "      <td>KBA13_ANZAHL_PKW</td>\n",
       "      <td>-0.272262</td>\n",
       "    </tr>\n",
       "    <tr>\n",
       "      <th>92</th>\n",
       "      <td>CAMEO_DEU_2015_4E</td>\n",
       "      <td>-0.204053</td>\n",
       "    </tr>\n",
       "    <tr>\n",
       "      <th>14</th>\n",
       "      <td>LP_LEBENSPHASE_GROB</td>\n",
       "      <td>-0.196898</td>\n",
       "    </tr>\n",
       "    <tr>\n",
       "      <th>62</th>\n",
       "      <td>ONLINE_AFFINITAET</td>\n",
       "      <td>-0.173353</td>\n",
       "    </tr>\n",
       "  </tbody>\n",
       "</table>\n",
       "</div>"
      ],
      "text/plain": [
       "              Variables      PCA1\n",
       "45         ANZ_HH_TITEL -0.399721\n",
       "64     KBA13_ANZAHL_PKW -0.272262\n",
       "92    CAMEO_DEU_2015_4E -0.204053\n",
       "14  LP_LEBENSPHASE_GROB -0.196898\n",
       "62    ONLINE_AFFINITAET -0.173353"
      ]
     },
     "execution_count": 58,
     "metadata": {},
     "output_type": "execute_result"
    }
   ],
   "source": [
    "pca_1st_components_bottom_df"
   ]
  },
  {
   "cell_type": "code",
   "execution_count": 59,
   "metadata": {},
   "outputs": [
    {
     "data": {
      "text/html": [
       "<div>\n",
       "<style scoped>\n",
       "    .dataframe tbody tr th:only-of-type {\n",
       "        vertical-align: middle;\n",
       "    }\n",
       "\n",
       "    .dataframe tbody tr th {\n",
       "        vertical-align: top;\n",
       "    }\n",
       "\n",
       "    .dataframe thead th {\n",
       "        text-align: right;\n",
       "    }\n",
       "</style>\n",
       "<table border=\"1\" class=\"dataframe\">\n",
       "  <thead>\n",
       "    <tr style=\"text-align: right;\">\n",
       "      <th></th>\n",
       "      <th>Variables</th>\n",
       "      <th>PCA2</th>\n",
       "    </tr>\n",
       "  </thead>\n",
       "  <tbody>\n",
       "    <tr>\n",
       "      <th>75</th>\n",
       "      <td>OST_WEST_KZ_W</td>\n",
       "      <td>0.611351</td>\n",
       "    </tr>\n",
       "    <tr>\n",
       "      <th>12</th>\n",
       "      <td>HEALTH_TYP</td>\n",
       "      <td>0.456725</td>\n",
       "    </tr>\n",
       "    <tr>\n",
       "      <th>73</th>\n",
       "      <td>ORTSGR_KLS9</td>\n",
       "      <td>0.446098</td>\n",
       "    </tr>\n",
       "    <tr>\n",
       "      <th>28</th>\n",
       "      <td>SEMIO_KULT</td>\n",
       "      <td>0.286707</td>\n",
       "    </tr>\n",
       "    <tr>\n",
       "      <th>39</th>\n",
       "      <td>ANZ_PERSONEN</td>\n",
       "      <td>0.180881</td>\n",
       "    </tr>\n",
       "  </tbody>\n",
       "</table>\n",
       "</div>"
      ],
      "text/plain": [
       "        Variables      PCA2\n",
       "75  OST_WEST_KZ_W  0.611351\n",
       "12     HEALTH_TYP  0.456725\n",
       "73    ORTSGR_KLS9  0.446098\n",
       "28     SEMIO_KULT  0.286707\n",
       "39   ANZ_PERSONEN  0.180881"
      ]
     },
     "execution_count": 59,
     "metadata": {},
     "output_type": "execute_result"
    }
   ],
   "source": [
    "# Map weights for the second principal component to corresponding feature names\n",
    "# and then print the linked values, sorted by weight.\n",
    "pca_2nd_components_top_df, pca_2nd_components_bottom_df = components_weights('PCA2')\n",
    "pca_2nd_components_top_df"
   ]
  },
  {
   "cell_type": "code",
   "execution_count": 60,
   "metadata": {},
   "outputs": [
    {
     "data": {
      "text/html": [
       "<div>\n",
       "<style scoped>\n",
       "    .dataframe tbody tr th:only-of-type {\n",
       "        vertical-align: middle;\n",
       "    }\n",
       "\n",
       "    .dataframe tbody tr th {\n",
       "        vertical-align: top;\n",
       "    }\n",
       "\n",
       "    .dataframe thead th {\n",
       "        text-align: right;\n",
       "    }\n",
       "</style>\n",
       "<table border=\"1\" class=\"dataframe\">\n",
       "  <thead>\n",
       "    <tr style=\"text-align: right;\">\n",
       "      <th></th>\n",
       "      <th>Variables</th>\n",
       "      <th>PCA2</th>\n",
       "    </tr>\n",
       "  </thead>\n",
       "  <tbody>\n",
       "    <tr>\n",
       "      <th>49</th>\n",
       "      <td>WOHNLAGE</td>\n",
       "      <td>-0.285056</td>\n",
       "    </tr>\n",
       "    <tr>\n",
       "      <th>103</th>\n",
       "      <td>CAMEO_DEU_2015_6E</td>\n",
       "      <td>-0.228714</td>\n",
       "    </tr>\n",
       "    <tr>\n",
       "      <th>33</th>\n",
       "      <td>SEMIO_PFLICHT</td>\n",
       "      <td>-0.172837</td>\n",
       "    </tr>\n",
       "    <tr>\n",
       "      <th>45</th>\n",
       "      <td>ANZ_HH_TITEL</td>\n",
       "      <td>-0.171275</td>\n",
       "    </tr>\n",
       "    <tr>\n",
       "      <th>113</th>\n",
       "      <td>CAMEO_DEU_2015_8D</td>\n",
       "      <td>-0.153438</td>\n",
       "    </tr>\n",
       "  </tbody>\n",
       "</table>\n",
       "</div>"
      ],
      "text/plain": [
       "             Variables      PCA2\n",
       "49            WOHNLAGE -0.285056\n",
       "103  CAMEO_DEU_2015_6E -0.228714\n",
       "33       SEMIO_PFLICHT -0.172837\n",
       "45        ANZ_HH_TITEL -0.171275\n",
       "113  CAMEO_DEU_2015_8D -0.153438"
      ]
     },
     "execution_count": 60,
     "metadata": {},
     "output_type": "execute_result"
    }
   ],
   "source": [
    "pca_2nd_components_bottom_df"
   ]
  },
  {
   "cell_type": "code",
   "execution_count": 61,
   "metadata": {},
   "outputs": [
    {
     "data": {
      "text/html": [
       "<div>\n",
       "<style scoped>\n",
       "    .dataframe tbody tr th:only-of-type {\n",
       "        vertical-align: middle;\n",
       "    }\n",
       "\n",
       "    .dataframe tbody tr th {\n",
       "        vertical-align: top;\n",
       "    }\n",
       "\n",
       "    .dataframe thead th {\n",
       "        text-align: right;\n",
       "    }\n",
       "</style>\n",
       "<table border=\"1\" class=\"dataframe\">\n",
       "  <thead>\n",
       "    <tr style=\"text-align: right;\">\n",
       "      <th></th>\n",
       "      <th>Variables</th>\n",
       "      <th>PCA3</th>\n",
       "    </tr>\n",
       "  </thead>\n",
       "  <tbody>\n",
       "    <tr>\n",
       "      <th>12</th>\n",
       "      <td>HEALTH_TYP</td>\n",
       "      <td>0.380103</td>\n",
       "    </tr>\n",
       "    <tr>\n",
       "      <th>88</th>\n",
       "      <td>CAMEO_DEU_2015_4A</td>\n",
       "      <td>0.277275</td>\n",
       "    </tr>\n",
       "    <tr>\n",
       "      <th>103</th>\n",
       "      <td>CAMEO_DEU_2015_6E</td>\n",
       "      <td>0.216230</td>\n",
       "    </tr>\n",
       "    <tr>\n",
       "      <th>64</th>\n",
       "      <td>KBA13_ANZAHL_PKW</td>\n",
       "      <td>0.185658</td>\n",
       "    </tr>\n",
       "    <tr>\n",
       "      <th>39</th>\n",
       "      <td>ANZ_PERSONEN</td>\n",
       "      <td>0.157295</td>\n",
       "    </tr>\n",
       "  </tbody>\n",
       "</table>\n",
       "</div>"
      ],
      "text/plain": [
       "             Variables      PCA3\n",
       "12          HEALTH_TYP  0.380103\n",
       "88   CAMEO_DEU_2015_4A  0.277275\n",
       "103  CAMEO_DEU_2015_6E  0.216230\n",
       "64    KBA13_ANZAHL_PKW  0.185658\n",
       "39        ANZ_PERSONEN  0.157295"
      ]
     },
     "execution_count": 61,
     "metadata": {},
     "output_type": "execute_result"
    }
   ],
   "source": [
    "# Map weights for the third principal component to corresponding feature names\n",
    "# and then print the linked values, sorted by weight.\n",
    "pca_3rd_components_top_df, pca_3rd_components_bottom_df = components_weights('PCA3')\n",
    "pca_3rd_components_top_df"
   ]
  },
  {
   "cell_type": "code",
   "execution_count": 62,
   "metadata": {},
   "outputs": [
    {
     "data": {
      "text/html": [
       "<div>\n",
       "<style scoped>\n",
       "    .dataframe tbody tr th:only-of-type {\n",
       "        vertical-align: middle;\n",
       "    }\n",
       "\n",
       "    .dataframe tbody tr th {\n",
       "        vertical-align: top;\n",
       "    }\n",
       "\n",
       "    .dataframe thead th {\n",
       "        text-align: right;\n",
       "    }\n",
       "</style>\n",
       "<table border=\"1\" class=\"dataframe\">\n",
       "  <thead>\n",
       "    <tr style=\"text-align: right;\">\n",
       "      <th></th>\n",
       "      <th>Variables</th>\n",
       "      <th>PCA3</th>\n",
       "    </tr>\n",
       "  </thead>\n",
       "  <tbody>\n",
       "    <tr>\n",
       "      <th>114</th>\n",
       "      <td>CAMEO_DEU_2015_9A</td>\n",
       "      <td>-0.252441</td>\n",
       "    </tr>\n",
       "    <tr>\n",
       "      <th>116</th>\n",
       "      <td>CAMEO_DEU_2015_9C</td>\n",
       "      <td>-0.213186</td>\n",
       "    </tr>\n",
       "    <tr>\n",
       "      <th>75</th>\n",
       "      <td>OST_WEST_KZ_W</td>\n",
       "      <td>-0.211385</td>\n",
       "    </tr>\n",
       "    <tr>\n",
       "      <th>90</th>\n",
       "      <td>CAMEO_DEU_2015_4C</td>\n",
       "      <td>-0.206343</td>\n",
       "    </tr>\n",
       "    <tr>\n",
       "      <th>118</th>\n",
       "      <td>CAMEO_DEU_2015_9E</td>\n",
       "      <td>-0.199452</td>\n",
       "    </tr>\n",
       "  </tbody>\n",
       "</table>\n",
       "</div>"
      ],
      "text/plain": [
       "             Variables      PCA3\n",
       "114  CAMEO_DEU_2015_9A -0.252441\n",
       "116  CAMEO_DEU_2015_9C -0.213186\n",
       "75       OST_WEST_KZ_W -0.211385\n",
       "90   CAMEO_DEU_2015_4C -0.206343\n",
       "118  CAMEO_DEU_2015_9E -0.199452"
      ]
     },
     "execution_count": 62,
     "metadata": {},
     "output_type": "execute_result"
    }
   ],
   "source": [
    "pca_3rd_components_bottom_df"
   ]
  },
  {
   "cell_type": "markdown",
   "metadata": {},
   "source": [
    "### Discussion 2.3: Interpret Principal Components\n",
    "To interpret the Principal Components, I select top 5 and bottom 5 components in the first 3 principals. All the top components have positive weights, which means they are positively correclated with other variables and all the bottom components have negative weights and there are some negative correlations among the variables.\n",
    "\n",
    "For these varaibles have positive weights, these variables toward to higher values while the variables toward to lower values when their weights are negative.\n",
    "\n",
    "The first component describes the demographics that were more likely at the wealth or life stage of jobstarter(CAMEO_DEU_2016_6A 0.37) or journeymen(CAMEO_DEU_2015_7A 0.24). They more likely were singles (LP_LEBENSPHASE_GROB -0.20). They were less likely golden ager(CAMEO_DEU_2015_4E -0.20) and not dominat mided(SEMIO_DOM 0.30) nor family minded(SEMIO_FAM 0.29). They lived in poor or rural neighborhoods (WOHNLAGE 0.27). There were fewer professional academic title holders in their building (ANZ_HH_TITEL -0.40)and fewer cars in the PLZ8 region(KBA13_ANZAHL_PKW -0.27). They didn't have or had few online affinity(ONLINE_AFFINITAET\t-0.17).\n",
    "\n",
    "The second component contains the demographics that less culture minded (SEMIO_KULT 0.29) but more dutiful people (SEMIO_PFLICHT -0.17). They are more likely to be jaunty hedonists. And less likely to be urban parents or town seniors. They lived in good neighborhood (WOHNLAGE -0.285) in former west (OST_WEST_KZ_W 0.61). They lived in large communities(ORTSGR_KLS9 0.45). With more adults in the household(ANZ_PERSONEN 0.18) but had less professionals academic title holders in their buildings(ANZ_HH_TITLE -0.17). \n",
    "\n",
    "The third component shows the data of people who were also jaunty hedonists(HEALTH_TYP 0.38). They were family starter(CAMEO_DEU_2015_4A 0.28) and/or urban parents(CAMEO_DEU_2015_6E 0.21). Their wealth and life stage were not first shared apartment(CAMEO_DEU_2015_9A -0.25), afternoon talk show (CAMEO_DEU_2015_9C -0.21), string trimmer(CAMEO_DEU_2015_4C -0.20) nor socking away(CAMEO_DEU_2015_9E -0.20). They had more adults in household(ANZ_PERSONEN 0.16), their building located via former east Germany(OST_WEST_KZ_W -0.21) and they had more number of cars in the PLZ8 region(KBA13_ANZAHL_PKW 0.19)."
   ]
  },
  {
   "cell_type": "markdown",
   "metadata": {},
   "source": [
    "## Step 3: Clustering\n",
    "\n",
    "### Step 3.1: Apply Clustering to General Population\n",
    "\n",
    "You've assessed and cleaned the demographics data, then scaled and transformed them. Now, it's time to see how the data clusters in the principal components space. In this substep, you will apply k-means clustering to the dataset and use the average within-cluster distances from each point to their assigned cluster's centroid to decide on a number of clusters to keep.\n",
    "\n",
    "- Use sklearn's [KMeans](http://scikit-learn.org/stable/modules/generated/sklearn.cluster.KMeans.html#sklearn.cluster.KMeans) class to perform k-means clustering on the PCA-transformed data.\n",
    "- Then, compute the average difference from each point to its assigned cluster's center. **Hint**: The KMeans object's `.score()` method might be useful here, but note that in sklearn, scores tend to be defined so that larger is better. Try applying it to a small, toy dataset, or use an internet search to help your understanding.\n",
    "- Perform the above two steps for a number of different cluster counts. You can then see how the average distance decreases with an increasing number of clusters. However, each additional cluster provides a smaller net benefit. Use this fact to select a final number of clusters in which to group the data. **Warning**: because of the large size of the dataset, it can take a long time for the algorithm to resolve. The more clusters to fit, the longer the algorithm will take. You should test for cluster counts through at least 10 clusters to get the full picture, but you shouldn't need to test for a number of clusters above about 30.\n",
    "- Once you've selected a final number of clusters to use, re-fit a KMeans instance to perform the clustering operation. Make sure that you also obtain the cluster assignments for the general demographics data, since you'll be using them in the final Step 3.3."
   ]
  },
  {
   "cell_type": "code",
   "execution_count": 63,
   "metadata": {},
   "outputs": [],
   "source": [
    "from sklearn.cluster import KMeans\n",
    "from scipy.spatial.distance import cdist\n",
    "from sklearn import metrics\n",
    "# Over a number of different cluster counts...\n",
    "num_K = range(2, 10)\n",
    "distortions = []\n",
    "\n",
    "for n in num_K:    \n",
    "    # run k-means clustering on the data and...\n",
    "    kmeans = KMeans(n_clusters = n, random_state=123)\n",
    "    kmeans = kmeans.fit(azdias_pca)\n",
    "    \n",
    "    # compute the average within-cluster distances.\n",
    "    dist = sum(np.min(cdist(azdias_pca, kmeans.cluster_centers_, 'euclidean'), axis=1)) / azdias_pca.shape[0]\n",
    "    distortions.append(dist)"
   ]
  },
  {
   "cell_type": "code",
   "execution_count": 64,
   "metadata": {},
   "outputs": [
    {
     "data": {
      "text/plain": [
       "Text(0.5,1,'The Elbow Method showing the optimal k')"
      ]
     },
     "execution_count": 64,
     "metadata": {},
     "output_type": "execute_result"
    },
    {
     "data": {
      "image/png": "[encoded data removed]",
      "text/plain": [
       "<matplotlib.figure.Figure at 0x7f89dde02908>"
      ]
     },
     "metadata": {
      "needs_background": "light"
     },
     "output_type": "display_data"
    }
   ],
   "source": [
    "# Investigate the change in within-cluster distance across number of clusters.\n",
    "# HINT: Use matplotlib's plot function to visualize this relationship.\n",
    "plt.plot(num_K, distortions, 'bx-')\n",
    "plt.xlabel('The number of k')\n",
    "plt.ylabel('Distortion')\n",
    "plt.title('The Elbow Method showing the optimal k')"
   ]
  },
  {
   "cell_type": "code",
   "execution_count": 65,
   "metadata": {},
   "outputs": [],
   "source": [
    "# Re-fit the k-means model with the selected number of clusters and obtain\n",
    "# cluster predictions for the general population demographics data.\n",
    "kmeans = KMeans(n_clusters = 4, random_state=123)\n",
    "azdias_kmeans_pred = kmeans.fit_predict(azdias_pca)"
   ]
  },
  {
   "cell_type": "markdown",
   "metadata": {},
   "source": [
    "### Discussion 3.1: Apply Clustering to General Population\n",
    "\n",
    "There is no significant elbow in the elbow chart. However, after k = 4 the slope tends to flatten. Therefore, I pick the 4 clusters to the final model."
   ]
  },
  {
   "cell_type": "markdown",
   "metadata": {},
   "source": [
    "### Step 3.2: Apply All Steps to the Customer Data\n",
    "\n",
    "Now that you have clusters and cluster centers for the general population, it's time to see how the customer data maps on to those clusters. Take care to not confuse this for re-fitting all of the models to the customer data. Instead, you're going to use the fits from the general population to clean, transform, and cluster the customer data. In the last step of the project, you will interpret how the general population fits apply to the customer data.\n",
    "\n",
    "- Don't forget when loading in the customers data, that it is semicolon (`;`) delimited.\n",
    "- Apply the same feature wrangling, selection, and engineering steps to the customer demographics using the `clean_data()` function you created earlier. (You can assume that the customer demographics data has similar meaning behind missing data patterns as the general demographics data.)\n",
    "- Use the sklearn objects from the general demographics data, and apply their transformations to the customers data. That is, you should not be using a `.fit()` or `.fit_transform()` method to re-fit the old objects, nor should you be creating new sklearn objects! Carry the data through the feature scaling, PCA, and clustering steps, obtaining cluster assignments for all of the data in the customer demographics data."
   ]
  },
  {
   "cell_type": "code",
   "execution_count": 66,
   "metadata": {},
   "outputs": [],
   "source": [
    "# Load in the customer demographics data.\n",
    "customers = pd.read_csv('Udacity_CUSTOMERS_Subset.csv', sep = ';')"
   ]
  },
  {
   "cell_type": "code",
   "execution_count": 67,
   "metadata": {},
   "outputs": [],
   "source": [
    "# Apply preprocessing, feature transformation, and clustering from the general\n",
    "# demographics onto the customer data, obtaining cluster predictions for the\n",
    "# customer demographics data.\n",
    "customers_clean_df = clean_data(customers, missing_values_outlier)"
   ]
  },
  {
   "cell_type": "code",
   "execution_count": 68,
   "metadata": {
    "scrolled": true
   },
   "outputs": [],
   "source": [
    "customers_clean_values = imp.transform(customers_clean_df)"
   ]
  },
  {
   "cell_type": "code",
   "execution_count": 69,
   "metadata": {},
   "outputs": [],
   "source": [
    "customers_clean_values = scaler.transform(customers_clean_values)"
   ]
  },
  {
   "cell_type": "code",
   "execution_count": 70,
   "metadata": {
    "scrolled": true
   },
   "outputs": [
    {
     "data": {
      "text/html": [
       "<div>\n",
       "<style scoped>\n",
       "    .dataframe tbody tr th:only-of-type {\n",
       "        vertical-align: middle;\n",
       "    }\n",
       "\n",
       "    .dataframe tbody tr th {\n",
       "        vertical-align: top;\n",
       "    }\n",
       "\n",
       "    .dataframe thead th {\n",
       "        text-align: right;\n",
       "    }\n",
       "</style>\n",
       "<table border=\"1\" class=\"dataframe\">\n",
       "  <thead>\n",
       "    <tr style=\"text-align: right;\">\n",
       "      <th></th>\n",
       "      <th>ALTERSKATEGORIE_GROB</th>\n",
       "      <th>ANREDE_KZ</th>\n",
       "      <th>CJT_GESAMTTYP</th>\n",
       "      <th>FINANZ_MINIMALIST</th>\n",
       "      <th>FINANZ_SPARER</th>\n",
       "      <th>FINANZ_VORSORGER</th>\n",
       "      <th>FINANZ_ANLEGER</th>\n",
       "      <th>FINANZ_UNAUFFAELLIGER</th>\n",
       "      <th>FINANZ_HAUSBAUER</th>\n",
       "      <th>FINANZTYP</th>\n",
       "      <th>...</th>\n",
       "      <th>CAMEO_DEU_2015_8D</th>\n",
       "      <th>CAMEO_DEU_2015_9A</th>\n",
       "      <th>CAMEO_DEU_2015_9B</th>\n",
       "      <th>CAMEO_DEU_2015_9C</th>\n",
       "      <th>CAMEO_DEU_2015_9D</th>\n",
       "      <th>CAMEO_DEU_2015_9E</th>\n",
       "      <th>DOMINATING_MOVEMENT_TYPE_MAINSTREAM</th>\n",
       "      <th>DOMINATING_MOVEMENT_TYPE_REGION</th>\n",
       "      <th>WEALTH_TYPE</th>\n",
       "      <th>LIFE_STAGE</th>\n",
       "    </tr>\n",
       "  </thead>\n",
       "  <tbody>\n",
       "    <tr>\n",
       "      <th>0</th>\n",
       "      <td>1.164063</td>\n",
       "      <td>-1.025197</td>\n",
       "      <td>1.009256</td>\n",
       "      <td>1.411386</td>\n",
       "      <td>-1.132765</td>\n",
       "      <td>1.113406</td>\n",
       "      <td>-1.236113</td>\n",
       "      <td>-0.407255</td>\n",
       "      <td>-0.834925</td>\n",
       "      <td>-0.919189</td>\n",
       "      <td>...</td>\n",
       "      <td>-0.153788</td>\n",
       "      <td>-0.162991</td>\n",
       "      <td>-0.192113</td>\n",
       "      <td>-0.17991</td>\n",
       "      <td>-0.193076</td>\n",
       "      <td>-0.084106</td>\n",
       "      <td>-1.791117</td>\n",
       "      <td>0.567789</td>\n",
       "      <td>-1.554834</td>\n",
       "      <td>0.078819</td>\n",
       "    </tr>\n",
       "    <tr>\n",
       "      <th>1</th>\n",
       "      <td>1.164063</td>\n",
       "      <td>0.975423</td>\n",
       "      <td>-0.956578</td>\n",
       "      <td>1.411386</td>\n",
       "      <td>-1.132765</td>\n",
       "      <td>1.113406</td>\n",
       "      <td>-1.236113</td>\n",
       "      <td>1.048651</td>\n",
       "      <td>0.615786</td>\n",
       "      <td>-0.919189</td>\n",
       "      <td>...</td>\n",
       "      <td>-0.153788</td>\n",
       "      <td>-0.162991</td>\n",
       "      <td>-0.192113</td>\n",
       "      <td>-0.17991</td>\n",
       "      <td>-0.193076</td>\n",
       "      <td>-0.084106</td>\n",
       "      <td>-1.791117</td>\n",
       "      <td>0.567789</td>\n",
       "      <td>-0.189950</td>\n",
       "      <td>0.750539</td>\n",
       "    </tr>\n",
       "    <tr>\n",
       "      <th>2</th>\n",
       "      <td>0.193497</td>\n",
       "      <td>-1.025197</td>\n",
       "      <td>1.664534</td>\n",
       "      <td>-0.056134</td>\n",
       "      <td>-1.132765</td>\n",
       "      <td>0.392200</td>\n",
       "      <td>0.825941</td>\n",
       "      <td>1.776603</td>\n",
       "      <td>-0.834925</td>\n",
       "      <td>-0.919189</td>\n",
       "      <td>...</td>\n",
       "      <td>-0.153788</td>\n",
       "      <td>-0.162991</td>\n",
       "      <td>-0.192113</td>\n",
       "      <td>-0.17991</td>\n",
       "      <td>-0.193076</td>\n",
       "      <td>-0.084106</td>\n",
       "      <td>0.558311</td>\n",
       "      <td>0.567789</td>\n",
       "      <td>0.492492</td>\n",
       "      <td>-1.264621</td>\n",
       "    </tr>\n",
       "    <tr>\n",
       "      <th>3</th>\n",
       "      <td>0.193497</td>\n",
       "      <td>-1.025197</td>\n",
       "      <td>0.353978</td>\n",
       "      <td>1.411386</td>\n",
       "      <td>-1.132765</td>\n",
       "      <td>1.113406</td>\n",
       "      <td>-1.236113</td>\n",
       "      <td>-0.407255</td>\n",
       "      <td>-0.109569</td>\n",
       "      <td>0.521758</td>\n",
       "      <td>...</td>\n",
       "      <td>-0.153788</td>\n",
       "      <td>-0.162991</td>\n",
       "      <td>-0.192113</td>\n",
       "      <td>-0.17991</td>\n",
       "      <td>-0.193076</td>\n",
       "      <td>-0.084106</td>\n",
       "      <td>-1.791117</td>\n",
       "      <td>0.567789</td>\n",
       "      <td>-0.189950</td>\n",
       "      <td>0.750539</td>\n",
       "    </tr>\n",
       "    <tr>\n",
       "      <th>4</th>\n",
       "      <td>1.164063</td>\n",
       "      <td>-1.025197</td>\n",
       "      <td>-0.956578</td>\n",
       "      <td>1.411386</td>\n",
       "      <td>-1.132765</td>\n",
       "      <td>1.113406</td>\n",
       "      <td>-1.236113</td>\n",
       "      <td>-1.135207</td>\n",
       "      <td>-0.834925</td>\n",
       "      <td>-0.919189</td>\n",
       "      <td>...</td>\n",
       "      <td>-0.153788</td>\n",
       "      <td>-0.162991</td>\n",
       "      <td>-0.192113</td>\n",
       "      <td>-0.17991</td>\n",
       "      <td>-0.193076</td>\n",
       "      <td>-0.084106</td>\n",
       "      <td>-1.791117</td>\n",
       "      <td>0.567789</td>\n",
       "      <td>-0.872392</td>\n",
       "      <td>0.078819</td>\n",
       "    </tr>\n",
       "  </tbody>\n",
       "</table>\n",
       "<p>5 rows × 123 columns</p>\n",
       "</div>"
      ],
      "text/plain": [
       "   ALTERSKATEGORIE_GROB  ANREDE_KZ  CJT_GESAMTTYP  FINANZ_MINIMALIST  \\\n",
       "0              1.164063  -1.025197       1.009256           1.411386   \n",
       "1              1.164063   0.975423      -0.956578           1.411386   \n",
       "2              0.193497  -1.025197       1.664534          -0.056134   \n",
       "3              0.193497  -1.025197       0.353978           1.411386   \n",
       "4              1.164063  -1.025197      -0.956578           1.411386   \n",
       "\n",
       "   FINANZ_SPARER  FINANZ_VORSORGER  FINANZ_ANLEGER  FINANZ_UNAUFFAELLIGER  \\\n",
       "0      -1.132765          1.113406       -1.236113              -0.407255   \n",
       "1      -1.132765          1.113406       -1.236113               1.048651   \n",
       "2      -1.132765          0.392200        0.825941               1.776603   \n",
       "3      -1.132765          1.113406       -1.236113              -0.407255   \n",
       "4      -1.132765          1.113406       -1.236113              -1.135207   \n",
       "\n",
       "   FINANZ_HAUSBAUER  FINANZTYP     ...      CAMEO_DEU_2015_8D  \\\n",
       "0         -0.834925  -0.919189     ...              -0.153788   \n",
       "1          0.615786  -0.919189     ...              -0.153788   \n",
       "2         -0.834925  -0.919189     ...              -0.153788   \n",
       "3         -0.109569   0.521758     ...              -0.153788   \n",
       "4         -0.834925  -0.919189     ...              -0.153788   \n",
       "\n",
       "   CAMEO_DEU_2015_9A  CAMEO_DEU_2015_9B  CAMEO_DEU_2015_9C  CAMEO_DEU_2015_9D  \\\n",
       "0          -0.162991          -0.192113           -0.17991          -0.193076   \n",
       "1          -0.162991          -0.192113           -0.17991          -0.193076   \n",
       "2          -0.162991          -0.192113           -0.17991          -0.193076   \n",
       "3          -0.162991          -0.192113           -0.17991          -0.193076   \n",
       "4          -0.162991          -0.192113           -0.17991          -0.193076   \n",
       "\n",
       "   CAMEO_DEU_2015_9E  DOMINATING_MOVEMENT_TYPE_MAINSTREAM  \\\n",
       "0          -0.084106                            -1.791117   \n",
       "1          -0.084106                            -1.791117   \n",
       "2          -0.084106                             0.558311   \n",
       "3          -0.084106                            -1.791117   \n",
       "4          -0.084106                            -1.791117   \n",
       "\n",
       "   DOMINATING_MOVEMENT_TYPE_REGION  WEALTH_TYPE  LIFE_STAGE  \n",
       "0                         0.567789    -1.554834    0.078819  \n",
       "1                         0.567789    -0.189950    0.750539  \n",
       "2                         0.567789     0.492492   -1.264621  \n",
       "3                         0.567789    -0.189950    0.750539  \n",
       "4                         0.567789    -0.872392    0.078819  \n",
       "\n",
       "[5 rows x 123 columns]"
      ]
     },
     "execution_count": 70,
     "metadata": {},
     "output_type": "execute_result"
    }
   ],
   "source": [
    "customer_cols = customers_clean_df.columns\n",
    "customer_final_df = pd.DataFrame(customers_clean_values, columns = customer_cols)\n",
    "customer_final_df.head()"
   ]
  },
  {
   "cell_type": "code",
   "execution_count": 71,
   "metadata": {},
   "outputs": [],
   "source": [
    "customer_pca = pca.transform(customer_final_df)"
   ]
  },
  {
   "cell_type": "code",
   "execution_count": 72,
   "metadata": {},
   "outputs": [],
   "source": [
    "customer_kmeans_pred = kmeans.predict(customer_pca)"
   ]
  },
  {
   "cell_type": "markdown",
   "metadata": {},
   "source": [
    "### Step 3.3: Compare Customer Data to Demographics Data\n",
    "\n",
    "At this point, you have clustered data based on demographics of the general population of Germany, and seen how the customer data for a mail-order sales company maps onto those demographic clusters. In this final substep, you will compare the two cluster distributions to see where the strongest customer base for the company is.\n",
    "\n",
    "Consider the proportion of persons in each cluster for the general population, and the proportions for the customers. If we think the company's customer base to be universal, then the cluster assignment proportions should be fairly similar between the two. If there are only particular segments of the population that are interested in the company's products, then we should see a mismatch from one to the other. If there is a higher proportion of persons in a cluster for the customer data compared to the general population (e.g. 5% of persons are assigned to a cluster for the general population, but 15% of the customer data is closest to that cluster's centroid) then that suggests the people in that cluster to be a target audience for the company. On the other hand, the proportion of the data in a cluster being larger in the general population than the customer data (e.g. only 2% of customers closest to a population centroid that captures 6% of the data) suggests that group of persons to be outside of the target demographics.\n",
    "\n",
    "Take a look at the following points in this step:\n",
    "\n",
    "- Compute the proportion of data points in each cluster for the general population and the customer data. Visualizations will be useful here: both for the individual dataset proportions, but also to visualize the ratios in cluster representation between groups. Seaborn's [`countplot()`](https://seaborn.pydata.org/generated/seaborn.countplot.html) or [`barplot()`](https://seaborn.pydata.org/generated/seaborn.barplot.html) function could be handy.\n",
    "  - Recall the analysis you performed in step 1.1.3 of the project, where you separated out certain data points from the dataset if they had more than a specified threshold of missing values. If you found that this group was qualitatively different from the main bulk of the data, you should treat this as an additional data cluster in this analysis. Make sure that you account for the number of data points in this subset, for both the general population and customer datasets, when making your computations!\n",
    "- Which cluster or clusters are overrepresented in the customer dataset compared to the general population? Select at least one such cluster and infer what kind of people might be represented by that cluster. Use the principal component interpretations from step 2.3 or look at additional components to help you make this inference. Alternatively, you can use the `.inverse_transform()` method of the PCA and StandardScaler objects to transform centroids back to the original data space and interpret the retrieved values directly.\n",
    "- Perform a similar investigation for the underrepresented clusters. Which cluster or clusters are underrepresented in the customer dataset compared to the general population, and what kinds of people are typified by these clusters?"
   ]
  },
  {
   "cell_type": "code",
   "execution_count": 73,
   "metadata": {},
   "outputs": [],
   "source": [
    "# add cluster data back to the pca data\n",
    "azdias_final_df['cluster'] = azdias_kmeans_pred\n",
    "customer_final_df['cluster'] = customer_kmeans_pred"
   ]
  },
  {
   "cell_type": "code",
   "execution_count": 74,
   "metadata": {},
   "outputs": [],
   "source": [
    "pd.options.display.float_format = \"{:,.2f}\".format"
   ]
  },
  {
   "cell_type": "code",
   "execution_count": 75,
   "metadata": {},
   "outputs": [],
   "source": [
    "# Compare the proportion of data in each cluster for the customer data to the\n",
    "# proportion of data in each cluster for the general population.\n",
    "\n",
    "#get customer cluster data\n",
    "customer_cluster_df = pd.DataFrame(((customer_final_df['cluster'].value_counts()/customer_final_df.shape[0])*100))\n",
    "\n",
    "customer_cluster_df.rename(columns={'cluster':'proportion'}, inplace = True)\n",
    "customer_cluster_df['cluster'] = customer_cluster_df.index + 1\n",
    "\n",
    "customer_cluster_df = customer_cluster_df.sort_values(by='cluster')\n",
    "\n",
    "#get demographic cluster data\n",
    "azdias_cluster_df = pd.DataFrame((azdias_final_df['cluster'].value_counts()/azdias_final_df.shape[0])*100)\n",
    "\n",
    "azdias_cluster_df.rename(columns={'cluster':'proportion'}, inplace = True)\n",
    "azdias_cluster_df['cluster'] = azdias_cluster_df.index + 1\n",
    "\n",
    "azdias_cluster_df = azdias_cluster_df.sort_values(by='cluster')"
   ]
  },
  {
   "cell_type": "code",
   "execution_count": 76,
   "metadata": {
    "scrolled": false
   },
   "outputs": [
    {
     "data": {
      "text/plain": [
       "<matplotlib.axes._subplots.AxesSubplot at 0x7f89de21ed68>"
      ]
     },
     "execution_count": 76,
     "metadata": {},
     "output_type": "execute_result"
    },
    {
     "data": {
      "image/png": "[encoded data removed]",
      "text/plain": [
       "<matplotlib.figure.Figure at 0x7f89de7b2630>"
      ]
     },
     "metadata": {
      "needs_background": "light"
     },
     "output_type": "display_data"
    }
   ],
   "source": [
    "fig,ax =  plt.subplots(1,2, sharey=True)\n",
    "ax[0].title.set_text('Customer Data')\n",
    "ax[1].title.set_text('Demographic Data')\n",
    "sns.barplot(x = 'cluster', y = 'proportion', data = customer_cluster_df,  ax=ax[0])\n",
    "sns.barplot(x = 'cluster', y = 'proportion', data = azdias_cluster_df, ax=ax[1])"
   ]
  },
  {
   "cell_type": "code",
   "execution_count": 91,
   "metadata": {},
   "outputs": [],
   "source": [
    "# What kinds of people are part of a cluster that is overrepresented in the\n",
    "# customer data compared to the general population?\n",
    "\n",
    "cluster4_origin_values = pca.inverse_transform(kmeans.cluster_centers_[3])\n",
    "\n",
    "cluster4_origin_df = pd.DataFrame(customer_cols, columns = ['col'])\n",
    "cluster4_origin_df['values'] = cluster4_origin_values"
   ]
  },
  {
   "cell_type": "code",
   "execution_count": 105,
   "metadata": {},
   "outputs": [
    {
     "data": {
      "text/html": [
       "<div>\n",
       "<style scoped>\n",
       "    .dataframe tbody tr th:only-of-type {\n",
       "        vertical-align: middle;\n",
       "    }\n",
       "\n",
       "    .dataframe tbody tr th {\n",
       "        vertical-align: top;\n",
       "    }\n",
       "\n",
       "    .dataframe thead th {\n",
       "        text-align: right;\n",
       "    }\n",
       "</style>\n",
       "<table border=\"1\" class=\"dataframe\">\n",
       "  <thead>\n",
       "    <tr style=\"text-align: right;\">\n",
       "      <th></th>\n",
       "      <th>col</th>\n",
       "      <th>values</th>\n",
       "      <th>original_values</th>\n",
       "    </tr>\n",
       "  </thead>\n",
       "  <tbody>\n",
       "    <tr>\n",
       "      <th>18</th>\n",
       "      <td>LP_STATUS_GROB</td>\n",
       "      <td>0.95</td>\n",
       "      <td>3.88</td>\n",
       "    </tr>\n",
       "    <tr>\n",
       "      <th>3</th>\n",
       "      <td>FINANZ_MINIMALIST</td>\n",
       "      <td>0.95</td>\n",
       "      <td>4.37</td>\n",
       "    </tr>\n",
       "    <tr>\n",
       "      <th>17</th>\n",
       "      <td>LP_STATUS_FEIN</td>\n",
       "      <td>0.93</td>\n",
       "      <td>8.03</td>\n",
       "    </tr>\n",
       "    <tr>\n",
       "      <th>61</th>\n",
       "      <td>MOBI_REGIO</td>\n",
       "      <td>0.85</td>\n",
       "      <td>4.21</td>\n",
       "    </tr>\n",
       "    <tr>\n",
       "      <th>51</th>\n",
       "      <td>KBA05_ANTG1</td>\n",
       "      <td>0.83</td>\n",
       "      <td>2.69</td>\n",
       "    </tr>\n",
       "  </tbody>\n",
       "</table>\n",
       "</div>"
      ],
      "text/plain": [
       "                  col  values  original_values\n",
       "18     LP_STATUS_GROB    0.95             3.88\n",
       "3   FINANZ_MINIMALIST    0.95             4.37\n",
       "17     LP_STATUS_FEIN    0.93             8.03\n",
       "61         MOBI_REGIO    0.85             4.21\n",
       "51        KBA05_ANTG1    0.83             2.69"
      ]
     },
     "execution_count": 105,
     "metadata": {},
     "output_type": "execute_result"
    }
   ],
   "source": [
    "cluster4_origin_df['original_values'] = scaler.inverse_transform(cluster4_origin_df['values'].values.\\\n",
    "                                                                 reshape(1, 123)).reshape(123, 1)\n",
    "\n",
    "cluster4_origin_df.sort_values(by='values', ascending = False).head()"
   ]
  },
  {
   "cell_type": "code",
   "execution_count": 106,
   "metadata": {},
   "outputs": [],
   "source": [
    "# What kinds of people are part of a cluster that is underrepresented in the\n",
    "# customer data compared to the general population?\n",
    "\n",
    "# other 3 clusters are underrepresented. Especially cluster 2 and 3\n",
    "cluster3_origin_values = pca.inverse_transform(kmeans.cluster_centers_[2])\n",
    "\n",
    "cluster3_origin_df = pd.DataFrame(customer_cols, columns = ['col'])\n",
    "cluster3_origin_df['values'] = cluster3_origin_values"
   ]
  },
  {
   "cell_type": "code",
   "execution_count": 111,
   "metadata": {},
   "outputs": [
    {
     "data": {
      "text/html": [
       "<div>\n",
       "<style scoped>\n",
       "    .dataframe tbody tr th:only-of-type {\n",
       "        vertical-align: middle;\n",
       "    }\n",
       "\n",
       "    .dataframe tbody tr th {\n",
       "        vertical-align: top;\n",
       "    }\n",
       "\n",
       "    .dataframe thead th {\n",
       "        text-align: right;\n",
       "    }\n",
       "</style>\n",
       "<table border=\"1\" class=\"dataframe\">\n",
       "  <thead>\n",
       "    <tr style=\"text-align: right;\">\n",
       "      <th></th>\n",
       "      <th>col</th>\n",
       "      <th>values</th>\n",
       "      <th>original_values</th>\n",
       "    </tr>\n",
       "  </thead>\n",
       "  <tbody>\n",
       "    <tr>\n",
       "      <th>4</th>\n",
       "      <td>FINANZ_SPARER</td>\n",
       "      <td>1.10</td>\n",
       "      <td>4.28</td>\n",
       "    </tr>\n",
       "    <tr>\n",
       "      <th>23</th>\n",
       "      <td>SEMIO_REL</td>\n",
       "      <td>1.01</td>\n",
       "      <td>5.75</td>\n",
       "    </tr>\n",
       "    <tr>\n",
       "      <th>33</th>\n",
       "      <td>SEMIO_PFLICHT</td>\n",
       "      <td>1.00</td>\n",
       "      <td>5.98</td>\n",
       "    </tr>\n",
       "    <tr>\n",
       "      <th>34</th>\n",
       "      <td>SEMIO_TRADV</td>\n",
       "      <td>0.94</td>\n",
       "      <td>5.45</td>\n",
       "    </tr>\n",
       "    <tr>\n",
       "      <th>29</th>\n",
       "      <td>SEMIO_RAT</td>\n",
       "      <td>0.86</td>\n",
       "      <td>5.26</td>\n",
       "    </tr>\n",
       "  </tbody>\n",
       "</table>\n",
       "</div>"
      ],
      "text/plain": [
       "              col  values  original_values\n",
       "4   FINANZ_SPARER    1.10             4.28\n",
       "23      SEMIO_REL    1.01             5.75\n",
       "33  SEMIO_PFLICHT    1.00             5.98\n",
       "34    SEMIO_TRADV    0.94             5.45\n",
       "29      SEMIO_RAT    0.86             5.26"
      ]
     },
     "execution_count": 111,
     "metadata": {},
     "output_type": "execute_result"
    }
   ],
   "source": [
    "cluster3_origin_df['original_values'] = scaler.inverse_transform(cluster3_origin_df['values'].values.\\\n",
    "                                                                 reshape(1, 123)).reshape(123, 1)\n",
    "\n",
    "cluster3_origin_df.sort_values(by='values', ascending = False).head()"
   ]
  },
  {
   "cell_type": "markdown",
   "metadata": {},
   "source": [
    "### Discussion 3.3: Compare Customer Data to Demographics Data\n",
    "\n",
    "**Over-represented**\n",
    "The cluster 4 is overrepresented in the customer data. The top 5 variables are LP_STATUS_GROB, FINANZ_MINIMALIST, LP_STATUS_FEIN, MOBI_REGIO, KBA05_ANTG1. These variables represent\n",
    "- LP_STATUS_GROB(3.88): average earners\n",
    "- FINANZ_MINIMALIST(4.37): very low financial interest\n",
    "- LP_STATUS_FEIN(8.03): new houseowners\n",
    "- MOBI_REGIO(4.21): very low movement patterns \n",
    "- KBA05_ANTG1(2.69): High to very high share of 1-2 family houses in the microcell\n",
    "\n",
    "**Under-represented**\n",
    "The cluster 3 is under-represented in the customer data. The bottom 5 variables are FINANZ_SPARER, SEMIO_REL, SEMIO_PFLICHT, SEMIO_TRADV, SEMIO_RAT. There variables represent\n",
    "- FINANZ_SPARER(4.28): low money-saver\n",
    "- SEMIO_REL(5.75): very low affinity of religious\n",
    "- SEMIO_PFLICHT(5.98): very low affinity of dutiful\n",
    "- SEMIO_TRADV(5.45): low affinity of tradional-minded\n",
    "- SEMIO_RAT(5.26): low affinity of rational"
   ]
  },
  {
   "cell_type": "markdown",
   "metadata": {},
   "source": [
    "> Congratulations on making it this far in the project! Before you finish, make sure to check through the entire notebook from top to bottom to make sure that your analysis follows a logical flow and all of your findings are documented in **Discussion** cells. Once you've checked over all of your work, you should export the notebook as an HTML document to submit for evaluation. You can do this from the menu, navigating to **File -> Download as -> HTML (.html)**. You will submit both that document and this notebook for your project submission."
   ]
  },
  {
   "cell_type": "code",
   "execution_count": null,
   "metadata": {},
   "outputs": [],
   "source": []
  }
 ],
 "metadata": {
  "kernelspec": {
   "display_name": "Python 3",
   "language": "python",
   "name": "python3"
  },
  "language_info": {
   "codemirror_mode": {
    "name": "ipython",
    "version": 3
   },
   "file_extension": ".py",
   "mimetype": "text/x-python",
   "name": "python",
   "nbconvert_exporter": "python",
   "pygments_lexer": "ipython3",
   "version": "3.6.3"
  }
 },
 "nbformat": 4,
 "nbformat_minor": 2
}
